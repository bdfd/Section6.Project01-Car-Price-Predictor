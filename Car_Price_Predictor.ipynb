{
  "cells": [
    {
      "cell_type": "markdown",
      "metadata": {
        "id": "view-in-github",
        "colab_type": "text"
      },
      "source": [
        "<a href=\"https://colab.research.google.com/github/bdfd/Section6.Project01-Car-Price-Predictor/blob/main/Car_Price_Predictor.ipynb\" target=\"_parent\"><img src=\"https://colab.research.google.com/assets/colab-badge.svg\" alt=\"Open In Colab\"/></a>"
      ]
    },
    {
      "cell_type": "markdown",
      "metadata": {
        "id": "rceV6JtVJKqF"
      },
      "source": [
        "# Car Price Predictor"
      ]
    },
    {
      "cell_type": "markdown",
      "metadata": {
        "id": "xqjDqxmjJgUc"
      },
      "source": [
        "## Exploratory Data Analysis"
      ]
    },
    {
      "cell_type": "markdown",
      "metadata": {
        "id": "W_z2cJu6JjVX"
      },
      "source": [
        "The Background Introduction  \n",
        "Determine the Relationship Between Car Feature and Price\n",
        "\n",
        "The Approach  \n",
        "1. Perform some quick EDA(Exploratory Data Analysis)\n",
        "2. Feature Engineering\n",
        "3. Data Cleaning\n",
        "4. Encoding, Scaling and Preprocessing\n",
        "5. Traning Machine Learning Models\n",
        "5. Cross Validation and Ensembling Predictions\n",
        "\n",
        "Prediction Used Model:\n",
        "  *   1. Linear Regression\n",
        "\n",
        "Analyze information  \n",
        "1 non-binary categorical features: company  \n",
        "2 continuous features: year, kms_driven  \n",
        "1 constant feature: fuel_type  \n",
        "1 possible drop feature: name  \n",
        "1 target variable: Price  "
      ]
    },
    {
      "cell_type": "code",
      "execution_count": null,
      "metadata": {
        "colab": {
          "base_uri": "https://localhost:8080/"
        },
        "id": "i3z2-e5UFu5R",
        "outputId": "8e48c29c-a20b-4f50-ce66-a99553ff9be4"
      },
      "outputs": [
        {
          "output_type": "stream",
          "name": "stdout",
          "text": [
            "Drive already mounted at /content/drive; to attempt to forcibly remount, call drive.mount(\"/content/drive\", force_remount=True).\n",
            "/content/drive/MyDrive/3.0 Colab Project/1.0 Colab Playground\n",
            "Requirement already satisfied: catboost in /usr/local/lib/python3.10/dist-packages (from -r requirements.txt (line 1)) (1.2.2)\n",
            "Requirement already satisfied: execdata in /usr/local/lib/python3.10/dist-packages (from -r requirements.txt (line 2)) (2.2.4)\n",
            "Requirement already satisfied: fuzzy_pandas in /usr/local/lib/python3.10/dist-packages (from -r requirements.txt (line 3)) (0.1)\n",
            "Requirement already satisfied: table_nan_val in /usr/local/lib/python3.10/dist-packages (from -r requirements.txt (line 4)) (1.0.0)\n",
            "Requirement already satisfied: pickle5 in /usr/local/lib/python3.10/dist-packages (from -r requirements.txt (line 5)) (0.0.11)\n",
            "Requirement already satisfied: pyinstaller in /usr/local/lib/python3.10/dist-packages (from -r requirements.txt (line 6)) (6.1.0)\n",
            "Requirement already satisfied: pytube in /usr/local/lib/python3.10/dist-packages (from -r requirements.txt (line 7)) (15.0.0)\n",
            "Requirement already satisfied: xlwings in /usr/local/lib/python3.10/dist-packages (from -r requirements.txt (line 8)) (0.30.12)\n",
            "Requirement already satisfied: graphviz in /usr/local/lib/python3.10/dist-packages (from catboost->-r requirements.txt (line 1)) (0.20.1)\n",
            "Requirement already satisfied: matplotlib in /usr/local/lib/python3.10/dist-packages (from catboost->-r requirements.txt (line 1)) (3.7.1)\n",
            "Requirement already satisfied: numpy>=1.16.0 in /usr/local/lib/python3.10/dist-packages (from catboost->-r requirements.txt (line 1)) (1.23.5)\n",
            "Requirement already satisfied: pandas>=0.24 in /usr/local/lib/python3.10/dist-packages (from catboost->-r requirements.txt (line 1)) (1.5.3)\n",
            "Requirement already satisfied: scipy in /usr/local/lib/python3.10/dist-packages (from catboost->-r requirements.txt (line 1)) (1.11.3)\n",
            "Requirement already satisfied: plotly in /usr/local/lib/python3.10/dist-packages (from catboost->-r requirements.txt (line 1)) (5.15.0)\n",
            "Requirement already satisfied: six in /usr/local/lib/python3.10/dist-packages (from catboost->-r requirements.txt (line 1)) (1.16.0)\n",
            "Requirement already satisfied: csvmatch in /usr/local/lib/python3.10/dist-packages (from fuzzy_pandas->-r requirements.txt (line 3)) (1.24)\n",
            "Requirement already satisfied: setuptools>=42.0.0 in /usr/local/lib/python3.10/dist-packages (from pyinstaller->-r requirements.txt (line 6)) (67.7.2)\n",
            "Requirement already satisfied: altgraph in /usr/local/lib/python3.10/dist-packages (from pyinstaller->-r requirements.txt (line 6)) (0.17.4)\n",
            "Requirement already satisfied: pyinstaller-hooks-contrib>=2021.4 in /usr/local/lib/python3.10/dist-packages (from pyinstaller->-r requirements.txt (line 6)) (2023.10)\n",
            "Requirement already satisfied: packaging>=20.0 in /usr/local/lib/python3.10/dist-packages (from pyinstaller->-r requirements.txt (line 6)) (23.2)\n",
            "Requirement already satisfied: contourpy>=1.0.1 in /usr/local/lib/python3.10/dist-packages (from matplotlib->catboost->-r requirements.txt (line 1)) (1.1.1)\n",
            "Requirement already satisfied: cycler>=0.10 in /usr/local/lib/python3.10/dist-packages (from matplotlib->catboost->-r requirements.txt (line 1)) (0.12.1)\n",
            "Requirement already satisfied: fonttools>=4.22.0 in /usr/local/lib/python3.10/dist-packages (from matplotlib->catboost->-r requirements.txt (line 1)) (4.43.1)\n",
            "Requirement already satisfied: kiwisolver>=1.0.1 in /usr/local/lib/python3.10/dist-packages (from matplotlib->catboost->-r requirements.txt (line 1)) (1.4.5)\n",
            "Requirement already satisfied: pillow>=6.2.0 in /usr/local/lib/python3.10/dist-packages (from matplotlib->catboost->-r requirements.txt (line 1)) (9.4.0)\n",
            "Requirement already satisfied: pyparsing>=2.3.1 in /usr/local/lib/python3.10/dist-packages (from matplotlib->catboost->-r requirements.txt (line 1)) (3.1.1)\n",
            "Requirement already satisfied: python-dateutil>=2.7 in /usr/local/lib/python3.10/dist-packages (from matplotlib->catboost->-r requirements.txt (line 1)) (2.8.2)\n",
            "Requirement already satisfied: pytz>=2020.1 in /usr/local/lib/python3.10/dist-packages (from pandas>=0.24->catboost->-r requirements.txt (line 1)) (2023.3.post1)\n",
            "Requirement already satisfied: chardet==5.1.0 in /usr/local/lib/python3.10/dist-packages (from csvmatch->fuzzy_pandas->-r requirements.txt (line 3)) (5.1.0)\n",
            "Requirement already satisfied: tqdm==4.64.1 in /usr/local/lib/python3.10/dist-packages (from csvmatch->fuzzy_pandas->-r requirements.txt (line 3)) (4.64.1)\n",
            "Requirement already satisfied: colorama==0.4.6 in /usr/local/lib/python3.10/dist-packages (from csvmatch->fuzzy_pandas->-r requirements.txt (line 3)) (0.4.6)\n",
            "Requirement already satisfied: unidecode==1.3.6 in /usr/local/lib/python3.10/dist-packages (from csvmatch->fuzzy_pandas->-r requirements.txt (line 3)) (1.3.6)\n",
            "Requirement already satisfied: dedupe==2.0.21 in /usr/local/lib/python3.10/dist-packages (from csvmatch->fuzzy_pandas->-r requirements.txt (line 3)) (2.0.21)\n",
            "Requirement already satisfied: jellyfish==0.9.0 in /usr/local/lib/python3.10/dist-packages (from csvmatch->fuzzy_pandas->-r requirements.txt (line 3)) (0.9.0)\n",
            "Requirement already satisfied: doublemetaphone==1.1 in /usr/local/lib/python3.10/dist-packages (from csvmatch->fuzzy_pandas->-r requirements.txt (line 3)) (1.1)\n",
            "Requirement already satisfied: scikit-learn in /usr/local/lib/python3.10/dist-packages (from dedupe==2.0.21->csvmatch->fuzzy_pandas->-r requirements.txt (line 3)) (1.2.2)\n",
            "Requirement already satisfied: affinegap>=1.3 in /usr/local/lib/python3.10/dist-packages (from dedupe==2.0.21->csvmatch->fuzzy_pandas->-r requirements.txt (line 3)) (1.12)\n",
            "Requirement already satisfied: categorical-distance>=1.9 in /usr/local/lib/python3.10/dist-packages (from dedupe==2.0.21->csvmatch->fuzzy_pandas->-r requirements.txt (line 3)) (1.9)\n",
            "Requirement already satisfied: dedupe-variable-datetime in /usr/local/lib/python3.10/dist-packages (from dedupe==2.0.21->csvmatch->fuzzy_pandas->-r requirements.txt (line 3)) (0.1.5)\n",
            "Requirement already satisfied: highered>=0.2.0 in /usr/local/lib/python3.10/dist-packages (from dedupe==2.0.21->csvmatch->fuzzy_pandas->-r requirements.txt (line 3)) (0.2.1)\n",
            "Requirement already satisfied: simplecosine>=1.2 in /usr/local/lib/python3.10/dist-packages (from dedupe==2.0.21->csvmatch->fuzzy_pandas->-r requirements.txt (line 3)) (1.2)\n",
            "Requirement already satisfied: haversine>=0.4.1 in /usr/local/lib/python3.10/dist-packages (from dedupe==2.0.21->csvmatch->fuzzy_pandas->-r requirements.txt (line 3)) (2.8.0)\n",
            "Requirement already satisfied: BTrees>=4.1.4 in /usr/local/lib/python3.10/dist-packages (from dedupe==2.0.21->csvmatch->fuzzy_pandas->-r requirements.txt (line 3)) (5.1)\n",
            "Requirement already satisfied: zope.index in /usr/local/lib/python3.10/dist-packages (from dedupe==2.0.21->csvmatch->fuzzy_pandas->-r requirements.txt (line 3)) (6.0)\n",
            "Requirement already satisfied: dedupe-Levenshtein-search in /usr/local/lib/python3.10/dist-packages (from dedupe==2.0.21->csvmatch->fuzzy_pandas->-r requirements.txt (line 3)) (1.4.5)\n",
            "Requirement already satisfied: typing-extensions in /usr/local/lib/python3.10/dist-packages (from dedupe==2.0.21->csvmatch->fuzzy_pandas->-r requirements.txt (line 3)) (4.5.0)\n",
            "Requirement already satisfied: tenacity>=6.2.0 in /usr/local/lib/python3.10/dist-packages (from plotly->catboost->-r requirements.txt (line 1)) (8.2.3)\n",
            "Requirement already satisfied: persistent>=4.1.0 in /usr/local/lib/python3.10/dist-packages (from BTrees>=4.1.4->dedupe==2.0.21->csvmatch->fuzzy_pandas->-r requirements.txt (line 3)) (5.1)\n",
            "Requirement already satisfied: zope.interface>=5.0.0 in /usr/local/lib/python3.10/dist-packages (from BTrees>=4.1.4->dedupe==2.0.21->csvmatch->fuzzy_pandas->-r requirements.txt (line 3)) (6.1)\n",
            "Requirement already satisfied: pyhacrf-datamade>=0.2.0 in /usr/local/lib/python3.10/dist-packages (from highered>=0.2.0->dedupe==2.0.21->csvmatch->fuzzy_pandas->-r requirements.txt (line 3)) (0.2.6)\n",
            "Requirement already satisfied: datetime-distance in /usr/local/lib/python3.10/dist-packages (from dedupe-variable-datetime->dedupe==2.0.21->csvmatch->fuzzy_pandas->-r requirements.txt (line 3)) (0.1.3)\n",
            "Requirement already satisfied: future in /usr/local/lib/python3.10/dist-packages (from dedupe-variable-datetime->dedupe==2.0.21->csvmatch->fuzzy_pandas->-r requirements.txt (line 3)) (0.18.3)\n",
            "Requirement already satisfied: joblib>=1.1.1 in /usr/local/lib/python3.10/dist-packages (from scikit-learn->dedupe==2.0.21->csvmatch->fuzzy_pandas->-r requirements.txt (line 3)) (1.3.2)\n",
            "Requirement already satisfied: threadpoolctl>=2.0.0 in /usr/local/lib/python3.10/dist-packages (from scikit-learn->dedupe==2.0.21->csvmatch->fuzzy_pandas->-r requirements.txt (line 3)) (3.2.0)\n",
            "Requirement already satisfied: cffi in /usr/local/lib/python3.10/dist-packages (from persistent>=4.1.0->BTrees>=4.1.4->dedupe==2.0.21->csvmatch->fuzzy_pandas->-r requirements.txt (line 3)) (1.16.0)\n",
            "Requirement already satisfied: PyLBFGS>=0.1.3 in /usr/local/lib/python3.10/dist-packages (from pyhacrf-datamade>=0.2.0->highered>=0.2.0->dedupe==2.0.21->csvmatch->fuzzy_pandas->-r requirements.txt (line 3)) (0.2.0.14)\n",
            "Requirement already satisfied: pycparser in /usr/local/lib/python3.10/dist-packages (from cffi->persistent>=4.1.0->BTrees>=4.1.4->dedupe==2.0.21->csvmatch->fuzzy_pandas->-r requirements.txt (line 3)) (2.21)\n"
          ]
        }
      ],
      "source": [
        "# import from google colab\n",
        "from google.colab import drive\n",
        "drive.mount('/content/drive')\n",
        "%cd /content/drive/MyDrive/3.0 Colab Project/1.0 Colab Playground\n",
        "!pip install -r requirements.txt"
      ]
    },
    {
      "cell_type": "code",
      "execution_count": null,
      "metadata": {
        "colab": {
          "base_uri": "https://localhost:8080/"
        },
        "id": "-8lmBCg7m7Pd",
        "outputId": "b4bcd18f-48ef-4503-f60d-11d01107f7d2"
      },
      "outputs": [
        {
          "output_type": "stream",
          "name": "stdout",
          "text": [
            "package is installed.\n"
          ]
        }
      ],
      "source": [
        "#Code to verify the package installation\n",
        "try:\n",
        "  import gspread\n",
        "  print('package is installed.')\n",
        "except:\n",
        "  print('Package not found')"
      ]
    },
    {
      "cell_type": "code",
      "execution_count": null,
      "metadata": {
        "id": "-W553VMyyJP-"
      },
      "outputs": [],
      "source": [
        "# Configuration Setting\n",
        "# from google.colab import data_table\n",
        "# data_table.enable_dataframe_formatter()"
      ]
    },
    {
      "cell_type": "code",
      "execution_count": null,
      "metadata": {
        "id": "eKeCWIR3KLjf"
      },
      "outputs": [],
      "source": [
        "# Import necessary packages\n",
        "import warnings\n",
        "warnings.filterwarnings('ignore')\n",
        "import execdata as exe\n",
        "import pickle\n",
        "from tqdm import tqdm\n",
        "\n",
        "import pandas as pd\n",
        "import numpy as np\n",
        "import matplotlib.pyplot as plt\n",
        "import seaborn as sns\n",
        "import itertools\n",
        "%matplotlib inline\n",
        "sns.set(style='darkgrid', font_scale=1.4)\n",
        "\n",
        "#Scikit-Learn Fundamental Packages\n",
        "import sklearn\n",
        "from sklearn.preprocessing import StandardScaler, OneHotEncoder, MinMaxScaler, LabelEncoder\n",
        "from sklearn.model_selection import cross_val_score, train_test_split, GridSearchCV, RandomizedSearchCV, StratifiedKFold\n",
        "from sklearn.compose import ColumnTransformer, make_column_transformer\n",
        "from sklearn.pipeline import Pipeline, make_pipeline\n",
        "from sklearn.metrics import accuracy_score, confusion_matrix, precision_score, recall_score, f1_score, r2_score\n",
        "# from sklearn.metrics import roc_auc_score,roc_curve, plot_roc_curve\n",
        "from sklearn.impute import SimpleImputer\n",
        "\n",
        "# Models\n",
        "from sklearn.linear_model import LinearRegression, LogisticRegression\n",
        "from sklearn.neighbors import KNeighborsClassifier\n",
        "from sklearn.svm import SVC\n",
        "from sklearn.tree import DecisionTreeClassifier\n",
        "from sklearn.ensemble import RandomForestClassifier, VotingClassifier, BaggingClassifier, AdaBoostClassifier, GradientBoostingClassifier\n",
        "from xgboost import XGBClassifier\n",
        "from lightgbm import LGBMClassifier\n",
        "from catboost import CatBoostClassifier\n",
        "from sklearn.naive_bayes import GaussianNB"
      ]
    },
    {
      "cell_type": "code",
      "execution_count": null,
      "metadata": {
        "id": "Is5_mHncKLPA"
      },
      "outputs": [],
      "source": [
        "root_dir = '/content/drive/MyDrive'\n",
        "work_dir = '/content/drive/MyDrive/3.0 Colab Project/3.0 Github Portfolio Project/Project01-Car Price Predictor'\n",
        "data_path =f'{work_dir}/data'\n",
        "result_dir = f'{work_dir}/result'"
      ]
    },
    {
      "cell_type": "code",
      "execution_count": null,
      "metadata": {
        "id": "dAxDqQReKeuZ"
      },
      "outputs": [],
      "source": [
        "import os\n",
        "if not os.path.exists(data_path):\n",
        "  os.mkdir(data_path)"
      ]
    },
    {
      "cell_type": "code",
      "execution_count": null,
      "metadata": {
        "id": "XQCK8WKAKgfP"
      },
      "outputs": [],
      "source": [
        "import os\n",
        "if not os.path.exists(result_dir):\n",
        "  os.mkdir(result_dir)"
      ]
    },
    {
      "cell_type": "code",
      "execution_count": null,
      "metadata": {
        "colab": {
          "base_uri": "https://localhost:8080/"
        },
        "id": "-QTdEUcEKyAY",
        "outputId": "1158b148-2ace-475c-d0b7-1afba870038b"
      },
      "outputs": [
        {
          "output_type": "stream",
          "name": "stdout",
          "text": [
            "/content/drive/MyDrive/3.0 Colab Project/3.0 Github Portfolio Project/Project01-Car Price Predictor/result\n",
            "/content/drive/MyDrive/3.0 Colab Project/3.0 Github Portfolio Project/Project01-Car Price Predictor/result\n"
          ]
        }
      ],
      "source": [
        "%cd '{result_dir}'\n",
        "!pwd"
      ]
    },
    {
      "cell_type": "code",
      "execution_count": null,
      "metadata": {
        "colab": {
          "base_uri": "https://localhost:8080/",
          "height": 143
        },
        "id": "tyvK1n8cJxrw",
        "outputId": "0286ae63-95b2-4f0f-b895-33767fd253d7"
      },
      "outputs": [
        {
          "output_type": "execute_result",
          "data": {
            "text/plain": [
              "   Unnamed: 0                 name   company  year   Price  kms_driven  \\\n",
              "0           0  Hyundai Santro Xing   Hyundai  2007   80000       45000   \n",
              "1           1  Mahindra Jeep CL550  Mahindra  2006  425000          40   \n",
              "2           2    Hyundai Grand i10   Hyundai  2014  325000       28000   \n",
              "\n",
              "  fuel_type  \n",
              "0    Petrol  \n",
              "1    Diesel  \n",
              "2    Petrol  "
            ],
            "text/html": [
              "\n",
              "  <div id=\"df-c265419b-39a6-49bd-bc56-580113883fff\" class=\"colab-df-container\">\n",
              "    <div>\n",
              "<style scoped>\n",
              "    .dataframe tbody tr th:only-of-type {\n",
              "        vertical-align: middle;\n",
              "    }\n",
              "\n",
              "    .dataframe tbody tr th {\n",
              "        vertical-align: top;\n",
              "    }\n",
              "\n",
              "    .dataframe thead th {\n",
              "        text-align: right;\n",
              "    }\n",
              "</style>\n",
              "<table border=\"1\" class=\"dataframe\">\n",
              "  <thead>\n",
              "    <tr style=\"text-align: right;\">\n",
              "      <th></th>\n",
              "      <th>Unnamed: 0</th>\n",
              "      <th>name</th>\n",
              "      <th>company</th>\n",
              "      <th>year</th>\n",
              "      <th>Price</th>\n",
              "      <th>kms_driven</th>\n",
              "      <th>fuel_type</th>\n",
              "    </tr>\n",
              "  </thead>\n",
              "  <tbody>\n",
              "    <tr>\n",
              "      <th>0</th>\n",
              "      <td>0</td>\n",
              "      <td>Hyundai Santro Xing</td>\n",
              "      <td>Hyundai</td>\n",
              "      <td>2007</td>\n",
              "      <td>80000</td>\n",
              "      <td>45000</td>\n",
              "      <td>Petrol</td>\n",
              "    </tr>\n",
              "    <tr>\n",
              "      <th>1</th>\n",
              "      <td>1</td>\n",
              "      <td>Mahindra Jeep CL550</td>\n",
              "      <td>Mahindra</td>\n",
              "      <td>2006</td>\n",
              "      <td>425000</td>\n",
              "      <td>40</td>\n",
              "      <td>Diesel</td>\n",
              "    </tr>\n",
              "    <tr>\n",
              "      <th>2</th>\n",
              "      <td>2</td>\n",
              "      <td>Hyundai Grand i10</td>\n",
              "      <td>Hyundai</td>\n",
              "      <td>2014</td>\n",
              "      <td>325000</td>\n",
              "      <td>28000</td>\n",
              "      <td>Petrol</td>\n",
              "    </tr>\n",
              "  </tbody>\n",
              "</table>\n",
              "</div>\n",
              "    <div class=\"colab-df-buttons\">\n",
              "\n",
              "  <div class=\"colab-df-container\">\n",
              "    <button class=\"colab-df-convert\" onclick=\"convertToInteractive('df-c265419b-39a6-49bd-bc56-580113883fff')\"\n",
              "            title=\"Convert this dataframe to an interactive table.\"\n",
              "            style=\"display:none;\">\n",
              "\n",
              "  <svg xmlns=\"http://www.w3.org/2000/svg\" height=\"24px\" viewBox=\"0 -960 960 960\">\n",
              "    <path d=\"M120-120v-720h720v720H120Zm60-500h600v-160H180v160Zm220 220h160v-160H400v160Zm0 220h160v-160H400v160ZM180-400h160v-160H180v160Zm440 0h160v-160H620v160ZM180-180h160v-160H180v160Zm440 0h160v-160H620v160Z\"/>\n",
              "  </svg>\n",
              "    </button>\n",
              "\n",
              "  <style>\n",
              "    .colab-df-container {\n",
              "      display:flex;\n",
              "      gap: 12px;\n",
              "    }\n",
              "\n",
              "    .colab-df-convert {\n",
              "      background-color: #E8F0FE;\n",
              "      border: none;\n",
              "      border-radius: 50%;\n",
              "      cursor: pointer;\n",
              "      display: none;\n",
              "      fill: #1967D2;\n",
              "      height: 32px;\n",
              "      padding: 0 0 0 0;\n",
              "      width: 32px;\n",
              "    }\n",
              "\n",
              "    .colab-df-convert:hover {\n",
              "      background-color: #E2EBFA;\n",
              "      box-shadow: 0px 1px 2px rgba(60, 64, 67, 0.3), 0px 1px 3px 1px rgba(60, 64, 67, 0.15);\n",
              "      fill: #174EA6;\n",
              "    }\n",
              "\n",
              "    .colab-df-buttons div {\n",
              "      margin-bottom: 4px;\n",
              "    }\n",
              "\n",
              "    [theme=dark] .colab-df-convert {\n",
              "      background-color: #3B4455;\n",
              "      fill: #D2E3FC;\n",
              "    }\n",
              "\n",
              "    [theme=dark] .colab-df-convert:hover {\n",
              "      background-color: #434B5C;\n",
              "      box-shadow: 0px 1px 3px 1px rgba(0, 0, 0, 0.15);\n",
              "      filter: drop-shadow(0px 1px 2px rgba(0, 0, 0, 0.3));\n",
              "      fill: #FFFFFF;\n",
              "    }\n",
              "  </style>\n",
              "\n",
              "    <script>\n",
              "      const buttonEl =\n",
              "        document.querySelector('#df-c265419b-39a6-49bd-bc56-580113883fff button.colab-df-convert');\n",
              "      buttonEl.style.display =\n",
              "        google.colab.kernel.accessAllowed ? 'block' : 'none';\n",
              "\n",
              "      async function convertToInteractive(key) {\n",
              "        const element = document.querySelector('#df-c265419b-39a6-49bd-bc56-580113883fff');\n",
              "        const dataTable =\n",
              "          await google.colab.kernel.invokeFunction('convertToInteractive',\n",
              "                                                    [key], {});\n",
              "        if (!dataTable) return;\n",
              "\n",
              "        const docLinkHtml = 'Like what you see? Visit the ' +\n",
              "          '<a target=\"_blank\" href=https://colab.research.google.com/notebooks/data_table.ipynb>data table notebook</a>'\n",
              "          + ' to learn more about interactive tables.';\n",
              "        element.innerHTML = '';\n",
              "        dataTable['output_type'] = 'display_data';\n",
              "        await google.colab.output.renderOutput(dataTable, element);\n",
              "        const docLink = document.createElement('div');\n",
              "        docLink.innerHTML = docLinkHtml;\n",
              "        element.appendChild(docLink);\n",
              "      }\n",
              "    </script>\n",
              "  </div>\n",
              "\n",
              "\n",
              "<div id=\"df-6aea1ea5-6dc0-4943-b1d4-1496eb5049e0\">\n",
              "  <button class=\"colab-df-quickchart\" onclick=\"quickchart('df-6aea1ea5-6dc0-4943-b1d4-1496eb5049e0')\"\n",
              "            title=\"Suggest charts.\"\n",
              "            style=\"display:none;\">\n",
              "\n",
              "<svg xmlns=\"http://www.w3.org/2000/svg\" height=\"24px\"viewBox=\"0 0 24 24\"\n",
              "     width=\"24px\">\n",
              "    <g>\n",
              "        <path d=\"M19 3H5c-1.1 0-2 .9-2 2v14c0 1.1.9 2 2 2h14c1.1 0 2-.9 2-2V5c0-1.1-.9-2-2-2zM9 17H7v-7h2v7zm4 0h-2V7h2v10zm4 0h-2v-4h2v4z\"/>\n",
              "    </g>\n",
              "</svg>\n",
              "  </button>\n",
              "\n",
              "<style>\n",
              "  .colab-df-quickchart {\n",
              "      --bg-color: #E8F0FE;\n",
              "      --fill-color: #1967D2;\n",
              "      --hover-bg-color: #E2EBFA;\n",
              "      --hover-fill-color: #174EA6;\n",
              "      --disabled-fill-color: #AAA;\n",
              "      --disabled-bg-color: #DDD;\n",
              "  }\n",
              "\n",
              "  [theme=dark] .colab-df-quickchart {\n",
              "      --bg-color: #3B4455;\n",
              "      --fill-color: #D2E3FC;\n",
              "      --hover-bg-color: #434B5C;\n",
              "      --hover-fill-color: #FFFFFF;\n",
              "      --disabled-bg-color: #3B4455;\n",
              "      --disabled-fill-color: #666;\n",
              "  }\n",
              "\n",
              "  .colab-df-quickchart {\n",
              "    background-color: var(--bg-color);\n",
              "    border: none;\n",
              "    border-radius: 50%;\n",
              "    cursor: pointer;\n",
              "    display: none;\n",
              "    fill: var(--fill-color);\n",
              "    height: 32px;\n",
              "    padding: 0;\n",
              "    width: 32px;\n",
              "  }\n",
              "\n",
              "  .colab-df-quickchart:hover {\n",
              "    background-color: var(--hover-bg-color);\n",
              "    box-shadow: 0 1px 2px rgba(60, 64, 67, 0.3), 0 1px 3px 1px rgba(60, 64, 67, 0.15);\n",
              "    fill: var(--button-hover-fill-color);\n",
              "  }\n",
              "\n",
              "  .colab-df-quickchart-complete:disabled,\n",
              "  .colab-df-quickchart-complete:disabled:hover {\n",
              "    background-color: var(--disabled-bg-color);\n",
              "    fill: var(--disabled-fill-color);\n",
              "    box-shadow: none;\n",
              "  }\n",
              "\n",
              "  .colab-df-spinner {\n",
              "    border: 2px solid var(--fill-color);\n",
              "    border-color: transparent;\n",
              "    border-bottom-color: var(--fill-color);\n",
              "    animation:\n",
              "      spin 1s steps(1) infinite;\n",
              "  }\n",
              "\n",
              "  @keyframes spin {\n",
              "    0% {\n",
              "      border-color: transparent;\n",
              "      border-bottom-color: var(--fill-color);\n",
              "      border-left-color: var(--fill-color);\n",
              "    }\n",
              "    20% {\n",
              "      border-color: transparent;\n",
              "      border-left-color: var(--fill-color);\n",
              "      border-top-color: var(--fill-color);\n",
              "    }\n",
              "    30% {\n",
              "      border-color: transparent;\n",
              "      border-left-color: var(--fill-color);\n",
              "      border-top-color: var(--fill-color);\n",
              "      border-right-color: var(--fill-color);\n",
              "    }\n",
              "    40% {\n",
              "      border-color: transparent;\n",
              "      border-right-color: var(--fill-color);\n",
              "      border-top-color: var(--fill-color);\n",
              "    }\n",
              "    60% {\n",
              "      border-color: transparent;\n",
              "      border-right-color: var(--fill-color);\n",
              "    }\n",
              "    80% {\n",
              "      border-color: transparent;\n",
              "      border-right-color: var(--fill-color);\n",
              "      border-bottom-color: var(--fill-color);\n",
              "    }\n",
              "    90% {\n",
              "      border-color: transparent;\n",
              "      border-bottom-color: var(--fill-color);\n",
              "    }\n",
              "  }\n",
              "</style>\n",
              "\n",
              "  <script>\n",
              "    async function quickchart(key) {\n",
              "      const quickchartButtonEl =\n",
              "        document.querySelector('#' + key + ' button');\n",
              "      quickchartButtonEl.disabled = true;  // To prevent multiple clicks.\n",
              "      quickchartButtonEl.classList.add('colab-df-spinner');\n",
              "      try {\n",
              "        const charts = await google.colab.kernel.invokeFunction(\n",
              "            'suggestCharts', [key], {});\n",
              "      } catch (error) {\n",
              "        console.error('Error during call to suggestCharts:', error);\n",
              "      }\n",
              "      quickchartButtonEl.classList.remove('colab-df-spinner');\n",
              "      quickchartButtonEl.classList.add('colab-df-quickchart-complete');\n",
              "    }\n",
              "    (() => {\n",
              "      let quickchartButtonEl =\n",
              "        document.querySelector('#df-6aea1ea5-6dc0-4943-b1d4-1496eb5049e0 button');\n",
              "      quickchartButtonEl.style.display =\n",
              "        google.colab.kernel.accessAllowed ? 'block' : 'none';\n",
              "    })();\n",
              "  </script>\n",
              "</div>\n",
              "    </div>\n",
              "  </div>\n"
            ]
          },
          "metadata": {},
          "execution_count": 9
        }
      ],
      "source": [
        "# Alternative of Reading the dataset\n",
        "# pwd = os.getcwd()\n",
        "# data_dir = os.path.join(pwd, '50_Startups.csv')\n",
        "# df = pd.read_csv(data_dir, encoding = 'utf-8')\n",
        "# Read the dataset - switch to second link if first one not work, OP mean On Progressing\n",
        "# data_dir = 'https://raw.githubusercontent.com/bdfd/Portfolio_Project_14OP-Campus_Placement_Prediction/main/dataset'\n",
        "dataset_url_1 = 'Car_Preprocessed_Data.csv'\n",
        "df = pd.read_csv(os.path.join(result_dir,dataset_url_1), encoding = 'utf-8')\n",
        "# df2 = pd.read_csv(os.path.join(data_path,dataset_url_2), encoding = 'utf-8')\n",
        "df.head(3)"
      ]
    },
    {
      "cell_type": "code",
      "execution_count": null,
      "metadata": {
        "colab": {
          "base_uri": "https://localhost:8080/"
        },
        "id": "cOULG-BkF7jK",
        "outputId": "6268b74b-86f6-4ccd-9fd5-fb96df7ee7a9"
      },
      "outputs": [
        {
          "output_type": "stream",
          "name": "stdout",
          "text": [
            "the dataset_1 size is (816, 7)\n"
          ]
        }
      ],
      "source": [
        "print(f'the dataset_1 size is {df.shape}')"
      ]
    },
    {
      "cell_type": "code",
      "execution_count": null,
      "metadata": {
        "colab": {
          "base_uri": "https://localhost:8080/"
        },
        "id": "V80OAYocYx54",
        "outputId": "16667ab5-4ff5-4652-e87f-c21593079c92"
      },
      "outputs": [
        {
          "output_type": "execute_result",
          "data": {
            "text/plain": [
              "array(['Unnamed: 0', 'name', 'company', 'year', 'Price', 'kms_driven',\n",
              "       'fuel_type'], dtype=object)"
            ]
          },
          "metadata": {},
          "execution_count": 11
        }
      ],
      "source": [
        "# Check column name and categories\n",
        "df.columns.values"
      ]
    },
    {
      "cell_type": "code",
      "execution_count": null,
      "metadata": {
        "id": "b51r4VvVJDDz"
      },
      "outputs": [],
      "source": [
        "# Renaming the column 'A' to 'New_A'\n",
        "df.rename(columns={'Unnamed: 0': 'Index'}, inplace=True)"
      ]
    },
    {
      "cell_type": "code",
      "execution_count": null,
      "metadata": {
        "id": "QBlZNWTLJKuy"
      },
      "outputs": [],
      "source": [
        "df\n",
        "df.set_index('Index',inplace=True)"
      ]
    },
    {
      "cell_type": "code",
      "execution_count": null,
      "metadata": {
        "colab": {
          "base_uri": "https://localhost:8080/"
        },
        "id": "ji-7NxM_fFFd",
        "outputId": "8b1e4b02-08c3-4908-c85d-746ae16813f5"
      },
      "outputs": [
        {
          "output_type": "execute_result",
          "data": {
            "text/plain": [
              "Index\n",
              "0       80000\n",
              "1      425000\n",
              "2      325000\n",
              "3      575000\n",
              "4      175000\n",
              "        ...  \n",
              "811    270000\n",
              "812    110000\n",
              "813    300000\n",
              "814    260000\n",
              "815    390000\n",
              "Name: Price, Length: 816, dtype: int64"
            ]
          },
          "metadata": {},
          "execution_count": 14
        }
      ],
      "source": [
        "df['Price']"
      ]
    },
    {
      "cell_type": "code",
      "execution_count": null,
      "metadata": {
        "colab": {
          "base_uri": "https://localhost:8080/"
        },
        "id": "q1wB_X6xXnct",
        "outputId": "9da8b1db-9867-4c59-f5b9-b7698bf96bf2"
      },
      "outputs": [
        {
          "output_type": "stream",
          "name": "stdout",
          "text": [
            "<class 'pandas.core.series.Series'>\n",
            "Int64Index: 816 entries, 0 to 815\n",
            "Series name: Price\n",
            "Non-Null Count  Dtype\n",
            "--------------  -----\n",
            "816 non-null    int64\n",
            "dtypes: int64(1)\n",
            "memory usage: 12.8 KB\n"
          ]
        },
        {
          "output_type": "execute_result",
          "data": {
            "text/plain": [
              "0"
            ]
          },
          "metadata": {},
          "execution_count": 15
        }
      ],
      "source": [
        "# Find any missing or null value\n",
        "df['Price'].info()\n",
        "df['Price'].isna().sum()"
      ]
    },
    {
      "cell_type": "code",
      "execution_count": null,
      "metadata": {
        "id": "rMJh7W8AiADW"
      },
      "outputs": [],
      "source": [
        "import table_nan_val as tnv"
      ]
    },
    {
      "cell_type": "code",
      "execution_count": null,
      "metadata": {
        "colab": {
          "base_uri": "https://localhost:8080/",
          "height": 498
        },
        "id": "vPcl-MnxnMV8",
        "outputId": "704b54d7-df21-4212-f940-3c4a3e0840e8"
      },
      "outputs": [
        {
          "output_type": "stream",
          "name": "stdout",
          "text": [
            "Your selected dataframe has 6 columns.\n",
            "There are 0 columns that have missing values.\n"
          ]
        },
        {
          "output_type": "display_data",
          "data": {
            "text/plain": [
              "<Figure size 1800x600 with 1 Axes>"
            ],
            "image/png": "[encoded data removed]"
          },
          "metadata": {}
        },
        {
          "output_type": "execute_result",
          "data": {
            "text/plain": [
              "Empty DataFrame\n",
              "Columns: [index, Miss_Values, Miss_Rate, Available_Value]\n",
              "Index: []"
            ],
            "text/html": [
              "\n",
              "  <div id=\"df-e488e590-795c-41ce-817a-55fd33437d65\" class=\"colab-df-container\">\n",
              "    <div>\n",
              "<style scoped>\n",
              "    .dataframe tbody tr th:only-of-type {\n",
              "        vertical-align: middle;\n",
              "    }\n",
              "\n",
              "    .dataframe tbody tr th {\n",
              "        vertical-align: top;\n",
              "    }\n",
              "\n",
              "    .dataframe thead th {\n",
              "        text-align: right;\n",
              "    }\n",
              "</style>\n",
              "<table border=\"1\" class=\"dataframe\">\n",
              "  <thead>\n",
              "    <tr style=\"text-align: right;\">\n",
              "      <th></th>\n",
              "      <th>index</th>\n",
              "      <th>Miss_Values</th>\n",
              "      <th>Miss_Rate</th>\n",
              "      <th>Available_Value</th>\n",
              "    </tr>\n",
              "  </thead>\n",
              "  <tbody>\n",
              "  </tbody>\n",
              "</table>\n",
              "</div>\n",
              "    <div class=\"colab-df-buttons\">\n",
              "\n",
              "  <div class=\"colab-df-container\">\n",
              "    <button class=\"colab-df-convert\" onclick=\"convertToInteractive('df-e488e590-795c-41ce-817a-55fd33437d65')\"\n",
              "            title=\"Convert this dataframe to an interactive table.\"\n",
              "            style=\"display:none;\">\n",
              "\n",
              "  <svg xmlns=\"http://www.w3.org/2000/svg\" height=\"24px\" viewBox=\"0 -960 960 960\">\n",
              "    <path d=\"M120-120v-720h720v720H120Zm60-500h600v-160H180v160Zm220 220h160v-160H400v160Zm0 220h160v-160H400v160ZM180-400h160v-160H180v160Zm440 0h160v-160H620v160ZM180-180h160v-160H180v160Zm440 0h160v-160H620v160Z\"/>\n",
              "  </svg>\n",
              "    </button>\n",
              "\n",
              "  <style>\n",
              "    .colab-df-container {\n",
              "      display:flex;\n",
              "      gap: 12px;\n",
              "    }\n",
              "\n",
              "    .colab-df-convert {\n",
              "      background-color: #E8F0FE;\n",
              "      border: none;\n",
              "      border-radius: 50%;\n",
              "      cursor: pointer;\n",
              "      display: none;\n",
              "      fill: #1967D2;\n",
              "      height: 32px;\n",
              "      padding: 0 0 0 0;\n",
              "      width: 32px;\n",
              "    }\n",
              "\n",
              "    .colab-df-convert:hover {\n",
              "      background-color: #E2EBFA;\n",
              "      box-shadow: 0px 1px 2px rgba(60, 64, 67, 0.3), 0px 1px 3px 1px rgba(60, 64, 67, 0.15);\n",
              "      fill: #174EA6;\n",
              "    }\n",
              "\n",
              "    .colab-df-buttons div {\n",
              "      margin-bottom: 4px;\n",
              "    }\n",
              "\n",
              "    [theme=dark] .colab-df-convert {\n",
              "      background-color: #3B4455;\n",
              "      fill: #D2E3FC;\n",
              "    }\n",
              "\n",
              "    [theme=dark] .colab-df-convert:hover {\n",
              "      background-color: #434B5C;\n",
              "      box-shadow: 0px 1px 3px 1px rgba(0, 0, 0, 0.15);\n",
              "      filter: drop-shadow(0px 1px 2px rgba(0, 0, 0, 0.3));\n",
              "      fill: #FFFFFF;\n",
              "    }\n",
              "  </style>\n",
              "\n",
              "    <script>\n",
              "      const buttonEl =\n",
              "        document.querySelector('#df-e488e590-795c-41ce-817a-55fd33437d65 button.colab-df-convert');\n",
              "      buttonEl.style.display =\n",
              "        google.colab.kernel.accessAllowed ? 'block' : 'none';\n",
              "\n",
              "      async function convertToInteractive(key) {\n",
              "        const element = document.querySelector('#df-e488e590-795c-41ce-817a-55fd33437d65');\n",
              "        const dataTable =\n",
              "          await google.colab.kernel.invokeFunction('convertToInteractive',\n",
              "                                                    [key], {});\n",
              "        if (!dataTable) return;\n",
              "\n",
              "        const docLinkHtml = 'Like what you see? Visit the ' +\n",
              "          '<a target=\"_blank\" href=https://colab.research.google.com/notebooks/data_table.ipynb>data table notebook</a>'\n",
              "          + ' to learn more about interactive tables.';\n",
              "        element.innerHTML = '';\n",
              "        dataTable['output_type'] = 'display_data';\n",
              "        await google.colab.output.renderOutput(dataTable, element);\n",
              "        const docLink = document.createElement('div');\n",
              "        docLink.innerHTML = docLinkHtml;\n",
              "        element.appendChild(docLink);\n",
              "      }\n",
              "    </script>\n",
              "  </div>\n",
              "\n",
              "    </div>\n",
              "  </div>\n"
            ]
          },
          "metadata": {},
          "execution_count": 17
        }
      ],
      "source": [
        "tnv.Missing_Value_Analysis(df)"
      ]
    },
    {
      "cell_type": "markdown",
      "metadata": {
        "id": "n9GrahtjrUKH"
      },
      "source": [
        "## Data Cleansing"
      ]
    },
    {
      "cell_type": "code",
      "execution_count": null,
      "metadata": {
        "colab": {
          "base_uri": "https://localhost:8080/"
        },
        "id": "TPtcCWOhXm0G",
        "outputId": "c06b9c36-ed8d-4de9-eb73-c11e6d0e97dd"
      },
      "outputs": [
        {
          "output_type": "execute_result",
          "data": {
            "text/plain": [
              "(812, 6)"
            ]
          },
          "metadata": {},
          "execution_count": 18
        }
      ],
      "source": [
        "# Limit price range between 30000 and 30000000\n",
        "high_limit = 3000000\n",
        "low_limit = 30000\n",
        "\n",
        "df = df[(df['Price']<high_limit) & (df['Price']>low_limit)]\n",
        "df.shape"
      ]
    },
    {
      "cell_type": "code",
      "execution_count": null,
      "metadata": {
        "colab": {
          "base_uri": "https://localhost:8080/"
        },
        "id": "DtCWaYejMrD4",
        "outputId": "0131aeec-de35-4755-8b84-7ac75131dd67"
      },
      "outputs": [
        {
          "output_type": "stream",
          "name": "stdout",
          "text": [
            "Duplicates in this dataset frame: 100, (12.3%)\n",
            "\n"
          ]
        }
      ],
      "source": [
        "print(f'Duplicates in this dataset frame: {df.iloc[:,1:].duplicated().sum()}, ({np.round(100*df.iloc[:,1:].duplicated().sum()/len(df),1)}%)')\n",
        "print('')"
      ]
    },
    {
      "cell_type": "code",
      "execution_count": null,
      "metadata": {
        "colab": {
          "base_uri": "https://localhost:8080/",
          "height": 714
        },
        "id": "65zdUmKuUzU5",
        "outputId": "9d100b6e-d410-411a-8cde-4ef7a5c15e45"
      },
      "outputs": [
        {
          "output_type": "stream",
          "name": "stdout",
          "text": [
            "250000    16\n",
            "350000    12\n",
            "130000    11\n",
            "400000    11\n",
            "90000     10\n",
            "          ..\n",
            "799999     1\n",
            "644999     1\n",
            "520000     1\n",
            "72500      1\n",
            "500001     1\n",
            "Name: Price, Length: 269, dtype: int64\n"
          ]
        },
        {
          "output_type": "execute_result",
          "data": {
            "text/plain": [
              "<Axes: xlabel='Price', ylabel='Density'>"
            ]
          },
          "metadata": {},
          "execution_count": 20
        },
        {
          "output_type": "display_data",
          "data": {
            "text/plain": [
              "<Figure size 640x480 with 1 Axes>"
            ],
            "image/png": "[encoded data removed]"
          },
          "metadata": {}
        }
      ],
      "source": [
        "print(df['Price'].value_counts())\n",
        "sns.distplot(df['Price'])"
      ]
    },
    {
      "cell_type": "code",
      "execution_count": null,
      "metadata": {
        "colab": {
          "base_uri": "https://localhost:8080/"
        },
        "id": "0Rgn9x_fvwa0",
        "outputId": "64fb74dd-d6a0-4cb2-b7e8-f82d14c55117"
      },
      "outputs": [
        {
          "output_type": "execute_result",
          "data": {
            "text/plain": [
              "array(['Hyundai', 'Mahindra', 'Ford', 'Maruti', 'Skoda', 'Audi', 'Toyota',\n",
              "       'Renault', 'Honda', 'Datsun', 'Mitsubishi', 'Tata', 'Volkswagen',\n",
              "       'Chevrolet', 'Mini', 'BMW', 'Nissan', 'Hindustan', 'Fiat', 'Force',\n",
              "       'Mercedes', 'Land', 'Jaguar', 'Jeep', 'Volvo'], dtype=object)"
            ]
          },
          "metadata": {},
          "execution_count": 21
        }
      ],
      "source": [
        "df['company'].unique()"
      ]
    },
    {
      "cell_type": "markdown",
      "metadata": {
        "id": "o4ywItDzN7g_"
      },
      "source": [
        "### Checking Relationship of Company vs Price"
      ]
    },
    {
      "cell_type": "code",
      "execution_count": null,
      "metadata": {
        "colab": {
          "base_uri": "https://localhost:8080/",
          "height": 457
        },
        "id": "3Mgszo6rlmPe",
        "outputId": "67a9a40a-aa38-4647-dcb4-dd7969a3d481"
      },
      "outputs": [
        {
          "output_type": "execute_result",
          "data": {
            "text/plain": [
              "<Axes: >"
            ]
          },
          "metadata": {},
          "execution_count": 22
        },
        {
          "output_type": "display_data",
          "data": {
            "text/plain": [
              "<Figure size 640x480 with 1 Axes>"
            ],
            "image/png": "[encoded data removed]"
          },
          "metadata": {}
        }
      ],
      "source": [
        "df['company'].value_counts().plot(kind='barh')"
      ]
    },
    {
      "cell_type": "code",
      "execution_count": null,
      "metadata": {
        "colab": {
          "base_uri": "https://localhost:8080/",
          "height": 697
        },
        "id": "1aPgO4EcNXv6",
        "outputId": "bff73fed-5435-440b-8758-0f14702ae214"
      },
      "outputs": [
        {
          "output_type": "display_data",
          "data": {
            "text/plain": [
              "<Figure size 1500x700 with 1 Axes>"
            ],
            "image/png": "[encoded data removed]"
          },
          "metadata": {}
        }
      ],
      "source": [
        "plt.subplots(figsize=(15,7))\n",
        "ax=sns.boxplot(x='company',y='Price',data=df)\n",
        "ax.set_xticklabels(ax.get_xticklabels(),rotation=90,ha='right')\n",
        "plt.show()"
      ]
    },
    {
      "cell_type": "code",
      "execution_count": null,
      "metadata": {
        "id": "mQO8yhCxmrpb"
      },
      "outputs": [],
      "source": [
        "number = 10\n",
        "column = 'company'\n",
        "filtered_company_list = exe.filtered_value_list(df,column,number)\n",
        "filtered_company_count = exe.filtered_value_count(df,column,number)"
      ]
    },
    {
      "cell_type": "code",
      "execution_count": null,
      "metadata": {
        "colab": {
          "base_uri": "https://localhost:8080/"
        },
        "id": "g-ImH8A2Z1qv",
        "outputId": "c1df13cc-90af-4e72-f4f4-d5f2c12ba699"
      },
      "outputs": [
        {
          "output_type": "execute_result",
          "data": {
            "text/plain": [
              "['Mini',\n",
              " 'BMW',\n",
              " 'Datsun',\n",
              " 'Mitsubishi',\n",
              " 'Nissan',\n",
              " 'Mercedes',\n",
              " 'Fiat',\n",
              " 'Force',\n",
              " 'Hindustan',\n",
              " 'Jaguar',\n",
              " 'Land',\n",
              " 'Jeep',\n",
              " 'Volvo']"
            ]
          },
          "metadata": {},
          "execution_count": 25
        }
      ],
      "source": [
        "filtered_company_list"
      ]
    },
    {
      "cell_type": "code",
      "execution_count": null,
      "metadata": {
        "colab": {
          "base_uri": "https://localhost:8080/"
        },
        "id": "umN94YldZ4bv",
        "outputId": "741f15d4-2bbe-4991-e023-38aaf15cd68d"
      },
      "outputs": [
        {
          "output_type": "execute_result",
          "data": {
            "text/plain": [
              "Mini          8\n",
              "BMW           8\n",
              "Datsun        7\n",
              "Mitsubishi    6\n",
              "Nissan        6\n",
              "Mercedes      6\n",
              "Fiat          4\n",
              "Force         4\n",
              "Hindustan     3\n",
              "Jaguar        2\n",
              "Land          1\n",
              "Jeep          1\n",
              "Volvo         1\n",
              "Name: company, dtype: int64"
            ]
          },
          "metadata": {},
          "execution_count": 26
        }
      ],
      "source": [
        "filtered_company_count"
      ]
    },
    {
      "cell_type": "code",
      "execution_count": null,
      "metadata": {
        "colab": {
          "base_uri": "https://localhost:8080/"
        },
        "id": "SIbIocI2A5Jw",
        "outputId": "99785a13-c2a2-4486-e9a6-dd64c39a29ba"
      },
      "outputs": [
        {
          "output_type": "execute_result",
          "data": {
            "text/plain": [
              "(755, 6)"
            ]
          },
          "metadata": {},
          "execution_count": 27
        }
      ],
      "source": [
        "# Filter rows where 'company' is not in 'filtered_value_list'\n",
        "# after limit the car with number less than, only 755 rows left over in the dataframe\n",
        "df = df[~df['company'].isin(filtered_company_list)]\n",
        "df.shape"
      ]
    },
    {
      "cell_type": "code",
      "execution_count": null,
      "metadata": {
        "colab": {
          "base_uri": "https://localhost:8080/",
          "height": 424
        },
        "id": "RK93gsuhJblC",
        "outputId": "27e1cb2f-aa7e-4968-8cd9-ce42fdb972df"
      },
      "outputs": [
        {
          "output_type": "execute_result",
          "data": {
            "text/plain": [
              "                       name   company  year   Price  kms_driven fuel_type\n",
              "0       Hyundai Santro Xing   Hyundai  2007   80000       45000    Petrol\n",
              "1       Mahindra Jeep CL550  Mahindra  2006  425000          40    Diesel\n",
              "2         Hyundai Grand i10   Hyundai  2014  325000       28000    Petrol\n",
              "3    Ford EcoSport Titanium      Ford  2014  575000       36000    Diesel\n",
              "4                 Ford Figo      Ford  2012  175000       41000    Diesel\n",
              "..                      ...       ...   ...     ...         ...       ...\n",
              "750      Maruti Suzuki Ritz    Maruti  2011  270000       50000    Petrol\n",
              "751          Tata Indica V2      Tata  2009  110000       30000    Diesel\n",
              "752    Toyota Corolla Altis    Toyota  2009  300000      132000    Petrol\n",
              "753            Tata Zest XM      Tata  2018  260000       27000    Diesel\n",
              "754      Mahindra Quanto C8  Mahindra  2013  390000       40000    Diesel\n",
              "\n",
              "[755 rows x 6 columns]"
            ],
            "text/html": [
              "\n",
              "  <div id=\"df-29641caa-25e8-4f68-94e5-4e424b63c1ba\" class=\"colab-df-container\">\n",
              "    <div>\n",
              "<style scoped>\n",
              "    .dataframe tbody tr th:only-of-type {\n",
              "        vertical-align: middle;\n",
              "    }\n",
              "\n",
              "    .dataframe tbody tr th {\n",
              "        vertical-align: top;\n",
              "    }\n",
              "\n",
              "    .dataframe thead th {\n",
              "        text-align: right;\n",
              "    }\n",
              "</style>\n",
              "<table border=\"1\" class=\"dataframe\">\n",
              "  <thead>\n",
              "    <tr style=\"text-align: right;\">\n",
              "      <th></th>\n",
              "      <th>name</th>\n",
              "      <th>company</th>\n",
              "      <th>year</th>\n",
              "      <th>Price</th>\n",
              "      <th>kms_driven</th>\n",
              "      <th>fuel_type</th>\n",
              "    </tr>\n",
              "  </thead>\n",
              "  <tbody>\n",
              "    <tr>\n",
              "      <th>0</th>\n",
              "      <td>Hyundai Santro Xing</td>\n",
              "      <td>Hyundai</td>\n",
              "      <td>2007</td>\n",
              "      <td>80000</td>\n",
              "      <td>45000</td>\n",
              "      <td>Petrol</td>\n",
              "    </tr>\n",
              "    <tr>\n",
              "      <th>1</th>\n",
              "      <td>Mahindra Jeep CL550</td>\n",
              "      <td>Mahindra</td>\n",
              "      <td>2006</td>\n",
              "      <td>425000</td>\n",
              "      <td>40</td>\n",
              "      <td>Diesel</td>\n",
              "    </tr>\n",
              "    <tr>\n",
              "      <th>2</th>\n",
              "      <td>Hyundai Grand i10</td>\n",
              "      <td>Hyundai</td>\n",
              "      <td>2014</td>\n",
              "      <td>325000</td>\n",
              "      <td>28000</td>\n",
              "      <td>Petrol</td>\n",
              "    </tr>\n",
              "    <tr>\n",
              "      <th>3</th>\n",
              "      <td>Ford EcoSport Titanium</td>\n",
              "      <td>Ford</td>\n",
              "      <td>2014</td>\n",
              "      <td>575000</td>\n",
              "      <td>36000</td>\n",
              "      <td>Diesel</td>\n",
              "    </tr>\n",
              "    <tr>\n",
              "      <th>4</th>\n",
              "      <td>Ford Figo</td>\n",
              "      <td>Ford</td>\n",
              "      <td>2012</td>\n",
              "      <td>175000</td>\n",
              "      <td>41000</td>\n",
              "      <td>Diesel</td>\n",
              "    </tr>\n",
              "    <tr>\n",
              "      <th>...</th>\n",
              "      <td>...</td>\n",
              "      <td>...</td>\n",
              "      <td>...</td>\n",
              "      <td>...</td>\n",
              "      <td>...</td>\n",
              "      <td>...</td>\n",
              "    </tr>\n",
              "    <tr>\n",
              "      <th>750</th>\n",
              "      <td>Maruti Suzuki Ritz</td>\n",
              "      <td>Maruti</td>\n",
              "      <td>2011</td>\n",
              "      <td>270000</td>\n",
              "      <td>50000</td>\n",
              "      <td>Petrol</td>\n",
              "    </tr>\n",
              "    <tr>\n",
              "      <th>751</th>\n",
              "      <td>Tata Indica V2</td>\n",
              "      <td>Tata</td>\n",
              "      <td>2009</td>\n",
              "      <td>110000</td>\n",
              "      <td>30000</td>\n",
              "      <td>Diesel</td>\n",
              "    </tr>\n",
              "    <tr>\n",
              "      <th>752</th>\n",
              "      <td>Toyota Corolla Altis</td>\n",
              "      <td>Toyota</td>\n",
              "      <td>2009</td>\n",
              "      <td>300000</td>\n",
              "      <td>132000</td>\n",
              "      <td>Petrol</td>\n",
              "    </tr>\n",
              "    <tr>\n",
              "      <th>753</th>\n",
              "      <td>Tata Zest XM</td>\n",
              "      <td>Tata</td>\n",
              "      <td>2018</td>\n",
              "      <td>260000</td>\n",
              "      <td>27000</td>\n",
              "      <td>Diesel</td>\n",
              "    </tr>\n",
              "    <tr>\n",
              "      <th>754</th>\n",
              "      <td>Mahindra Quanto C8</td>\n",
              "      <td>Mahindra</td>\n",
              "      <td>2013</td>\n",
              "      <td>390000</td>\n",
              "      <td>40000</td>\n",
              "      <td>Diesel</td>\n",
              "    </tr>\n",
              "  </tbody>\n",
              "</table>\n",
              "<p>755 rows × 6 columns</p>\n",
              "</div>\n",
              "    <div class=\"colab-df-buttons\">\n",
              "\n",
              "  <div class=\"colab-df-container\">\n",
              "    <button class=\"colab-df-convert\" onclick=\"convertToInteractive('df-29641caa-25e8-4f68-94e5-4e424b63c1ba')\"\n",
              "            title=\"Convert this dataframe to an interactive table.\"\n",
              "            style=\"display:none;\">\n",
              "\n",
              "  <svg xmlns=\"http://www.w3.org/2000/svg\" height=\"24px\" viewBox=\"0 -960 960 960\">\n",
              "    <path d=\"M120-120v-720h720v720H120Zm60-500h600v-160H180v160Zm220 220h160v-160H400v160Zm0 220h160v-160H400v160ZM180-400h160v-160H180v160Zm440 0h160v-160H620v160ZM180-180h160v-160H180v160Zm440 0h160v-160H620v160Z\"/>\n",
              "  </svg>\n",
              "    </button>\n",
              "\n",
              "  <style>\n",
              "    .colab-df-container {\n",
              "      display:flex;\n",
              "      gap: 12px;\n",
              "    }\n",
              "\n",
              "    .colab-df-convert {\n",
              "      background-color: #E8F0FE;\n",
              "      border: none;\n",
              "      border-radius: 50%;\n",
              "      cursor: pointer;\n",
              "      display: none;\n",
              "      fill: #1967D2;\n",
              "      height: 32px;\n",
              "      padding: 0 0 0 0;\n",
              "      width: 32px;\n",
              "    }\n",
              "\n",
              "    .colab-df-convert:hover {\n",
              "      background-color: #E2EBFA;\n",
              "      box-shadow: 0px 1px 2px rgba(60, 64, 67, 0.3), 0px 1px 3px 1px rgba(60, 64, 67, 0.15);\n",
              "      fill: #174EA6;\n",
              "    }\n",
              "\n",
              "    .colab-df-buttons div {\n",
              "      margin-bottom: 4px;\n",
              "    }\n",
              "\n",
              "    [theme=dark] .colab-df-convert {\n",
              "      background-color: #3B4455;\n",
              "      fill: #D2E3FC;\n",
              "    }\n",
              "\n",
              "    [theme=dark] .colab-df-convert:hover {\n",
              "      background-color: #434B5C;\n",
              "      box-shadow: 0px 1px 3px 1px rgba(0, 0, 0, 0.15);\n",
              "      filter: drop-shadow(0px 1px 2px rgba(0, 0, 0, 0.3));\n",
              "      fill: #FFFFFF;\n",
              "    }\n",
              "  </style>\n",
              "\n",
              "    <script>\n",
              "      const buttonEl =\n",
              "        document.querySelector('#df-29641caa-25e8-4f68-94e5-4e424b63c1ba button.colab-df-convert');\n",
              "      buttonEl.style.display =\n",
              "        google.colab.kernel.accessAllowed ? 'block' : 'none';\n",
              "\n",
              "      async function convertToInteractive(key) {\n",
              "        const element = document.querySelector('#df-29641caa-25e8-4f68-94e5-4e424b63c1ba');\n",
              "        const dataTable =\n",
              "          await google.colab.kernel.invokeFunction('convertToInteractive',\n",
              "                                                    [key], {});\n",
              "        if (!dataTable) return;\n",
              "\n",
              "        const docLinkHtml = 'Like what you see? Visit the ' +\n",
              "          '<a target=\"_blank\" href=https://colab.research.google.com/notebooks/data_table.ipynb>data table notebook</a>'\n",
              "          + ' to learn more about interactive tables.';\n",
              "        element.innerHTML = '';\n",
              "        dataTable['output_type'] = 'display_data';\n",
              "        await google.colab.output.renderOutput(dataTable, element);\n",
              "        const docLink = document.createElement('div');\n",
              "        docLink.innerHTML = docLinkHtml;\n",
              "        element.appendChild(docLink);\n",
              "      }\n",
              "    </script>\n",
              "  </div>\n",
              "\n",
              "\n",
              "<div id=\"df-e1ca1e25-c886-40fb-895a-7dee56de12ea\">\n",
              "  <button class=\"colab-df-quickchart\" onclick=\"quickchart('df-e1ca1e25-c886-40fb-895a-7dee56de12ea')\"\n",
              "            title=\"Suggest charts.\"\n",
              "            style=\"display:none;\">\n",
              "\n",
              "<svg xmlns=\"http://www.w3.org/2000/svg\" height=\"24px\"viewBox=\"0 0 24 24\"\n",
              "     width=\"24px\">\n",
              "    <g>\n",
              "        <path d=\"M19 3H5c-1.1 0-2 .9-2 2v14c0 1.1.9 2 2 2h14c1.1 0 2-.9 2-2V5c0-1.1-.9-2-2-2zM9 17H7v-7h2v7zm4 0h-2V7h2v10zm4 0h-2v-4h2v4z\"/>\n",
              "    </g>\n",
              "</svg>\n",
              "  </button>\n",
              "\n",
              "<style>\n",
              "  .colab-df-quickchart {\n",
              "      --bg-color: #E8F0FE;\n",
              "      --fill-color: #1967D2;\n",
              "      --hover-bg-color: #E2EBFA;\n",
              "      --hover-fill-color: #174EA6;\n",
              "      --disabled-fill-color: #AAA;\n",
              "      --disabled-bg-color: #DDD;\n",
              "  }\n",
              "\n",
              "  [theme=dark] .colab-df-quickchart {\n",
              "      --bg-color: #3B4455;\n",
              "      --fill-color: #D2E3FC;\n",
              "      --hover-bg-color: #434B5C;\n",
              "      --hover-fill-color: #FFFFFF;\n",
              "      --disabled-bg-color: #3B4455;\n",
              "      --disabled-fill-color: #666;\n",
              "  }\n",
              "\n",
              "  .colab-df-quickchart {\n",
              "    background-color: var(--bg-color);\n",
              "    border: none;\n",
              "    border-radius: 50%;\n",
              "    cursor: pointer;\n",
              "    display: none;\n",
              "    fill: var(--fill-color);\n",
              "    height: 32px;\n",
              "    padding: 0;\n",
              "    width: 32px;\n",
              "  }\n",
              "\n",
              "  .colab-df-quickchart:hover {\n",
              "    background-color: var(--hover-bg-color);\n",
              "    box-shadow: 0 1px 2px rgba(60, 64, 67, 0.3), 0 1px 3px 1px rgba(60, 64, 67, 0.15);\n",
              "    fill: var(--button-hover-fill-color);\n",
              "  }\n",
              "\n",
              "  .colab-df-quickchart-complete:disabled,\n",
              "  .colab-df-quickchart-complete:disabled:hover {\n",
              "    background-color: var(--disabled-bg-color);\n",
              "    fill: var(--disabled-fill-color);\n",
              "    box-shadow: none;\n",
              "  }\n",
              "\n",
              "  .colab-df-spinner {\n",
              "    border: 2px solid var(--fill-color);\n",
              "    border-color: transparent;\n",
              "    border-bottom-color: var(--fill-color);\n",
              "    animation:\n",
              "      spin 1s steps(1) infinite;\n",
              "  }\n",
              "\n",
              "  @keyframes spin {\n",
              "    0% {\n",
              "      border-color: transparent;\n",
              "      border-bottom-color: var(--fill-color);\n",
              "      border-left-color: var(--fill-color);\n",
              "    }\n",
              "    20% {\n",
              "      border-color: transparent;\n",
              "      border-left-color: var(--fill-color);\n",
              "      border-top-color: var(--fill-color);\n",
              "    }\n",
              "    30% {\n",
              "      border-color: transparent;\n",
              "      border-left-color: var(--fill-color);\n",
              "      border-top-color: var(--fill-color);\n",
              "      border-right-color: var(--fill-color);\n",
              "    }\n",
              "    40% {\n",
              "      border-color: transparent;\n",
              "      border-right-color: var(--fill-color);\n",
              "      border-top-color: var(--fill-color);\n",
              "    }\n",
              "    60% {\n",
              "      border-color: transparent;\n",
              "      border-right-color: var(--fill-color);\n",
              "    }\n",
              "    80% {\n",
              "      border-color: transparent;\n",
              "      border-right-color: var(--fill-color);\n",
              "      border-bottom-color: var(--fill-color);\n",
              "    }\n",
              "    90% {\n",
              "      border-color: transparent;\n",
              "      border-bottom-color: var(--fill-color);\n",
              "    }\n",
              "  }\n",
              "</style>\n",
              "\n",
              "  <script>\n",
              "    async function quickchart(key) {\n",
              "      const quickchartButtonEl =\n",
              "        document.querySelector('#' + key + ' button');\n",
              "      quickchartButtonEl.disabled = true;  // To prevent multiple clicks.\n",
              "      quickchartButtonEl.classList.add('colab-df-spinner');\n",
              "      try {\n",
              "        const charts = await google.colab.kernel.invokeFunction(\n",
              "            'suggestCharts', [key], {});\n",
              "      } catch (error) {\n",
              "        console.error('Error during call to suggestCharts:', error);\n",
              "      }\n",
              "      quickchartButtonEl.classList.remove('colab-df-spinner');\n",
              "      quickchartButtonEl.classList.add('colab-df-quickchart-complete');\n",
              "    }\n",
              "    (() => {\n",
              "      let quickchartButtonEl =\n",
              "        document.querySelector('#df-e1ca1e25-c886-40fb-895a-7dee56de12ea button');\n",
              "      quickchartButtonEl.style.display =\n",
              "        google.colab.kernel.accessAllowed ? 'block' : 'none';\n",
              "    })();\n",
              "  </script>\n",
              "</div>\n",
              "    </div>\n",
              "  </div>\n"
            ]
          },
          "metadata": {},
          "execution_count": 28
        }
      ],
      "source": [
        "df.reset_index(inplace=True)\n",
        "# reset index column and deleting the first column(Original Index Column)\n",
        "df = df.iloc[:, 1:]\n",
        "df"
      ]
    },
    {
      "cell_type": "code",
      "execution_count": null,
      "metadata": {
        "colab": {
          "base_uri": "https://localhost:8080/",
          "height": 697
        },
        "id": "IEqwxiRqkz3X",
        "outputId": "1b1de637-36d5-4975-b1c6-e73163686dcd"
      },
      "outputs": [
        {
          "output_type": "display_data",
          "data": {
            "text/plain": [
              "<Figure size 1500x700 with 1 Axes>"
            ],
            "image/png": "[encoded data removed]"
          },
          "metadata": {}
        }
      ],
      "source": [
        "plt.subplots(figsize=(15,7))\n",
        "ax=sns.boxplot(x='company',y='Price',data=df)\n",
        "ax.set_xticklabels(ax.get_xticklabels(),rotation=90,ha='right')\n",
        "plt.show()"
      ]
    },
    {
      "cell_type": "code",
      "execution_count": null,
      "metadata": {
        "colab": {
          "base_uri": "https://localhost:8080/"
        },
        "id": "aOCOIoLNPGg3",
        "outputId": "b4598537-fa41-4dd2-f01f-576dd5de10a5"
      },
      "outputs": [
        {
          "output_type": "execute_result",
          "data": {
            "text/plain": [
              "(754, 6)"
            ]
          },
          "metadata": {},
          "execution_count": 30
        }
      ],
      "source": [
        "# Limit price range between low and high limit\n",
        "high_limit = 2500000\n",
        "low_limit = 30000\n",
        "\n",
        "df = df[(df['Price']<high_limit) & (df['Price']>low_limit)]\n",
        "df.shape"
      ]
    },
    {
      "cell_type": "code",
      "execution_count": null,
      "metadata": {
        "colab": {
          "base_uri": "https://localhost:8080/",
          "height": 670
        },
        "id": "QJch5IWoPdnz",
        "outputId": "6cd93739-8b40-418f-b71c-d2f91f37b347"
      },
      "outputs": [
        {
          "output_type": "display_data",
          "data": {
            "text/plain": [
              "<Figure size 1500x700 with 1 Axes>"
            ],
            "image/png": "[encoded data removed]"
          },
          "metadata": {}
        }
      ],
      "source": [
        "plt.subplots(figsize=(15,7))\n",
        "ax=sns.boxplot(x='company',y='Price',data=df)\n",
        "ax.set(ylim=(0, 2500000))\n",
        "ax.set_xticklabels(ax.get_xticklabels(),rotation=40,ha='right')\n",
        "plt.show()"
      ]
    },
    {
      "cell_type": "code",
      "execution_count": null,
      "metadata": {
        "colab": {
          "base_uri": "https://localhost:8080/",
          "height": 424
        },
        "id": "ygZL9MM0Lfjh",
        "outputId": "8742c69e-8cb7-4146-f84c-7319c1d1876e"
      },
      "outputs": [
        {
          "output_type": "execute_result",
          "data": {
            "text/plain": [
              "                       name   company  year   Price  kms_driven fuel_type\n",
              "0       Hyundai Santro Xing   Hyundai  2007   80000       45000    Petrol\n",
              "1       Mahindra Jeep CL550  Mahindra  2006  425000          40    Diesel\n",
              "2         Hyundai Grand i10   Hyundai  2014  325000       28000    Petrol\n",
              "3    Ford EcoSport Titanium      Ford  2014  575000       36000    Diesel\n",
              "4                 Ford Figo      Ford  2012  175000       41000    Diesel\n",
              "..                      ...       ...   ...     ...         ...       ...\n",
              "749      Maruti Suzuki Ritz    Maruti  2011  270000       50000    Petrol\n",
              "750          Tata Indica V2      Tata  2009  110000       30000    Diesel\n",
              "751    Toyota Corolla Altis    Toyota  2009  300000      132000    Petrol\n",
              "752            Tata Zest XM      Tata  2018  260000       27000    Diesel\n",
              "753      Mahindra Quanto C8  Mahindra  2013  390000       40000    Diesel\n",
              "\n",
              "[754 rows x 6 columns]"
            ],
            "text/html": [
              "\n",
              "  <div id=\"df-d7a5103a-e47c-4961-babc-e3b15882dd1c\" class=\"colab-df-container\">\n",
              "    <div>\n",
              "<style scoped>\n",
              "    .dataframe tbody tr th:only-of-type {\n",
              "        vertical-align: middle;\n",
              "    }\n",
              "\n",
              "    .dataframe tbody tr th {\n",
              "        vertical-align: top;\n",
              "    }\n",
              "\n",
              "    .dataframe thead th {\n",
              "        text-align: right;\n",
              "    }\n",
              "</style>\n",
              "<table border=\"1\" class=\"dataframe\">\n",
              "  <thead>\n",
              "    <tr style=\"text-align: right;\">\n",
              "      <th></th>\n",
              "      <th>name</th>\n",
              "      <th>company</th>\n",
              "      <th>year</th>\n",
              "      <th>Price</th>\n",
              "      <th>kms_driven</th>\n",
              "      <th>fuel_type</th>\n",
              "    </tr>\n",
              "  </thead>\n",
              "  <tbody>\n",
              "    <tr>\n",
              "      <th>0</th>\n",
              "      <td>Hyundai Santro Xing</td>\n",
              "      <td>Hyundai</td>\n",
              "      <td>2007</td>\n",
              "      <td>80000</td>\n",
              "      <td>45000</td>\n",
              "      <td>Petrol</td>\n",
              "    </tr>\n",
              "    <tr>\n",
              "      <th>1</th>\n",
              "      <td>Mahindra Jeep CL550</td>\n",
              "      <td>Mahindra</td>\n",
              "      <td>2006</td>\n",
              "      <td>425000</td>\n",
              "      <td>40</td>\n",
              "      <td>Diesel</td>\n",
              "    </tr>\n",
              "    <tr>\n",
              "      <th>2</th>\n",
              "      <td>Hyundai Grand i10</td>\n",
              "      <td>Hyundai</td>\n",
              "      <td>2014</td>\n",
              "      <td>325000</td>\n",
              "      <td>28000</td>\n",
              "      <td>Petrol</td>\n",
              "    </tr>\n",
              "    <tr>\n",
              "      <th>3</th>\n",
              "      <td>Ford EcoSport Titanium</td>\n",
              "      <td>Ford</td>\n",
              "      <td>2014</td>\n",
              "      <td>575000</td>\n",
              "      <td>36000</td>\n",
              "      <td>Diesel</td>\n",
              "    </tr>\n",
              "    <tr>\n",
              "      <th>4</th>\n",
              "      <td>Ford Figo</td>\n",
              "      <td>Ford</td>\n",
              "      <td>2012</td>\n",
              "      <td>175000</td>\n",
              "      <td>41000</td>\n",
              "      <td>Diesel</td>\n",
              "    </tr>\n",
              "    <tr>\n",
              "      <th>...</th>\n",
              "      <td>...</td>\n",
              "      <td>...</td>\n",
              "      <td>...</td>\n",
              "      <td>...</td>\n",
              "      <td>...</td>\n",
              "      <td>...</td>\n",
              "    </tr>\n",
              "    <tr>\n",
              "      <th>749</th>\n",
              "      <td>Maruti Suzuki Ritz</td>\n",
              "      <td>Maruti</td>\n",
              "      <td>2011</td>\n",
              "      <td>270000</td>\n",
              "      <td>50000</td>\n",
              "      <td>Petrol</td>\n",
              "    </tr>\n",
              "    <tr>\n",
              "      <th>750</th>\n",
              "      <td>Tata Indica V2</td>\n",
              "      <td>Tata</td>\n",
              "      <td>2009</td>\n",
              "      <td>110000</td>\n",
              "      <td>30000</td>\n",
              "      <td>Diesel</td>\n",
              "    </tr>\n",
              "    <tr>\n",
              "      <th>751</th>\n",
              "      <td>Toyota Corolla Altis</td>\n",
              "      <td>Toyota</td>\n",
              "      <td>2009</td>\n",
              "      <td>300000</td>\n",
              "      <td>132000</td>\n",
              "      <td>Petrol</td>\n",
              "    </tr>\n",
              "    <tr>\n",
              "      <th>752</th>\n",
              "      <td>Tata Zest XM</td>\n",
              "      <td>Tata</td>\n",
              "      <td>2018</td>\n",
              "      <td>260000</td>\n",
              "      <td>27000</td>\n",
              "      <td>Diesel</td>\n",
              "    </tr>\n",
              "    <tr>\n",
              "      <th>753</th>\n",
              "      <td>Mahindra Quanto C8</td>\n",
              "      <td>Mahindra</td>\n",
              "      <td>2013</td>\n",
              "      <td>390000</td>\n",
              "      <td>40000</td>\n",
              "      <td>Diesel</td>\n",
              "    </tr>\n",
              "  </tbody>\n",
              "</table>\n",
              "<p>754 rows × 6 columns</p>\n",
              "</div>\n",
              "    <div class=\"colab-df-buttons\">\n",
              "\n",
              "  <div class=\"colab-df-container\">\n",
              "    <button class=\"colab-df-convert\" onclick=\"convertToInteractive('df-d7a5103a-e47c-4961-babc-e3b15882dd1c')\"\n",
              "            title=\"Convert this dataframe to an interactive table.\"\n",
              "            style=\"display:none;\">\n",
              "\n",
              "  <svg xmlns=\"http://www.w3.org/2000/svg\" height=\"24px\" viewBox=\"0 -960 960 960\">\n",
              "    <path d=\"M120-120v-720h720v720H120Zm60-500h600v-160H180v160Zm220 220h160v-160H400v160Zm0 220h160v-160H400v160ZM180-400h160v-160H180v160Zm440 0h160v-160H620v160ZM180-180h160v-160H180v160Zm440 0h160v-160H620v160Z\"/>\n",
              "  </svg>\n",
              "    </button>\n",
              "\n",
              "  <style>\n",
              "    .colab-df-container {\n",
              "      display:flex;\n",
              "      gap: 12px;\n",
              "    }\n",
              "\n",
              "    .colab-df-convert {\n",
              "      background-color: #E8F0FE;\n",
              "      border: none;\n",
              "      border-radius: 50%;\n",
              "      cursor: pointer;\n",
              "      display: none;\n",
              "      fill: #1967D2;\n",
              "      height: 32px;\n",
              "      padding: 0 0 0 0;\n",
              "      width: 32px;\n",
              "    }\n",
              "\n",
              "    .colab-df-convert:hover {\n",
              "      background-color: #E2EBFA;\n",
              "      box-shadow: 0px 1px 2px rgba(60, 64, 67, 0.3), 0px 1px 3px 1px rgba(60, 64, 67, 0.15);\n",
              "      fill: #174EA6;\n",
              "    }\n",
              "\n",
              "    .colab-df-buttons div {\n",
              "      margin-bottom: 4px;\n",
              "    }\n",
              "\n",
              "    [theme=dark] .colab-df-convert {\n",
              "      background-color: #3B4455;\n",
              "      fill: #D2E3FC;\n",
              "    }\n",
              "\n",
              "    [theme=dark] .colab-df-convert:hover {\n",
              "      background-color: #434B5C;\n",
              "      box-shadow: 0px 1px 3px 1px rgba(0, 0, 0, 0.15);\n",
              "      filter: drop-shadow(0px 1px 2px rgba(0, 0, 0, 0.3));\n",
              "      fill: #FFFFFF;\n",
              "    }\n",
              "  </style>\n",
              "\n",
              "    <script>\n",
              "      const buttonEl =\n",
              "        document.querySelector('#df-d7a5103a-e47c-4961-babc-e3b15882dd1c button.colab-df-convert');\n",
              "      buttonEl.style.display =\n",
              "        google.colab.kernel.accessAllowed ? 'block' : 'none';\n",
              "\n",
              "      async function convertToInteractive(key) {\n",
              "        const element = document.querySelector('#df-d7a5103a-e47c-4961-babc-e3b15882dd1c');\n",
              "        const dataTable =\n",
              "          await google.colab.kernel.invokeFunction('convertToInteractive',\n",
              "                                                    [key], {});\n",
              "        if (!dataTable) return;\n",
              "\n",
              "        const docLinkHtml = 'Like what you see? Visit the ' +\n",
              "          '<a target=\"_blank\" href=https://colab.research.google.com/notebooks/data_table.ipynb>data table notebook</a>'\n",
              "          + ' to learn more about interactive tables.';\n",
              "        element.innerHTML = '';\n",
              "        dataTable['output_type'] = 'display_data';\n",
              "        await google.colab.output.renderOutput(dataTable, element);\n",
              "        const docLink = document.createElement('div');\n",
              "        docLink.innerHTML = docLinkHtml;\n",
              "        element.appendChild(docLink);\n",
              "      }\n",
              "    </script>\n",
              "  </div>\n",
              "\n",
              "\n",
              "<div id=\"df-4152fa73-32ee-4f92-bd36-ac5a67d47550\">\n",
              "  <button class=\"colab-df-quickchart\" onclick=\"quickchart('df-4152fa73-32ee-4f92-bd36-ac5a67d47550')\"\n",
              "            title=\"Suggest charts.\"\n",
              "            style=\"display:none;\">\n",
              "\n",
              "<svg xmlns=\"http://www.w3.org/2000/svg\" height=\"24px\"viewBox=\"0 0 24 24\"\n",
              "     width=\"24px\">\n",
              "    <g>\n",
              "        <path d=\"M19 3H5c-1.1 0-2 .9-2 2v14c0 1.1.9 2 2 2h14c1.1 0 2-.9 2-2V5c0-1.1-.9-2-2-2zM9 17H7v-7h2v7zm4 0h-2V7h2v10zm4 0h-2v-4h2v4z\"/>\n",
              "    </g>\n",
              "</svg>\n",
              "  </button>\n",
              "\n",
              "<style>\n",
              "  .colab-df-quickchart {\n",
              "      --bg-color: #E8F0FE;\n",
              "      --fill-color: #1967D2;\n",
              "      --hover-bg-color: #E2EBFA;\n",
              "      --hover-fill-color: #174EA6;\n",
              "      --disabled-fill-color: #AAA;\n",
              "      --disabled-bg-color: #DDD;\n",
              "  }\n",
              "\n",
              "  [theme=dark] .colab-df-quickchart {\n",
              "      --bg-color: #3B4455;\n",
              "      --fill-color: #D2E3FC;\n",
              "      --hover-bg-color: #434B5C;\n",
              "      --hover-fill-color: #FFFFFF;\n",
              "      --disabled-bg-color: #3B4455;\n",
              "      --disabled-fill-color: #666;\n",
              "  }\n",
              "\n",
              "  .colab-df-quickchart {\n",
              "    background-color: var(--bg-color);\n",
              "    border: none;\n",
              "    border-radius: 50%;\n",
              "    cursor: pointer;\n",
              "    display: none;\n",
              "    fill: var(--fill-color);\n",
              "    height: 32px;\n",
              "    padding: 0;\n",
              "    width: 32px;\n",
              "  }\n",
              "\n",
              "  .colab-df-quickchart:hover {\n",
              "    background-color: var(--hover-bg-color);\n",
              "    box-shadow: 0 1px 2px rgba(60, 64, 67, 0.3), 0 1px 3px 1px rgba(60, 64, 67, 0.15);\n",
              "    fill: var(--button-hover-fill-color);\n",
              "  }\n",
              "\n",
              "  .colab-df-quickchart-complete:disabled,\n",
              "  .colab-df-quickchart-complete:disabled:hover {\n",
              "    background-color: var(--disabled-bg-color);\n",
              "    fill: var(--disabled-fill-color);\n",
              "    box-shadow: none;\n",
              "  }\n",
              "\n",
              "  .colab-df-spinner {\n",
              "    border: 2px solid var(--fill-color);\n",
              "    border-color: transparent;\n",
              "    border-bottom-color: var(--fill-color);\n",
              "    animation:\n",
              "      spin 1s steps(1) infinite;\n",
              "  }\n",
              "\n",
              "  @keyframes spin {\n",
              "    0% {\n",
              "      border-color: transparent;\n",
              "      border-bottom-color: var(--fill-color);\n",
              "      border-left-color: var(--fill-color);\n",
              "    }\n",
              "    20% {\n",
              "      border-color: transparent;\n",
              "      border-left-color: var(--fill-color);\n",
              "      border-top-color: var(--fill-color);\n",
              "    }\n",
              "    30% {\n",
              "      border-color: transparent;\n",
              "      border-left-color: var(--fill-color);\n",
              "      border-top-color: var(--fill-color);\n",
              "      border-right-color: var(--fill-color);\n",
              "    }\n",
              "    40% {\n",
              "      border-color: transparent;\n",
              "      border-right-color: var(--fill-color);\n",
              "      border-top-color: var(--fill-color);\n",
              "    }\n",
              "    60% {\n",
              "      border-color: transparent;\n",
              "      border-right-color: var(--fill-color);\n",
              "    }\n",
              "    80% {\n",
              "      border-color: transparent;\n",
              "      border-right-color: var(--fill-color);\n",
              "      border-bottom-color: var(--fill-color);\n",
              "    }\n",
              "    90% {\n",
              "      border-color: transparent;\n",
              "      border-bottom-color: var(--fill-color);\n",
              "    }\n",
              "  }\n",
              "</style>\n",
              "\n",
              "  <script>\n",
              "    async function quickchart(key) {\n",
              "      const quickchartButtonEl =\n",
              "        document.querySelector('#' + key + ' button');\n",
              "      quickchartButtonEl.disabled = true;  // To prevent multiple clicks.\n",
              "      quickchartButtonEl.classList.add('colab-df-spinner');\n",
              "      try {\n",
              "        const charts = await google.colab.kernel.invokeFunction(\n",
              "            'suggestCharts', [key], {});\n",
              "      } catch (error) {\n",
              "        console.error('Error during call to suggestCharts:', error);\n",
              "      }\n",
              "      quickchartButtonEl.classList.remove('colab-df-spinner');\n",
              "      quickchartButtonEl.classList.add('colab-df-quickchart-complete');\n",
              "    }\n",
              "    (() => {\n",
              "      let quickchartButtonEl =\n",
              "        document.querySelector('#df-4152fa73-32ee-4f92-bd36-ac5a67d47550 button');\n",
              "      quickchartButtonEl.style.display =\n",
              "        google.colab.kernel.accessAllowed ? 'block' : 'none';\n",
              "    })();\n",
              "  </script>\n",
              "</div>\n",
              "    </div>\n",
              "  </div>\n"
            ]
          },
          "metadata": {},
          "execution_count": 32
        }
      ],
      "source": [
        "df.reset_index(inplace=True)\n",
        "# reset index column and deleting the first column(Original Index Column)\n",
        "df = df.iloc[:, 1:]\n",
        "df"
      ]
    },
    {
      "cell_type": "markdown",
      "metadata": {
        "id": "Xw9ZpBcQOFGB"
      },
      "source": [
        "### Checking the Relationship of Year vs Price"
      ]
    },
    {
      "cell_type": "code",
      "execution_count": null,
      "metadata": {
        "colab": {
          "base_uri": "https://localhost:8080/",
          "height": 648
        },
        "id": "AHdAohv3L4vH",
        "outputId": "ba30004d-d96b-4d0a-96f7-3ab99ac91c6c"
      },
      "outputs": [
        {
          "output_type": "display_data",
          "data": {
            "text/plain": [
              "<Figure size 2000x1000 with 1 Axes>"
            ],
            "image/png": "[encoded data removed]"
          },
          "metadata": {}
        }
      ],
      "source": [
        "plt.subplots(figsize=(20,10))\n",
        "ax=sns.boxplot(x='year',y='Price',data=df)\n",
        "ax.set(ylim=(0,2500000))\n",
        "ax.set_xticklabels(ax.get_xticklabels(),rotation=90,ha='right')\n",
        "plt.show()"
      ]
    },
    {
      "cell_type": "code",
      "execution_count": null,
      "metadata": {
        "id": "qZPFLXTPMYLA"
      },
      "outputs": [],
      "source": [
        "df['year'].value_counts()\n",
        "number = 10\n",
        "column = 'year'\n",
        "filtered_year_list = exe.filtered_value_list(df,column,number)\n",
        "filtered_year_count = exe.filtered_value_count(df,column,number)"
      ]
    },
    {
      "cell_type": "code",
      "execution_count": null,
      "metadata": {
        "colab": {
          "base_uri": "https://localhost:8080/"
        },
        "id": "M8PKzm41M4fq",
        "outputId": "28524a31-a30e-45fc-82f6-1483ea284f26"
      },
      "outputs": [
        {
          "output_type": "execute_result",
          "data": {
            "text/plain": [
              "(742, 6)"
            ]
          },
          "metadata": {},
          "execution_count": 35
        }
      ],
      "source": [
        "# Filter rows where 'year' is not in 'filtered_year_list'\n",
        "# after limit the car with number less than 10 , only 742 rows left over in the dataframe\n",
        "df = df[~df['year'].isin(filtered_year_list)]\n",
        "df.shape"
      ]
    },
    {
      "cell_type": "code",
      "execution_count": null,
      "metadata": {
        "colab": {
          "base_uri": "https://localhost:8080/",
          "height": 648
        },
        "id": "EVXJ2glhNIZu",
        "outputId": "863609ac-98fd-4f16-fc40-0dd4d9407563"
      },
      "outputs": [
        {
          "output_type": "display_data",
          "data": {
            "text/plain": [
              "<Figure size 2000x1000 with 1 Axes>"
            ],
            "image/png": "[encoded data removed]"
          },
          "metadata": {}
        }
      ],
      "source": [
        "plt.subplots(figsize=(20,10))\n",
        "ax=sns.boxplot(x='year',y='Price',data=df)\n",
        "ax.set(ylim=(0,2500000))\n",
        "ax.set_xticklabels(ax.get_xticklabels(),rotation=90,ha='right')\n",
        "plt.show()"
      ]
    },
    {
      "cell_type": "code",
      "execution_count": null,
      "metadata": {
        "colab": {
          "base_uri": "https://localhost:8080/",
          "height": 81
        },
        "id": "5YsKAgWmQsTq",
        "outputId": "f1f6eced-4038-400b-87ee-6f1365b020f4"
      },
      "outputs": [
        {
          "output_type": "execute_result",
          "data": {
            "text/plain": [
              "            name company  year    Price  kms_driven fuel_type\n",
              "581  Audi Q5 2.0    Audi  2014  2390000       34000    Diesel"
            ],
            "text/html": [
              "\n",
              "  <div id=\"df-e0f7c215-6be6-4e0c-b99a-604cf96a198a\" class=\"colab-df-container\">\n",
              "    <div>\n",
              "<style scoped>\n",
              "    .dataframe tbody tr th:only-of-type {\n",
              "        vertical-align: middle;\n",
              "    }\n",
              "\n",
              "    .dataframe tbody tr th {\n",
              "        vertical-align: top;\n",
              "    }\n",
              "\n",
              "    .dataframe thead th {\n",
              "        text-align: right;\n",
              "    }\n",
              "</style>\n",
              "<table border=\"1\" class=\"dataframe\">\n",
              "  <thead>\n",
              "    <tr style=\"text-align: right;\">\n",
              "      <th></th>\n",
              "      <th>name</th>\n",
              "      <th>company</th>\n",
              "      <th>year</th>\n",
              "      <th>Price</th>\n",
              "      <th>kms_driven</th>\n",
              "      <th>fuel_type</th>\n",
              "    </tr>\n",
              "  </thead>\n",
              "  <tbody>\n",
              "    <tr>\n",
              "      <th>581</th>\n",
              "      <td>Audi Q5 2.0</td>\n",
              "      <td>Audi</td>\n",
              "      <td>2014</td>\n",
              "      <td>2390000</td>\n",
              "      <td>34000</td>\n",
              "      <td>Diesel</td>\n",
              "    </tr>\n",
              "  </tbody>\n",
              "</table>\n",
              "</div>\n",
              "    <div class=\"colab-df-buttons\">\n",
              "\n",
              "  <div class=\"colab-df-container\">\n",
              "    <button class=\"colab-df-convert\" onclick=\"convertToInteractive('df-e0f7c215-6be6-4e0c-b99a-604cf96a198a')\"\n",
              "            title=\"Convert this dataframe to an interactive table.\"\n",
              "            style=\"display:none;\">\n",
              "\n",
              "  <svg xmlns=\"http://www.w3.org/2000/svg\" height=\"24px\" viewBox=\"0 -960 960 960\">\n",
              "    <path d=\"M120-120v-720h720v720H120Zm60-500h600v-160H180v160Zm220 220h160v-160H400v160Zm0 220h160v-160H400v160ZM180-400h160v-160H180v160Zm440 0h160v-160H620v160ZM180-180h160v-160H180v160Zm440 0h160v-160H620v160Z\"/>\n",
              "  </svg>\n",
              "    </button>\n",
              "\n",
              "  <style>\n",
              "    .colab-df-container {\n",
              "      display:flex;\n",
              "      gap: 12px;\n",
              "    }\n",
              "\n",
              "    .colab-df-convert {\n",
              "      background-color: #E8F0FE;\n",
              "      border: none;\n",
              "      border-radius: 50%;\n",
              "      cursor: pointer;\n",
              "      display: none;\n",
              "      fill: #1967D2;\n",
              "      height: 32px;\n",
              "      padding: 0 0 0 0;\n",
              "      width: 32px;\n",
              "    }\n",
              "\n",
              "    .colab-df-convert:hover {\n",
              "      background-color: #E2EBFA;\n",
              "      box-shadow: 0px 1px 2px rgba(60, 64, 67, 0.3), 0px 1px 3px 1px rgba(60, 64, 67, 0.15);\n",
              "      fill: #174EA6;\n",
              "    }\n",
              "\n",
              "    .colab-df-buttons div {\n",
              "      margin-bottom: 4px;\n",
              "    }\n",
              "\n",
              "    [theme=dark] .colab-df-convert {\n",
              "      background-color: #3B4455;\n",
              "      fill: #D2E3FC;\n",
              "    }\n",
              "\n",
              "    [theme=dark] .colab-df-convert:hover {\n",
              "      background-color: #434B5C;\n",
              "      box-shadow: 0px 1px 3px 1px rgba(0, 0, 0, 0.15);\n",
              "      filter: drop-shadow(0px 1px 2px rgba(0, 0, 0, 0.3));\n",
              "      fill: #FFFFFF;\n",
              "    }\n",
              "  </style>\n",
              "\n",
              "    <script>\n",
              "      const buttonEl =\n",
              "        document.querySelector('#df-e0f7c215-6be6-4e0c-b99a-604cf96a198a button.colab-df-convert');\n",
              "      buttonEl.style.display =\n",
              "        google.colab.kernel.accessAllowed ? 'block' : 'none';\n",
              "\n",
              "      async function convertToInteractive(key) {\n",
              "        const element = document.querySelector('#df-e0f7c215-6be6-4e0c-b99a-604cf96a198a');\n",
              "        const dataTable =\n",
              "          await google.colab.kernel.invokeFunction('convertToInteractive',\n",
              "                                                    [key], {});\n",
              "        if (!dataTable) return;\n",
              "\n",
              "        const docLinkHtml = 'Like what you see? Visit the ' +\n",
              "          '<a target=\"_blank\" href=https://colab.research.google.com/notebooks/data_table.ipynb>data table notebook</a>'\n",
              "          + ' to learn more about interactive tables.';\n",
              "        element.innerHTML = '';\n",
              "        dataTable['output_type'] = 'display_data';\n",
              "        await google.colab.output.renderOutput(dataTable, element);\n",
              "        const docLink = document.createElement('div');\n",
              "        docLink.innerHTML = docLinkHtml;\n",
              "        element.appendChild(docLink);\n",
              "      }\n",
              "    </script>\n",
              "  </div>\n",
              "\n",
              "    </div>\n",
              "  </div>\n"
            ]
          },
          "metadata": {},
          "execution_count": 37
        }
      ],
      "source": [
        "high_limit = 2000000\n",
        "df[df['Price']>high_limit]"
      ]
    },
    {
      "cell_type": "code",
      "execution_count": null,
      "metadata": {
        "colab": {
          "base_uri": "https://localhost:8080/"
        },
        "id": "PIJ6wPZxQbWP",
        "outputId": "28426968-f917-4b1d-b163-de4f98a3b44c"
      },
      "outputs": [
        {
          "output_type": "execute_result",
          "data": {
            "text/plain": [
              "(741, 6)"
            ]
          },
          "metadata": {},
          "execution_count": 38
        }
      ],
      "source": [
        "# Limit price range between low and high limit\n",
        "high_limit = 2000000\n",
        "low_limit = 30000\n",
        "\n",
        "df = df[(df['Price']<high_limit) & (df['Price']>low_limit)]\n",
        "df.shape"
      ]
    },
    {
      "cell_type": "code",
      "execution_count": null,
      "metadata": {
        "colab": {
          "base_uri": "https://localhost:8080/",
          "height": 648
        },
        "id": "Dsqx7ZI8RB67",
        "outputId": "14916f9f-ccd3-4c5a-dc22-f12666e43a5f"
      },
      "outputs": [
        {
          "output_type": "display_data",
          "data": {
            "text/plain": [
              "<Figure size 2000x1000 with 1 Axes>"
            ],
            "image/png": "[encoded data removed]"
          },
          "metadata": {}
        }
      ],
      "source": [
        "plt.subplots(figsize=(20,10))\n",
        "ax=sns.boxplot(x='year',y='Price',data=df)\n",
        "ax.set(ylim=(0,1750000))\n",
        "ax.set_xticklabels(ax.get_xticklabels(),rotation=90,ha='right')\n",
        "plt.show()"
      ]
    },
    {
      "cell_type": "code",
      "execution_count": null,
      "metadata": {
        "colab": {
          "base_uri": "https://localhost:8080/",
          "height": 424
        },
        "id": "dt3AyFXaSIi8",
        "outputId": "5b247ab9-bd38-4fdb-8bd2-d1d1b0d9599b"
      },
      "outputs": [
        {
          "output_type": "execute_result",
          "data": {
            "text/plain": [
              "                       name   company  year   Price  kms_driven fuel_type\n",
              "0       Hyundai Santro Xing   Hyundai  2007   80000       45000    Petrol\n",
              "1       Mahindra Jeep CL550  Mahindra  2006  425000          40    Diesel\n",
              "2         Hyundai Grand i10   Hyundai  2014  325000       28000    Petrol\n",
              "3    Ford EcoSport Titanium      Ford  2014  575000       36000    Diesel\n",
              "4                 Ford Figo      Ford  2012  175000       41000    Diesel\n",
              "..                      ...       ...   ...     ...         ...       ...\n",
              "736      Maruti Suzuki Ritz    Maruti  2011  270000       50000    Petrol\n",
              "737          Tata Indica V2      Tata  2009  110000       30000    Diesel\n",
              "738    Toyota Corolla Altis    Toyota  2009  300000      132000    Petrol\n",
              "739            Tata Zest XM      Tata  2018  260000       27000    Diesel\n",
              "740      Mahindra Quanto C8  Mahindra  2013  390000       40000    Diesel\n",
              "\n",
              "[741 rows x 6 columns]"
            ],
            "text/html": [
              "\n",
              "  <div id=\"df-24c17319-dced-472d-9c12-c5e107b0f1a1\" class=\"colab-df-container\">\n",
              "    <div>\n",
              "<style scoped>\n",
              "    .dataframe tbody tr th:only-of-type {\n",
              "        vertical-align: middle;\n",
              "    }\n",
              "\n",
              "    .dataframe tbody tr th {\n",
              "        vertical-align: top;\n",
              "    }\n",
              "\n",
              "    .dataframe thead th {\n",
              "        text-align: right;\n",
              "    }\n",
              "</style>\n",
              "<table border=\"1\" class=\"dataframe\">\n",
              "  <thead>\n",
              "    <tr style=\"text-align: right;\">\n",
              "      <th></th>\n",
              "      <th>name</th>\n",
              "      <th>company</th>\n",
              "      <th>year</th>\n",
              "      <th>Price</th>\n",
              "      <th>kms_driven</th>\n",
              "      <th>fuel_type</th>\n",
              "    </tr>\n",
              "  </thead>\n",
              "  <tbody>\n",
              "    <tr>\n",
              "      <th>0</th>\n",
              "      <td>Hyundai Santro Xing</td>\n",
              "      <td>Hyundai</td>\n",
              "      <td>2007</td>\n",
              "      <td>80000</td>\n",
              "      <td>45000</td>\n",
              "      <td>Petrol</td>\n",
              "    </tr>\n",
              "    <tr>\n",
              "      <th>1</th>\n",
              "      <td>Mahindra Jeep CL550</td>\n",
              "      <td>Mahindra</td>\n",
              "      <td>2006</td>\n",
              "      <td>425000</td>\n",
              "      <td>40</td>\n",
              "      <td>Diesel</td>\n",
              "    </tr>\n",
              "    <tr>\n",
              "      <th>2</th>\n",
              "      <td>Hyundai Grand i10</td>\n",
              "      <td>Hyundai</td>\n",
              "      <td>2014</td>\n",
              "      <td>325000</td>\n",
              "      <td>28000</td>\n",
              "      <td>Petrol</td>\n",
              "    </tr>\n",
              "    <tr>\n",
              "      <th>3</th>\n",
              "      <td>Ford EcoSport Titanium</td>\n",
              "      <td>Ford</td>\n",
              "      <td>2014</td>\n",
              "      <td>575000</td>\n",
              "      <td>36000</td>\n",
              "      <td>Diesel</td>\n",
              "    </tr>\n",
              "    <tr>\n",
              "      <th>4</th>\n",
              "      <td>Ford Figo</td>\n",
              "      <td>Ford</td>\n",
              "      <td>2012</td>\n",
              "      <td>175000</td>\n",
              "      <td>41000</td>\n",
              "      <td>Diesel</td>\n",
              "    </tr>\n",
              "    <tr>\n",
              "      <th>...</th>\n",
              "      <td>...</td>\n",
              "      <td>...</td>\n",
              "      <td>...</td>\n",
              "      <td>...</td>\n",
              "      <td>...</td>\n",
              "      <td>...</td>\n",
              "    </tr>\n",
              "    <tr>\n",
              "      <th>736</th>\n",
              "      <td>Maruti Suzuki Ritz</td>\n",
              "      <td>Maruti</td>\n",
              "      <td>2011</td>\n",
              "      <td>270000</td>\n",
              "      <td>50000</td>\n",
              "      <td>Petrol</td>\n",
              "    </tr>\n",
              "    <tr>\n",
              "      <th>737</th>\n",
              "      <td>Tata Indica V2</td>\n",
              "      <td>Tata</td>\n",
              "      <td>2009</td>\n",
              "      <td>110000</td>\n",
              "      <td>30000</td>\n",
              "      <td>Diesel</td>\n",
              "    </tr>\n",
              "    <tr>\n",
              "      <th>738</th>\n",
              "      <td>Toyota Corolla Altis</td>\n",
              "      <td>Toyota</td>\n",
              "      <td>2009</td>\n",
              "      <td>300000</td>\n",
              "      <td>132000</td>\n",
              "      <td>Petrol</td>\n",
              "    </tr>\n",
              "    <tr>\n",
              "      <th>739</th>\n",
              "      <td>Tata Zest XM</td>\n",
              "      <td>Tata</td>\n",
              "      <td>2018</td>\n",
              "      <td>260000</td>\n",
              "      <td>27000</td>\n",
              "      <td>Diesel</td>\n",
              "    </tr>\n",
              "    <tr>\n",
              "      <th>740</th>\n",
              "      <td>Mahindra Quanto C8</td>\n",
              "      <td>Mahindra</td>\n",
              "      <td>2013</td>\n",
              "      <td>390000</td>\n",
              "      <td>40000</td>\n",
              "      <td>Diesel</td>\n",
              "    </tr>\n",
              "  </tbody>\n",
              "</table>\n",
              "<p>741 rows × 6 columns</p>\n",
              "</div>\n",
              "    <div class=\"colab-df-buttons\">\n",
              "\n",
              "  <div class=\"colab-df-container\">\n",
              "    <button class=\"colab-df-convert\" onclick=\"convertToInteractive('df-24c17319-dced-472d-9c12-c5e107b0f1a1')\"\n",
              "            title=\"Convert this dataframe to an interactive table.\"\n",
              "            style=\"display:none;\">\n",
              "\n",
              "  <svg xmlns=\"http://www.w3.org/2000/svg\" height=\"24px\" viewBox=\"0 -960 960 960\">\n",
              "    <path d=\"M120-120v-720h720v720H120Zm60-500h600v-160H180v160Zm220 220h160v-160H400v160Zm0 220h160v-160H400v160ZM180-400h160v-160H180v160Zm440 0h160v-160H620v160ZM180-180h160v-160H180v160Zm440 0h160v-160H620v160Z\"/>\n",
              "  </svg>\n",
              "    </button>\n",
              "\n",
              "  <style>\n",
              "    .colab-df-container {\n",
              "      display:flex;\n",
              "      gap: 12px;\n",
              "    }\n",
              "\n",
              "    .colab-df-convert {\n",
              "      background-color: #E8F0FE;\n",
              "      border: none;\n",
              "      border-radius: 50%;\n",
              "      cursor: pointer;\n",
              "      display: none;\n",
              "      fill: #1967D2;\n",
              "      height: 32px;\n",
              "      padding: 0 0 0 0;\n",
              "      width: 32px;\n",
              "    }\n",
              "\n",
              "    .colab-df-convert:hover {\n",
              "      background-color: #E2EBFA;\n",
              "      box-shadow: 0px 1px 2px rgba(60, 64, 67, 0.3), 0px 1px 3px 1px rgba(60, 64, 67, 0.15);\n",
              "      fill: #174EA6;\n",
              "    }\n",
              "\n",
              "    .colab-df-buttons div {\n",
              "      margin-bottom: 4px;\n",
              "    }\n",
              "\n",
              "    [theme=dark] .colab-df-convert {\n",
              "      background-color: #3B4455;\n",
              "      fill: #D2E3FC;\n",
              "    }\n",
              "\n",
              "    [theme=dark] .colab-df-convert:hover {\n",
              "      background-color: #434B5C;\n",
              "      box-shadow: 0px 1px 3px 1px rgba(0, 0, 0, 0.15);\n",
              "      filter: drop-shadow(0px 1px 2px rgba(0, 0, 0, 0.3));\n",
              "      fill: #FFFFFF;\n",
              "    }\n",
              "  </style>\n",
              "\n",
              "    <script>\n",
              "      const buttonEl =\n",
              "        document.querySelector('#df-24c17319-dced-472d-9c12-c5e107b0f1a1 button.colab-df-convert');\n",
              "      buttonEl.style.display =\n",
              "        google.colab.kernel.accessAllowed ? 'block' : 'none';\n",
              "\n",
              "      async function convertToInteractive(key) {\n",
              "        const element = document.querySelector('#df-24c17319-dced-472d-9c12-c5e107b0f1a1');\n",
              "        const dataTable =\n",
              "          await google.colab.kernel.invokeFunction('convertToInteractive',\n",
              "                                                    [key], {});\n",
              "        if (!dataTable) return;\n",
              "\n",
              "        const docLinkHtml = 'Like what you see? Visit the ' +\n",
              "          '<a target=\"_blank\" href=https://colab.research.google.com/notebooks/data_table.ipynb>data table notebook</a>'\n",
              "          + ' to learn more about interactive tables.';\n",
              "        element.innerHTML = '';\n",
              "        dataTable['output_type'] = 'display_data';\n",
              "        await google.colab.output.renderOutput(dataTable, element);\n",
              "        const docLink = document.createElement('div');\n",
              "        docLink.innerHTML = docLinkHtml;\n",
              "        element.appendChild(docLink);\n",
              "      }\n",
              "    </script>\n",
              "  </div>\n",
              "\n",
              "\n",
              "<div id=\"df-8015a724-7236-4519-8192-dd0b92fa1d23\">\n",
              "  <button class=\"colab-df-quickchart\" onclick=\"quickchart('df-8015a724-7236-4519-8192-dd0b92fa1d23')\"\n",
              "            title=\"Suggest charts.\"\n",
              "            style=\"display:none;\">\n",
              "\n",
              "<svg xmlns=\"http://www.w3.org/2000/svg\" height=\"24px\"viewBox=\"0 0 24 24\"\n",
              "     width=\"24px\">\n",
              "    <g>\n",
              "        <path d=\"M19 3H5c-1.1 0-2 .9-2 2v14c0 1.1.9 2 2 2h14c1.1 0 2-.9 2-2V5c0-1.1-.9-2-2-2zM9 17H7v-7h2v7zm4 0h-2V7h2v10zm4 0h-2v-4h2v4z\"/>\n",
              "    </g>\n",
              "</svg>\n",
              "  </button>\n",
              "\n",
              "<style>\n",
              "  .colab-df-quickchart {\n",
              "      --bg-color: #E8F0FE;\n",
              "      --fill-color: #1967D2;\n",
              "      --hover-bg-color: #E2EBFA;\n",
              "      --hover-fill-color: #174EA6;\n",
              "      --disabled-fill-color: #AAA;\n",
              "      --disabled-bg-color: #DDD;\n",
              "  }\n",
              "\n",
              "  [theme=dark] .colab-df-quickchart {\n",
              "      --bg-color: #3B4455;\n",
              "      --fill-color: #D2E3FC;\n",
              "      --hover-bg-color: #434B5C;\n",
              "      --hover-fill-color: #FFFFFF;\n",
              "      --disabled-bg-color: #3B4455;\n",
              "      --disabled-fill-color: #666;\n",
              "  }\n",
              "\n",
              "  .colab-df-quickchart {\n",
              "    background-color: var(--bg-color);\n",
              "    border: none;\n",
              "    border-radius: 50%;\n",
              "    cursor: pointer;\n",
              "    display: none;\n",
              "    fill: var(--fill-color);\n",
              "    height: 32px;\n",
              "    padding: 0;\n",
              "    width: 32px;\n",
              "  }\n",
              "\n",
              "  .colab-df-quickchart:hover {\n",
              "    background-color: var(--hover-bg-color);\n",
              "    box-shadow: 0 1px 2px rgba(60, 64, 67, 0.3), 0 1px 3px 1px rgba(60, 64, 67, 0.15);\n",
              "    fill: var(--button-hover-fill-color);\n",
              "  }\n",
              "\n",
              "  .colab-df-quickchart-complete:disabled,\n",
              "  .colab-df-quickchart-complete:disabled:hover {\n",
              "    background-color: var(--disabled-bg-color);\n",
              "    fill: var(--disabled-fill-color);\n",
              "    box-shadow: none;\n",
              "  }\n",
              "\n",
              "  .colab-df-spinner {\n",
              "    border: 2px solid var(--fill-color);\n",
              "    border-color: transparent;\n",
              "    border-bottom-color: var(--fill-color);\n",
              "    animation:\n",
              "      spin 1s steps(1) infinite;\n",
              "  }\n",
              "\n",
              "  @keyframes spin {\n",
              "    0% {\n",
              "      border-color: transparent;\n",
              "      border-bottom-color: var(--fill-color);\n",
              "      border-left-color: var(--fill-color);\n",
              "    }\n",
              "    20% {\n",
              "      border-color: transparent;\n",
              "      border-left-color: var(--fill-color);\n",
              "      border-top-color: var(--fill-color);\n",
              "    }\n",
              "    30% {\n",
              "      border-color: transparent;\n",
              "      border-left-color: var(--fill-color);\n",
              "      border-top-color: var(--fill-color);\n",
              "      border-right-color: var(--fill-color);\n",
              "    }\n",
              "    40% {\n",
              "      border-color: transparent;\n",
              "      border-right-color: var(--fill-color);\n",
              "      border-top-color: var(--fill-color);\n",
              "    }\n",
              "    60% {\n",
              "      border-color: transparent;\n",
              "      border-right-color: var(--fill-color);\n",
              "    }\n",
              "    80% {\n",
              "      border-color: transparent;\n",
              "      border-right-color: var(--fill-color);\n",
              "      border-bottom-color: var(--fill-color);\n",
              "    }\n",
              "    90% {\n",
              "      border-color: transparent;\n",
              "      border-bottom-color: var(--fill-color);\n",
              "    }\n",
              "  }\n",
              "</style>\n",
              "\n",
              "  <script>\n",
              "    async function quickchart(key) {\n",
              "      const quickchartButtonEl =\n",
              "        document.querySelector('#' + key + ' button');\n",
              "      quickchartButtonEl.disabled = true;  // To prevent multiple clicks.\n",
              "      quickchartButtonEl.classList.add('colab-df-spinner');\n",
              "      try {\n",
              "        const charts = await google.colab.kernel.invokeFunction(\n",
              "            'suggestCharts', [key], {});\n",
              "      } catch (error) {\n",
              "        console.error('Error during call to suggestCharts:', error);\n",
              "      }\n",
              "      quickchartButtonEl.classList.remove('colab-df-spinner');\n",
              "      quickchartButtonEl.classList.add('colab-df-quickchart-complete');\n",
              "    }\n",
              "    (() => {\n",
              "      let quickchartButtonEl =\n",
              "        document.querySelector('#df-8015a724-7236-4519-8192-dd0b92fa1d23 button');\n",
              "      quickchartButtonEl.style.display =\n",
              "        google.colab.kernel.accessAllowed ? 'block' : 'none';\n",
              "    })();\n",
              "  </script>\n",
              "</div>\n",
              "    </div>\n",
              "  </div>\n"
            ]
          },
          "metadata": {},
          "execution_count": 40
        }
      ],
      "source": [
        "df.reset_index(inplace=True)\n",
        "# reset index column and deleting the first column(Original Index Column)\n",
        "df = df.iloc[:, 1:]\n",
        "df"
      ]
    },
    {
      "cell_type": "markdown",
      "metadata": {
        "id": "VsB1PpZSSr7a"
      },
      "source": [
        "### Checking Relationship of Kiliometer_Usage VS Price"
      ]
    },
    {
      "cell_type": "code",
      "execution_count": null,
      "metadata": {
        "colab": {
          "base_uri": "https://localhost:8080/",
          "height": 703
        },
        "id": "b0JdIL0tR-qr",
        "outputId": "c4c99e07-5e66-4a07-e6a2-0f51ab4c735e"
      },
      "outputs": [
        {
          "output_type": "execute_result",
          "data": {
            "text/plain": [
              "<seaborn.axisgrid.FacetGrid at 0x7cd09930ebc0>"
            ]
          },
          "metadata": {},
          "execution_count": 41
        },
        {
          "output_type": "display_data",
          "data": {
            "text/plain": [
              "<Figure size 1050x700 with 1 Axes>"
            ],
            "image/png": "[encoded data removed]"
          },
          "metadata": {}
        }
      ],
      "source": [
        "# sns.relplot(x='kms_driven',y='Price',data=df,height=7,aspect=1.5)\n",
        "sns.lmplot(x='kms_driven',y='Price',data=df,height=7,aspect=1.5)"
      ]
    },
    {
      "cell_type": "markdown",
      "metadata": {
        "id": "7QyPOpALS2hS"
      },
      "source": [
        "### Checking Relationship of Fuel Type vs Price"
      ]
    },
    {
      "cell_type": "code",
      "execution_count": null,
      "metadata": {
        "colab": {
          "base_uri": "https://localhost:8080/",
          "height": 656
        },
        "id": "B8oRmcS0TLo4",
        "outputId": "e2f3e322-97ca-4e0e-d679-fca5dbd6af47"
      },
      "outputs": [
        {
          "output_type": "display_data",
          "data": {
            "text/plain": [
              "<Figure size 2000x1000 with 1 Axes>"
            ],
            "image/png": "[encoded data removed]"
          },
          "metadata": {}
        }
      ],
      "source": [
        "plt.subplots(figsize=(20,10))\n",
        "ax=sns.boxplot(x='fuel_type',y='Price',data=df)\n",
        "ax.set(ylim=(0,1750000))\n",
        "ax.set_xticklabels(ax.get_xticklabels(),rotation=90,ha='right')\n",
        "plt.show()"
      ]
    },
    {
      "cell_type": "code",
      "execution_count": null,
      "metadata": {
        "colab": {
          "base_uri": "https://localhost:8080/"
        },
        "id": "dVVYm-iOaOG7",
        "outputId": "83fddec4-082f-44b3-cfff-f66df583e7d5"
      },
      "outputs": [
        {
          "output_type": "execute_result",
          "data": {
            "text/plain": [
              "['name', 'company', 'year', 'Price', 'kms_driven', 'fuel_type']"
            ]
          },
          "metadata": {},
          "execution_count": 43
        }
      ],
      "source": [
        "column_names_list = df.columns.tolist()\n",
        "column_names_list"
      ]
    },
    {
      "cell_type": "code",
      "execution_count": null,
      "metadata": {
        "id": "rb4tTkhIahpT"
      },
      "outputs": [],
      "source": [
        "# delete_list = column_names_list[:3]\n",
        "# delete_list"
      ]
    },
    {
      "cell_type": "code",
      "execution_count": null,
      "metadata": {
        "id": "tZ5Y4vv9j_GN"
      },
      "outputs": [],
      "source": [
        "# df = exe.data_preprocess.drop_columns(df, delete_list)"
      ]
    },
    {
      "cell_type": "code",
      "execution_count": null,
      "metadata": {
        "colab": {
          "base_uri": "https://localhost:8080/",
          "height": 441
        },
        "id": "Om0yrVM6n5Rr",
        "outputId": "7412e824-b2e3-4efc-cbf6-ab7ff8d7bac5"
      },
      "outputs": [
        {
          "output_type": "stream",
          "name": "stdout",
          "text": [
            "(741, 6)\n"
          ]
        },
        {
          "output_type": "execute_result",
          "data": {
            "text/plain": [
              "                       name   company  year   Price  kms_driven fuel_type\n",
              "0       Hyundai Santro Xing   Hyundai  2007   80000       45000    Petrol\n",
              "1       Mahindra Jeep CL550  Mahindra  2006  425000          40    Diesel\n",
              "2         Hyundai Grand i10   Hyundai  2014  325000       28000    Petrol\n",
              "3    Ford EcoSport Titanium      Ford  2014  575000       36000    Diesel\n",
              "4                 Ford Figo      Ford  2012  175000       41000    Diesel\n",
              "..                      ...       ...   ...     ...         ...       ...\n",
              "736      Maruti Suzuki Ritz    Maruti  2011  270000       50000    Petrol\n",
              "737          Tata Indica V2      Tata  2009  110000       30000    Diesel\n",
              "738    Toyota Corolla Altis    Toyota  2009  300000      132000    Petrol\n",
              "739            Tata Zest XM      Tata  2018  260000       27000    Diesel\n",
              "740      Mahindra Quanto C8  Mahindra  2013  390000       40000    Diesel\n",
              "\n",
              "[741 rows x 6 columns]"
            ],
            "text/html": [
              "\n",
              "  <div id=\"df-e89ecb98-625f-483d-972f-8228c5792a40\" class=\"colab-df-container\">\n",
              "    <div>\n",
              "<style scoped>\n",
              "    .dataframe tbody tr th:only-of-type {\n",
              "        vertical-align: middle;\n",
              "    }\n",
              "\n",
              "    .dataframe tbody tr th {\n",
              "        vertical-align: top;\n",
              "    }\n",
              "\n",
              "    .dataframe thead th {\n",
              "        text-align: right;\n",
              "    }\n",
              "</style>\n",
              "<table border=\"1\" class=\"dataframe\">\n",
              "  <thead>\n",
              "    <tr style=\"text-align: right;\">\n",
              "      <th></th>\n",
              "      <th>name</th>\n",
              "      <th>company</th>\n",
              "      <th>year</th>\n",
              "      <th>Price</th>\n",
              "      <th>kms_driven</th>\n",
              "      <th>fuel_type</th>\n",
              "    </tr>\n",
              "  </thead>\n",
              "  <tbody>\n",
              "    <tr>\n",
              "      <th>0</th>\n",
              "      <td>Hyundai Santro Xing</td>\n",
              "      <td>Hyundai</td>\n",
              "      <td>2007</td>\n",
              "      <td>80000</td>\n",
              "      <td>45000</td>\n",
              "      <td>Petrol</td>\n",
              "    </tr>\n",
              "    <tr>\n",
              "      <th>1</th>\n",
              "      <td>Mahindra Jeep CL550</td>\n",
              "      <td>Mahindra</td>\n",
              "      <td>2006</td>\n",
              "      <td>425000</td>\n",
              "      <td>40</td>\n",
              "      <td>Diesel</td>\n",
              "    </tr>\n",
              "    <tr>\n",
              "      <th>2</th>\n",
              "      <td>Hyundai Grand i10</td>\n",
              "      <td>Hyundai</td>\n",
              "      <td>2014</td>\n",
              "      <td>325000</td>\n",
              "      <td>28000</td>\n",
              "      <td>Petrol</td>\n",
              "    </tr>\n",
              "    <tr>\n",
              "      <th>3</th>\n",
              "      <td>Ford EcoSport Titanium</td>\n",
              "      <td>Ford</td>\n",
              "      <td>2014</td>\n",
              "      <td>575000</td>\n",
              "      <td>36000</td>\n",
              "      <td>Diesel</td>\n",
              "    </tr>\n",
              "    <tr>\n",
              "      <th>4</th>\n",
              "      <td>Ford Figo</td>\n",
              "      <td>Ford</td>\n",
              "      <td>2012</td>\n",
              "      <td>175000</td>\n",
              "      <td>41000</td>\n",
              "      <td>Diesel</td>\n",
              "    </tr>\n",
              "    <tr>\n",
              "      <th>...</th>\n",
              "      <td>...</td>\n",
              "      <td>...</td>\n",
              "      <td>...</td>\n",
              "      <td>...</td>\n",
              "      <td>...</td>\n",
              "      <td>...</td>\n",
              "    </tr>\n",
              "    <tr>\n",
              "      <th>736</th>\n",
              "      <td>Maruti Suzuki Ritz</td>\n",
              "      <td>Maruti</td>\n",
              "      <td>2011</td>\n",
              "      <td>270000</td>\n",
              "      <td>50000</td>\n",
              "      <td>Petrol</td>\n",
              "    </tr>\n",
              "    <tr>\n",
              "      <th>737</th>\n",
              "      <td>Tata Indica V2</td>\n",
              "      <td>Tata</td>\n",
              "      <td>2009</td>\n",
              "      <td>110000</td>\n",
              "      <td>30000</td>\n",
              "      <td>Diesel</td>\n",
              "    </tr>\n",
              "    <tr>\n",
              "      <th>738</th>\n",
              "      <td>Toyota Corolla Altis</td>\n",
              "      <td>Toyota</td>\n",
              "      <td>2009</td>\n",
              "      <td>300000</td>\n",
              "      <td>132000</td>\n",
              "      <td>Petrol</td>\n",
              "    </tr>\n",
              "    <tr>\n",
              "      <th>739</th>\n",
              "      <td>Tata Zest XM</td>\n",
              "      <td>Tata</td>\n",
              "      <td>2018</td>\n",
              "      <td>260000</td>\n",
              "      <td>27000</td>\n",
              "      <td>Diesel</td>\n",
              "    </tr>\n",
              "    <tr>\n",
              "      <th>740</th>\n",
              "      <td>Mahindra Quanto C8</td>\n",
              "      <td>Mahindra</td>\n",
              "      <td>2013</td>\n",
              "      <td>390000</td>\n",
              "      <td>40000</td>\n",
              "      <td>Diesel</td>\n",
              "    </tr>\n",
              "  </tbody>\n",
              "</table>\n",
              "<p>741 rows × 6 columns</p>\n",
              "</div>\n",
              "    <div class=\"colab-df-buttons\">\n",
              "\n",
              "  <div class=\"colab-df-container\">\n",
              "    <button class=\"colab-df-convert\" onclick=\"convertToInteractive('df-e89ecb98-625f-483d-972f-8228c5792a40')\"\n",
              "            title=\"Convert this dataframe to an interactive table.\"\n",
              "            style=\"display:none;\">\n",
              "\n",
              "  <svg xmlns=\"http://www.w3.org/2000/svg\" height=\"24px\" viewBox=\"0 -960 960 960\">\n",
              "    <path d=\"M120-120v-720h720v720H120Zm60-500h600v-160H180v160Zm220 220h160v-160H400v160Zm0 220h160v-160H400v160ZM180-400h160v-160H180v160Zm440 0h160v-160H620v160ZM180-180h160v-160H180v160Zm440 0h160v-160H620v160Z\"/>\n",
              "  </svg>\n",
              "    </button>\n",
              "\n",
              "  <style>\n",
              "    .colab-df-container {\n",
              "      display:flex;\n",
              "      gap: 12px;\n",
              "    }\n",
              "\n",
              "    .colab-df-convert {\n",
              "      background-color: #E8F0FE;\n",
              "      border: none;\n",
              "      border-radius: 50%;\n",
              "      cursor: pointer;\n",
              "      display: none;\n",
              "      fill: #1967D2;\n",
              "      height: 32px;\n",
              "      padding: 0 0 0 0;\n",
              "      width: 32px;\n",
              "    }\n",
              "\n",
              "    .colab-df-convert:hover {\n",
              "      background-color: #E2EBFA;\n",
              "      box-shadow: 0px 1px 2px rgba(60, 64, 67, 0.3), 0px 1px 3px 1px rgba(60, 64, 67, 0.15);\n",
              "      fill: #174EA6;\n",
              "    }\n",
              "\n",
              "    .colab-df-buttons div {\n",
              "      margin-bottom: 4px;\n",
              "    }\n",
              "\n",
              "    [theme=dark] .colab-df-convert {\n",
              "      background-color: #3B4455;\n",
              "      fill: #D2E3FC;\n",
              "    }\n",
              "\n",
              "    [theme=dark] .colab-df-convert:hover {\n",
              "      background-color: #434B5C;\n",
              "      box-shadow: 0px 1px 3px 1px rgba(0, 0, 0, 0.15);\n",
              "      filter: drop-shadow(0px 1px 2px rgba(0, 0, 0, 0.3));\n",
              "      fill: #FFFFFF;\n",
              "    }\n",
              "  </style>\n",
              "\n",
              "    <script>\n",
              "      const buttonEl =\n",
              "        document.querySelector('#df-e89ecb98-625f-483d-972f-8228c5792a40 button.colab-df-convert');\n",
              "      buttonEl.style.display =\n",
              "        google.colab.kernel.accessAllowed ? 'block' : 'none';\n",
              "\n",
              "      async function convertToInteractive(key) {\n",
              "        const element = document.querySelector('#df-e89ecb98-625f-483d-972f-8228c5792a40');\n",
              "        const dataTable =\n",
              "          await google.colab.kernel.invokeFunction('convertToInteractive',\n",
              "                                                    [key], {});\n",
              "        if (!dataTable) return;\n",
              "\n",
              "        const docLinkHtml = 'Like what you see? Visit the ' +\n",
              "          '<a target=\"_blank\" href=https://colab.research.google.com/notebooks/data_table.ipynb>data table notebook</a>'\n",
              "          + ' to learn more about interactive tables.';\n",
              "        element.innerHTML = '';\n",
              "        dataTable['output_type'] = 'display_data';\n",
              "        await google.colab.output.renderOutput(dataTable, element);\n",
              "        const docLink = document.createElement('div');\n",
              "        docLink.innerHTML = docLinkHtml;\n",
              "        element.appendChild(docLink);\n",
              "      }\n",
              "    </script>\n",
              "  </div>\n",
              "\n",
              "\n",
              "<div id=\"df-01e6020a-7555-4a67-8d76-de54a3427b8c\">\n",
              "  <button class=\"colab-df-quickchart\" onclick=\"quickchart('df-01e6020a-7555-4a67-8d76-de54a3427b8c')\"\n",
              "            title=\"Suggest charts.\"\n",
              "            style=\"display:none;\">\n",
              "\n",
              "<svg xmlns=\"http://www.w3.org/2000/svg\" height=\"24px\"viewBox=\"0 0 24 24\"\n",
              "     width=\"24px\">\n",
              "    <g>\n",
              "        <path d=\"M19 3H5c-1.1 0-2 .9-2 2v14c0 1.1.9 2 2 2h14c1.1 0 2-.9 2-2V5c0-1.1-.9-2-2-2zM9 17H7v-7h2v7zm4 0h-2V7h2v10zm4 0h-2v-4h2v4z\"/>\n",
              "    </g>\n",
              "</svg>\n",
              "  </button>\n",
              "\n",
              "<style>\n",
              "  .colab-df-quickchart {\n",
              "      --bg-color: #E8F0FE;\n",
              "      --fill-color: #1967D2;\n",
              "      --hover-bg-color: #E2EBFA;\n",
              "      --hover-fill-color: #174EA6;\n",
              "      --disabled-fill-color: #AAA;\n",
              "      --disabled-bg-color: #DDD;\n",
              "  }\n",
              "\n",
              "  [theme=dark] .colab-df-quickchart {\n",
              "      --bg-color: #3B4455;\n",
              "      --fill-color: #D2E3FC;\n",
              "      --hover-bg-color: #434B5C;\n",
              "      --hover-fill-color: #FFFFFF;\n",
              "      --disabled-bg-color: #3B4455;\n",
              "      --disabled-fill-color: #666;\n",
              "  }\n",
              "\n",
              "  .colab-df-quickchart {\n",
              "    background-color: var(--bg-color);\n",
              "    border: none;\n",
              "    border-radius: 50%;\n",
              "    cursor: pointer;\n",
              "    display: none;\n",
              "    fill: var(--fill-color);\n",
              "    height: 32px;\n",
              "    padding: 0;\n",
              "    width: 32px;\n",
              "  }\n",
              "\n",
              "  .colab-df-quickchart:hover {\n",
              "    background-color: var(--hover-bg-color);\n",
              "    box-shadow: 0 1px 2px rgba(60, 64, 67, 0.3), 0 1px 3px 1px rgba(60, 64, 67, 0.15);\n",
              "    fill: var(--button-hover-fill-color);\n",
              "  }\n",
              "\n",
              "  .colab-df-quickchart-complete:disabled,\n",
              "  .colab-df-quickchart-complete:disabled:hover {\n",
              "    background-color: var(--disabled-bg-color);\n",
              "    fill: var(--disabled-fill-color);\n",
              "    box-shadow: none;\n",
              "  }\n",
              "\n",
              "  .colab-df-spinner {\n",
              "    border: 2px solid var(--fill-color);\n",
              "    border-color: transparent;\n",
              "    border-bottom-color: var(--fill-color);\n",
              "    animation:\n",
              "      spin 1s steps(1) infinite;\n",
              "  }\n",
              "\n",
              "  @keyframes spin {\n",
              "    0% {\n",
              "      border-color: transparent;\n",
              "      border-bottom-color: var(--fill-color);\n",
              "      border-left-color: var(--fill-color);\n",
              "    }\n",
              "    20% {\n",
              "      border-color: transparent;\n",
              "      border-left-color: var(--fill-color);\n",
              "      border-top-color: var(--fill-color);\n",
              "    }\n",
              "    30% {\n",
              "      border-color: transparent;\n",
              "      border-left-color: var(--fill-color);\n",
              "      border-top-color: var(--fill-color);\n",
              "      border-right-color: var(--fill-color);\n",
              "    }\n",
              "    40% {\n",
              "      border-color: transparent;\n",
              "      border-right-color: var(--fill-color);\n",
              "      border-top-color: var(--fill-color);\n",
              "    }\n",
              "    60% {\n",
              "      border-color: transparent;\n",
              "      border-right-color: var(--fill-color);\n",
              "    }\n",
              "    80% {\n",
              "      border-color: transparent;\n",
              "      border-right-color: var(--fill-color);\n",
              "      border-bottom-color: var(--fill-color);\n",
              "    }\n",
              "    90% {\n",
              "      border-color: transparent;\n",
              "      border-bottom-color: var(--fill-color);\n",
              "    }\n",
              "  }\n",
              "</style>\n",
              "\n",
              "  <script>\n",
              "    async function quickchart(key) {\n",
              "      const quickchartButtonEl =\n",
              "        document.querySelector('#' + key + ' button');\n",
              "      quickchartButtonEl.disabled = true;  // To prevent multiple clicks.\n",
              "      quickchartButtonEl.classList.add('colab-df-spinner');\n",
              "      try {\n",
              "        const charts = await google.colab.kernel.invokeFunction(\n",
              "            'suggestCharts', [key], {});\n",
              "      } catch (error) {\n",
              "        console.error('Error during call to suggestCharts:', error);\n",
              "      }\n",
              "      quickchartButtonEl.classList.remove('colab-df-spinner');\n",
              "      quickchartButtonEl.classList.add('colab-df-quickchart-complete');\n",
              "    }\n",
              "    (() => {\n",
              "      let quickchartButtonEl =\n",
              "        document.querySelector('#df-01e6020a-7555-4a67-8d76-de54a3427b8c button');\n",
              "      quickchartButtonEl.style.display =\n",
              "        google.colab.kernel.accessAllowed ? 'block' : 'none';\n",
              "    })();\n",
              "  </script>\n",
              "</div>\n",
              "    </div>\n",
              "  </div>\n"
            ]
          },
          "metadata": {},
          "execution_count": 46
        }
      ],
      "source": [
        "print(df.shape)\n",
        "df"
      ]
    },
    {
      "cell_type": "code",
      "execution_count": null,
      "metadata": {
        "colab": {
          "base_uri": "https://localhost:8080/",
          "height": 35
        },
        "id": "dQmh-lyAguVb",
        "outputId": "d3cf2eb5-4bef-489c-dbb0-4ba9a18ac65e"
      },
      "outputs": [
        {
          "output_type": "execute_result",
          "data": {
            "text/plain": [
              "'/content/drive/MyDrive/3.0 Colab Project/3.0 Github Portfolio Project/Project01-Car Price Predictor/result'"
            ],
            "application/vnd.google.colaboratory.intrinsic+json": {
              "type": "string"
            }
          },
          "metadata": {},
          "execution_count": 47
        }
      ],
      "source": [
        "%pwd"
      ]
    },
    {
      "cell_type": "code",
      "execution_count": null,
      "metadata": {
        "id": "RQ4S8tynU5oq"
      },
      "outputs": [],
      "source": [
        "df.to_csv('Car_Munging_Data.csv')"
      ]
    },
    {
      "cell_type": "markdown",
      "metadata": {
        "id": "VA4EjBS1TzqI"
      },
      "source": [
        "## Data Extraction"
      ]
    },
    {
      "cell_type": "code",
      "execution_count": null,
      "metadata": {
        "colab": {
          "base_uri": "https://localhost:8080/",
          "height": 206
        },
        "id": "QzhaR7ppbOCB",
        "outputId": "7d22d54f-c2f7-4223-c7e6-2d6eec01ca44"
      },
      "outputs": [
        {
          "output_type": "execute_result",
          "data": {
            "text/plain": [
              "                     name   company  year   Price  kms_driven fuel_type\n",
              "0     Hyundai Santro Xing   Hyundai  2007   80000       45000    Petrol\n",
              "1     Mahindra Jeep CL550  Mahindra  2006  425000          40    Diesel\n",
              "2       Hyundai Grand i10   Hyundai  2014  325000       28000    Petrol\n",
              "3  Ford EcoSport Titanium      Ford  2014  575000       36000    Diesel\n",
              "4               Ford Figo      Ford  2012  175000       41000    Diesel"
            ],
            "text/html": [
              "\n",
              "  <div id=\"df-07709293-2814-48bf-8f0e-0f5e4b71adac\" class=\"colab-df-container\">\n",
              "    <div>\n",
              "<style scoped>\n",
              "    .dataframe tbody tr th:only-of-type {\n",
              "        vertical-align: middle;\n",
              "    }\n",
              "\n",
              "    .dataframe tbody tr th {\n",
              "        vertical-align: top;\n",
              "    }\n",
              "\n",
              "    .dataframe thead th {\n",
              "        text-align: right;\n",
              "    }\n",
              "</style>\n",
              "<table border=\"1\" class=\"dataframe\">\n",
              "  <thead>\n",
              "    <tr style=\"text-align: right;\">\n",
              "      <th></th>\n",
              "      <th>name</th>\n",
              "      <th>company</th>\n",
              "      <th>year</th>\n",
              "      <th>Price</th>\n",
              "      <th>kms_driven</th>\n",
              "      <th>fuel_type</th>\n",
              "    </tr>\n",
              "  </thead>\n",
              "  <tbody>\n",
              "    <tr>\n",
              "      <th>0</th>\n",
              "      <td>Hyundai Santro Xing</td>\n",
              "      <td>Hyundai</td>\n",
              "      <td>2007</td>\n",
              "      <td>80000</td>\n",
              "      <td>45000</td>\n",
              "      <td>Petrol</td>\n",
              "    </tr>\n",
              "    <tr>\n",
              "      <th>1</th>\n",
              "      <td>Mahindra Jeep CL550</td>\n",
              "      <td>Mahindra</td>\n",
              "      <td>2006</td>\n",
              "      <td>425000</td>\n",
              "      <td>40</td>\n",
              "      <td>Diesel</td>\n",
              "    </tr>\n",
              "    <tr>\n",
              "      <th>2</th>\n",
              "      <td>Hyundai Grand i10</td>\n",
              "      <td>Hyundai</td>\n",
              "      <td>2014</td>\n",
              "      <td>325000</td>\n",
              "      <td>28000</td>\n",
              "      <td>Petrol</td>\n",
              "    </tr>\n",
              "    <tr>\n",
              "      <th>3</th>\n",
              "      <td>Ford EcoSport Titanium</td>\n",
              "      <td>Ford</td>\n",
              "      <td>2014</td>\n",
              "      <td>575000</td>\n",
              "      <td>36000</td>\n",
              "      <td>Diesel</td>\n",
              "    </tr>\n",
              "    <tr>\n",
              "      <th>4</th>\n",
              "      <td>Ford Figo</td>\n",
              "      <td>Ford</td>\n",
              "      <td>2012</td>\n",
              "      <td>175000</td>\n",
              "      <td>41000</td>\n",
              "      <td>Diesel</td>\n",
              "    </tr>\n",
              "  </tbody>\n",
              "</table>\n",
              "</div>\n",
              "    <div class=\"colab-df-buttons\">\n",
              "\n",
              "  <div class=\"colab-df-container\">\n",
              "    <button class=\"colab-df-convert\" onclick=\"convertToInteractive('df-07709293-2814-48bf-8f0e-0f5e4b71adac')\"\n",
              "            title=\"Convert this dataframe to an interactive table.\"\n",
              "            style=\"display:none;\">\n",
              "\n",
              "  <svg xmlns=\"http://www.w3.org/2000/svg\" height=\"24px\" viewBox=\"0 -960 960 960\">\n",
              "    <path d=\"M120-120v-720h720v720H120Zm60-500h600v-160H180v160Zm220 220h160v-160H400v160Zm0 220h160v-160H400v160ZM180-400h160v-160H180v160Zm440 0h160v-160H620v160ZM180-180h160v-160H180v160Zm440 0h160v-160H620v160Z\"/>\n",
              "  </svg>\n",
              "    </button>\n",
              "\n",
              "  <style>\n",
              "    .colab-df-container {\n",
              "      display:flex;\n",
              "      gap: 12px;\n",
              "    }\n",
              "\n",
              "    .colab-df-convert {\n",
              "      background-color: #E8F0FE;\n",
              "      border: none;\n",
              "      border-radius: 50%;\n",
              "      cursor: pointer;\n",
              "      display: none;\n",
              "      fill: #1967D2;\n",
              "      height: 32px;\n",
              "      padding: 0 0 0 0;\n",
              "      width: 32px;\n",
              "    }\n",
              "\n",
              "    .colab-df-convert:hover {\n",
              "      background-color: #E2EBFA;\n",
              "      box-shadow: 0px 1px 2px rgba(60, 64, 67, 0.3), 0px 1px 3px 1px rgba(60, 64, 67, 0.15);\n",
              "      fill: #174EA6;\n",
              "    }\n",
              "\n",
              "    .colab-df-buttons div {\n",
              "      margin-bottom: 4px;\n",
              "    }\n",
              "\n",
              "    [theme=dark] .colab-df-convert {\n",
              "      background-color: #3B4455;\n",
              "      fill: #D2E3FC;\n",
              "    }\n",
              "\n",
              "    [theme=dark] .colab-df-convert:hover {\n",
              "      background-color: #434B5C;\n",
              "      box-shadow: 0px 1px 3px 1px rgba(0, 0, 0, 0.15);\n",
              "      filter: drop-shadow(0px 1px 2px rgba(0, 0, 0, 0.3));\n",
              "      fill: #FFFFFF;\n",
              "    }\n",
              "  </style>\n",
              "\n",
              "    <script>\n",
              "      const buttonEl =\n",
              "        document.querySelector('#df-07709293-2814-48bf-8f0e-0f5e4b71adac button.colab-df-convert');\n",
              "      buttonEl.style.display =\n",
              "        google.colab.kernel.accessAllowed ? 'block' : 'none';\n",
              "\n",
              "      async function convertToInteractive(key) {\n",
              "        const element = document.querySelector('#df-07709293-2814-48bf-8f0e-0f5e4b71adac');\n",
              "        const dataTable =\n",
              "          await google.colab.kernel.invokeFunction('convertToInteractive',\n",
              "                                                    [key], {});\n",
              "        if (!dataTable) return;\n",
              "\n",
              "        const docLinkHtml = 'Like what you see? Visit the ' +\n",
              "          '<a target=\"_blank\" href=https://colab.research.google.com/notebooks/data_table.ipynb>data table notebook</a>'\n",
              "          + ' to learn more about interactive tables.';\n",
              "        element.innerHTML = '';\n",
              "        dataTable['output_type'] = 'display_data';\n",
              "        await google.colab.output.renderOutput(dataTable, element);\n",
              "        const docLink = document.createElement('div');\n",
              "        docLink.innerHTML = docLinkHtml;\n",
              "        element.appendChild(docLink);\n",
              "      }\n",
              "    </script>\n",
              "  </div>\n",
              "\n",
              "\n",
              "<div id=\"df-536b461a-1943-4881-bb5f-2fde15e0a02f\">\n",
              "  <button class=\"colab-df-quickchart\" onclick=\"quickchart('df-536b461a-1943-4881-bb5f-2fde15e0a02f')\"\n",
              "            title=\"Suggest charts.\"\n",
              "            style=\"display:none;\">\n",
              "\n",
              "<svg xmlns=\"http://www.w3.org/2000/svg\" height=\"24px\"viewBox=\"0 0 24 24\"\n",
              "     width=\"24px\">\n",
              "    <g>\n",
              "        <path d=\"M19 3H5c-1.1 0-2 .9-2 2v14c0 1.1.9 2 2 2h14c1.1 0 2-.9 2-2V5c0-1.1-.9-2-2-2zM9 17H7v-7h2v7zm4 0h-2V7h2v10zm4 0h-2v-4h2v4z\"/>\n",
              "    </g>\n",
              "</svg>\n",
              "  </button>\n",
              "\n",
              "<style>\n",
              "  .colab-df-quickchart {\n",
              "      --bg-color: #E8F0FE;\n",
              "      --fill-color: #1967D2;\n",
              "      --hover-bg-color: #E2EBFA;\n",
              "      --hover-fill-color: #174EA6;\n",
              "      --disabled-fill-color: #AAA;\n",
              "      --disabled-bg-color: #DDD;\n",
              "  }\n",
              "\n",
              "  [theme=dark] .colab-df-quickchart {\n",
              "      --bg-color: #3B4455;\n",
              "      --fill-color: #D2E3FC;\n",
              "      --hover-bg-color: #434B5C;\n",
              "      --hover-fill-color: #FFFFFF;\n",
              "      --disabled-bg-color: #3B4455;\n",
              "      --disabled-fill-color: #666;\n",
              "  }\n",
              "\n",
              "  .colab-df-quickchart {\n",
              "    background-color: var(--bg-color);\n",
              "    border: none;\n",
              "    border-radius: 50%;\n",
              "    cursor: pointer;\n",
              "    display: none;\n",
              "    fill: var(--fill-color);\n",
              "    height: 32px;\n",
              "    padding: 0;\n",
              "    width: 32px;\n",
              "  }\n",
              "\n",
              "  .colab-df-quickchart:hover {\n",
              "    background-color: var(--hover-bg-color);\n",
              "    box-shadow: 0 1px 2px rgba(60, 64, 67, 0.3), 0 1px 3px 1px rgba(60, 64, 67, 0.15);\n",
              "    fill: var(--button-hover-fill-color);\n",
              "  }\n",
              "\n",
              "  .colab-df-quickchart-complete:disabled,\n",
              "  .colab-df-quickchart-complete:disabled:hover {\n",
              "    background-color: var(--disabled-bg-color);\n",
              "    fill: var(--disabled-fill-color);\n",
              "    box-shadow: none;\n",
              "  }\n",
              "\n",
              "  .colab-df-spinner {\n",
              "    border: 2px solid var(--fill-color);\n",
              "    border-color: transparent;\n",
              "    border-bottom-color: var(--fill-color);\n",
              "    animation:\n",
              "      spin 1s steps(1) infinite;\n",
              "  }\n",
              "\n",
              "  @keyframes spin {\n",
              "    0% {\n",
              "      border-color: transparent;\n",
              "      border-bottom-color: var(--fill-color);\n",
              "      border-left-color: var(--fill-color);\n",
              "    }\n",
              "    20% {\n",
              "      border-color: transparent;\n",
              "      border-left-color: var(--fill-color);\n",
              "      border-top-color: var(--fill-color);\n",
              "    }\n",
              "    30% {\n",
              "      border-color: transparent;\n",
              "      border-left-color: var(--fill-color);\n",
              "      border-top-color: var(--fill-color);\n",
              "      border-right-color: var(--fill-color);\n",
              "    }\n",
              "    40% {\n",
              "      border-color: transparent;\n",
              "      border-right-color: var(--fill-color);\n",
              "      border-top-color: var(--fill-color);\n",
              "    }\n",
              "    60% {\n",
              "      border-color: transparent;\n",
              "      border-right-color: var(--fill-color);\n",
              "    }\n",
              "    80% {\n",
              "      border-color: transparent;\n",
              "      border-right-color: var(--fill-color);\n",
              "      border-bottom-color: var(--fill-color);\n",
              "    }\n",
              "    90% {\n",
              "      border-color: transparent;\n",
              "      border-bottom-color: var(--fill-color);\n",
              "    }\n",
              "  }\n",
              "</style>\n",
              "\n",
              "  <script>\n",
              "    async function quickchart(key) {\n",
              "      const quickchartButtonEl =\n",
              "        document.querySelector('#' + key + ' button');\n",
              "      quickchartButtonEl.disabled = true;  // To prevent multiple clicks.\n",
              "      quickchartButtonEl.classList.add('colab-df-spinner');\n",
              "      try {\n",
              "        const charts = await google.colab.kernel.invokeFunction(\n",
              "            'suggestCharts', [key], {});\n",
              "      } catch (error) {\n",
              "        console.error('Error during call to suggestCharts:', error);\n",
              "      }\n",
              "      quickchartButtonEl.classList.remove('colab-df-spinner');\n",
              "      quickchartButtonEl.classList.add('colab-df-quickchart-complete');\n",
              "    }\n",
              "    (() => {\n",
              "      let quickchartButtonEl =\n",
              "        document.querySelector('#df-536b461a-1943-4881-bb5f-2fde15e0a02f button');\n",
              "      quickchartButtonEl.style.display =\n",
              "        google.colab.kernel.accessAllowed ? 'block' : 'none';\n",
              "    })();\n",
              "  </script>\n",
              "</div>\n",
              "    </div>\n",
              "  </div>\n"
            ]
          },
          "metadata": {},
          "execution_count": 49
        }
      ],
      "source": [
        "df.shape\n",
        "df.head()"
      ]
    },
    {
      "cell_type": "code",
      "execution_count": null,
      "metadata": {
        "colab": {
          "base_uri": "https://localhost:8080/"
        },
        "id": "M-rIIYJ5QabY",
        "outputId": "0c91bbf1-a61d-476a-f928-b4b72db7fb29"
      },
      "outputs": [
        {
          "output_type": "stream",
          "name": "stdout",
          "text": [
            "<class 'pandas.core.frame.DataFrame'>\n",
            "RangeIndex: 741 entries, 0 to 740\n",
            "Data columns (total 6 columns):\n",
            " #   Column      Non-Null Count  Dtype \n",
            "---  ------      --------------  ----- \n",
            " 0   name        741 non-null    object\n",
            " 1   company     741 non-null    object\n",
            " 2   year        741 non-null    int64 \n",
            " 3   Price       741 non-null    int64 \n",
            " 4   kms_driven  741 non-null    int64 \n",
            " 5   fuel_type   741 non-null    object\n",
            "dtypes: int64(3), object(3)\n",
            "memory usage: 34.9+ KB\n"
          ]
        }
      ],
      "source": [
        "df.info()"
      ]
    },
    {
      "cell_type": "code",
      "execution_count": null,
      "metadata": {
        "id": "QCJjQrQuRxac"
      },
      "outputs": [],
      "source": [
        "target_variable = 'Price'\n",
        "\n",
        "X,y = exe.sep(df,target_variable)"
      ]
    },
    {
      "cell_type": "code",
      "execution_count": null,
      "metadata": {
        "colab": {
          "base_uri": "https://localhost:8080/",
          "height": 424
        },
        "id": "FskSwzTGUy0x",
        "outputId": "b07212e7-6af2-4a12-dbee-62092b00228a"
      },
      "outputs": [
        {
          "output_type": "execute_result",
          "data": {
            "text/plain": [
              "                       name   company  year  kms_driven fuel_type\n",
              "0       Hyundai Santro Xing   Hyundai  2007       45000    Petrol\n",
              "1       Mahindra Jeep CL550  Mahindra  2006          40    Diesel\n",
              "2         Hyundai Grand i10   Hyundai  2014       28000    Petrol\n",
              "3    Ford EcoSport Titanium      Ford  2014       36000    Diesel\n",
              "4                 Ford Figo      Ford  2012       41000    Diesel\n",
              "..                      ...       ...   ...         ...       ...\n",
              "736      Maruti Suzuki Ritz    Maruti  2011       50000    Petrol\n",
              "737          Tata Indica V2      Tata  2009       30000    Diesel\n",
              "738    Toyota Corolla Altis    Toyota  2009      132000    Petrol\n",
              "739            Tata Zest XM      Tata  2018       27000    Diesel\n",
              "740      Mahindra Quanto C8  Mahindra  2013       40000    Diesel\n",
              "\n",
              "[741 rows x 5 columns]"
            ],
            "text/html": [
              "\n",
              "  <div id=\"df-bb985b01-9087-461a-8a28-de7c973c2378\" class=\"colab-df-container\">\n",
              "    <div>\n",
              "<style scoped>\n",
              "    .dataframe tbody tr th:only-of-type {\n",
              "        vertical-align: middle;\n",
              "    }\n",
              "\n",
              "    .dataframe tbody tr th {\n",
              "        vertical-align: top;\n",
              "    }\n",
              "\n",
              "    .dataframe thead th {\n",
              "        text-align: right;\n",
              "    }\n",
              "</style>\n",
              "<table border=\"1\" class=\"dataframe\">\n",
              "  <thead>\n",
              "    <tr style=\"text-align: right;\">\n",
              "      <th></th>\n",
              "      <th>name</th>\n",
              "      <th>company</th>\n",
              "      <th>year</th>\n",
              "      <th>kms_driven</th>\n",
              "      <th>fuel_type</th>\n",
              "    </tr>\n",
              "  </thead>\n",
              "  <tbody>\n",
              "    <tr>\n",
              "      <th>0</th>\n",
              "      <td>Hyundai Santro Xing</td>\n",
              "      <td>Hyundai</td>\n",
              "      <td>2007</td>\n",
              "      <td>45000</td>\n",
              "      <td>Petrol</td>\n",
              "    </tr>\n",
              "    <tr>\n",
              "      <th>1</th>\n",
              "      <td>Mahindra Jeep CL550</td>\n",
              "      <td>Mahindra</td>\n",
              "      <td>2006</td>\n",
              "      <td>40</td>\n",
              "      <td>Diesel</td>\n",
              "    </tr>\n",
              "    <tr>\n",
              "      <th>2</th>\n",
              "      <td>Hyundai Grand i10</td>\n",
              "      <td>Hyundai</td>\n",
              "      <td>2014</td>\n",
              "      <td>28000</td>\n",
              "      <td>Petrol</td>\n",
              "    </tr>\n",
              "    <tr>\n",
              "      <th>3</th>\n",
              "      <td>Ford EcoSport Titanium</td>\n",
              "      <td>Ford</td>\n",
              "      <td>2014</td>\n",
              "      <td>36000</td>\n",
              "      <td>Diesel</td>\n",
              "    </tr>\n",
              "    <tr>\n",
              "      <th>4</th>\n",
              "      <td>Ford Figo</td>\n",
              "      <td>Ford</td>\n",
              "      <td>2012</td>\n",
              "      <td>41000</td>\n",
              "      <td>Diesel</td>\n",
              "    </tr>\n",
              "    <tr>\n",
              "      <th>...</th>\n",
              "      <td>...</td>\n",
              "      <td>...</td>\n",
              "      <td>...</td>\n",
              "      <td>...</td>\n",
              "      <td>...</td>\n",
              "    </tr>\n",
              "    <tr>\n",
              "      <th>736</th>\n",
              "      <td>Maruti Suzuki Ritz</td>\n",
              "      <td>Maruti</td>\n",
              "      <td>2011</td>\n",
              "      <td>50000</td>\n",
              "      <td>Petrol</td>\n",
              "    </tr>\n",
              "    <tr>\n",
              "      <th>737</th>\n",
              "      <td>Tata Indica V2</td>\n",
              "      <td>Tata</td>\n",
              "      <td>2009</td>\n",
              "      <td>30000</td>\n",
              "      <td>Diesel</td>\n",
              "    </tr>\n",
              "    <tr>\n",
              "      <th>738</th>\n",
              "      <td>Toyota Corolla Altis</td>\n",
              "      <td>Toyota</td>\n",
              "      <td>2009</td>\n",
              "      <td>132000</td>\n",
              "      <td>Petrol</td>\n",
              "    </tr>\n",
              "    <tr>\n",
              "      <th>739</th>\n",
              "      <td>Tata Zest XM</td>\n",
              "      <td>Tata</td>\n",
              "      <td>2018</td>\n",
              "      <td>27000</td>\n",
              "      <td>Diesel</td>\n",
              "    </tr>\n",
              "    <tr>\n",
              "      <th>740</th>\n",
              "      <td>Mahindra Quanto C8</td>\n",
              "      <td>Mahindra</td>\n",
              "      <td>2013</td>\n",
              "      <td>40000</td>\n",
              "      <td>Diesel</td>\n",
              "    </tr>\n",
              "  </tbody>\n",
              "</table>\n",
              "<p>741 rows × 5 columns</p>\n",
              "</div>\n",
              "    <div class=\"colab-df-buttons\">\n",
              "\n",
              "  <div class=\"colab-df-container\">\n",
              "    <button class=\"colab-df-convert\" onclick=\"convertToInteractive('df-bb985b01-9087-461a-8a28-de7c973c2378')\"\n",
              "            title=\"Convert this dataframe to an interactive table.\"\n",
              "            style=\"display:none;\">\n",
              "\n",
              "  <svg xmlns=\"http://www.w3.org/2000/svg\" height=\"24px\" viewBox=\"0 -960 960 960\">\n",
              "    <path d=\"M120-120v-720h720v720H120Zm60-500h600v-160H180v160Zm220 220h160v-160H400v160Zm0 220h160v-160H400v160ZM180-400h160v-160H180v160Zm440 0h160v-160H620v160ZM180-180h160v-160H180v160Zm440 0h160v-160H620v160Z\"/>\n",
              "  </svg>\n",
              "    </button>\n",
              "\n",
              "  <style>\n",
              "    .colab-df-container {\n",
              "      display:flex;\n",
              "      gap: 12px;\n",
              "    }\n",
              "\n",
              "    .colab-df-convert {\n",
              "      background-color: #E8F0FE;\n",
              "      border: none;\n",
              "      border-radius: 50%;\n",
              "      cursor: pointer;\n",
              "      display: none;\n",
              "      fill: #1967D2;\n",
              "      height: 32px;\n",
              "      padding: 0 0 0 0;\n",
              "      width: 32px;\n",
              "    }\n",
              "\n",
              "    .colab-df-convert:hover {\n",
              "      background-color: #E2EBFA;\n",
              "      box-shadow: 0px 1px 2px rgba(60, 64, 67, 0.3), 0px 1px 3px 1px rgba(60, 64, 67, 0.15);\n",
              "      fill: #174EA6;\n",
              "    }\n",
              "\n",
              "    .colab-df-buttons div {\n",
              "      margin-bottom: 4px;\n",
              "    }\n",
              "\n",
              "    [theme=dark] .colab-df-convert {\n",
              "      background-color: #3B4455;\n",
              "      fill: #D2E3FC;\n",
              "    }\n",
              "\n",
              "    [theme=dark] .colab-df-convert:hover {\n",
              "      background-color: #434B5C;\n",
              "      box-shadow: 0px 1px 3px 1px rgba(0, 0, 0, 0.15);\n",
              "      filter: drop-shadow(0px 1px 2px rgba(0, 0, 0, 0.3));\n",
              "      fill: #FFFFFF;\n",
              "    }\n",
              "  </style>\n",
              "\n",
              "    <script>\n",
              "      const buttonEl =\n",
              "        document.querySelector('#df-bb985b01-9087-461a-8a28-de7c973c2378 button.colab-df-convert');\n",
              "      buttonEl.style.display =\n",
              "        google.colab.kernel.accessAllowed ? 'block' : 'none';\n",
              "\n",
              "      async function convertToInteractive(key) {\n",
              "        const element = document.querySelector('#df-bb985b01-9087-461a-8a28-de7c973c2378');\n",
              "        const dataTable =\n",
              "          await google.colab.kernel.invokeFunction('convertToInteractive',\n",
              "                                                    [key], {});\n",
              "        if (!dataTable) return;\n",
              "\n",
              "        const docLinkHtml = 'Like what you see? Visit the ' +\n",
              "          '<a target=\"_blank\" href=https://colab.research.google.com/notebooks/data_table.ipynb>data table notebook</a>'\n",
              "          + ' to learn more about interactive tables.';\n",
              "        element.innerHTML = '';\n",
              "        dataTable['output_type'] = 'display_data';\n",
              "        await google.colab.output.renderOutput(dataTable, element);\n",
              "        const docLink = document.createElement('div');\n",
              "        docLink.innerHTML = docLinkHtml;\n",
              "        element.appendChild(docLink);\n",
              "      }\n",
              "    </script>\n",
              "  </div>\n",
              "\n",
              "\n",
              "<div id=\"df-f0e6d779-31b3-4150-85d5-172946bfbe8c\">\n",
              "  <button class=\"colab-df-quickchart\" onclick=\"quickchart('df-f0e6d779-31b3-4150-85d5-172946bfbe8c')\"\n",
              "            title=\"Suggest charts.\"\n",
              "            style=\"display:none;\">\n",
              "\n",
              "<svg xmlns=\"http://www.w3.org/2000/svg\" height=\"24px\"viewBox=\"0 0 24 24\"\n",
              "     width=\"24px\">\n",
              "    <g>\n",
              "        <path d=\"M19 3H5c-1.1 0-2 .9-2 2v14c0 1.1.9 2 2 2h14c1.1 0 2-.9 2-2V5c0-1.1-.9-2-2-2zM9 17H7v-7h2v7zm4 0h-2V7h2v10zm4 0h-2v-4h2v4z\"/>\n",
              "    </g>\n",
              "</svg>\n",
              "  </button>\n",
              "\n",
              "<style>\n",
              "  .colab-df-quickchart {\n",
              "      --bg-color: #E8F0FE;\n",
              "      --fill-color: #1967D2;\n",
              "      --hover-bg-color: #E2EBFA;\n",
              "      --hover-fill-color: #174EA6;\n",
              "      --disabled-fill-color: #AAA;\n",
              "      --disabled-bg-color: #DDD;\n",
              "  }\n",
              "\n",
              "  [theme=dark] .colab-df-quickchart {\n",
              "      --bg-color: #3B4455;\n",
              "      --fill-color: #D2E3FC;\n",
              "      --hover-bg-color: #434B5C;\n",
              "      --hover-fill-color: #FFFFFF;\n",
              "      --disabled-bg-color: #3B4455;\n",
              "      --disabled-fill-color: #666;\n",
              "  }\n",
              "\n",
              "  .colab-df-quickchart {\n",
              "    background-color: var(--bg-color);\n",
              "    border: none;\n",
              "    border-radius: 50%;\n",
              "    cursor: pointer;\n",
              "    display: none;\n",
              "    fill: var(--fill-color);\n",
              "    height: 32px;\n",
              "    padding: 0;\n",
              "    width: 32px;\n",
              "  }\n",
              "\n",
              "  .colab-df-quickchart:hover {\n",
              "    background-color: var(--hover-bg-color);\n",
              "    box-shadow: 0 1px 2px rgba(60, 64, 67, 0.3), 0 1px 3px 1px rgba(60, 64, 67, 0.15);\n",
              "    fill: var(--button-hover-fill-color);\n",
              "  }\n",
              "\n",
              "  .colab-df-quickchart-complete:disabled,\n",
              "  .colab-df-quickchart-complete:disabled:hover {\n",
              "    background-color: var(--disabled-bg-color);\n",
              "    fill: var(--disabled-fill-color);\n",
              "    box-shadow: none;\n",
              "  }\n",
              "\n",
              "  .colab-df-spinner {\n",
              "    border: 2px solid var(--fill-color);\n",
              "    border-color: transparent;\n",
              "    border-bottom-color: var(--fill-color);\n",
              "    animation:\n",
              "      spin 1s steps(1) infinite;\n",
              "  }\n",
              "\n",
              "  @keyframes spin {\n",
              "    0% {\n",
              "      border-color: transparent;\n",
              "      border-bottom-color: var(--fill-color);\n",
              "      border-left-color: var(--fill-color);\n",
              "    }\n",
              "    20% {\n",
              "      border-color: transparent;\n",
              "      border-left-color: var(--fill-color);\n",
              "      border-top-color: var(--fill-color);\n",
              "    }\n",
              "    30% {\n",
              "      border-color: transparent;\n",
              "      border-left-color: var(--fill-color);\n",
              "      border-top-color: var(--fill-color);\n",
              "      border-right-color: var(--fill-color);\n",
              "    }\n",
              "    40% {\n",
              "      border-color: transparent;\n",
              "      border-right-color: var(--fill-color);\n",
              "      border-top-color: var(--fill-color);\n",
              "    }\n",
              "    60% {\n",
              "      border-color: transparent;\n",
              "      border-right-color: var(--fill-color);\n",
              "    }\n",
              "    80% {\n",
              "      border-color: transparent;\n",
              "      border-right-color: var(--fill-color);\n",
              "      border-bottom-color: var(--fill-color);\n",
              "    }\n",
              "    90% {\n",
              "      border-color: transparent;\n",
              "      border-bottom-color: var(--fill-color);\n",
              "    }\n",
              "  }\n",
              "</style>\n",
              "\n",
              "  <script>\n",
              "    async function quickchart(key) {\n",
              "      const quickchartButtonEl =\n",
              "        document.querySelector('#' + key + ' button');\n",
              "      quickchartButtonEl.disabled = true;  // To prevent multiple clicks.\n",
              "      quickchartButtonEl.classList.add('colab-df-spinner');\n",
              "      try {\n",
              "        const charts = await google.colab.kernel.invokeFunction(\n",
              "            'suggestCharts', [key], {});\n",
              "      } catch (error) {\n",
              "        console.error('Error during call to suggestCharts:', error);\n",
              "      }\n",
              "      quickchartButtonEl.classList.remove('colab-df-spinner');\n",
              "      quickchartButtonEl.classList.add('colab-df-quickchart-complete');\n",
              "    }\n",
              "    (() => {\n",
              "      let quickchartButtonEl =\n",
              "        document.querySelector('#df-f0e6d779-31b3-4150-85d5-172946bfbe8c button');\n",
              "      quickchartButtonEl.style.display =\n",
              "        google.colab.kernel.accessAllowed ? 'block' : 'none';\n",
              "    })();\n",
              "  </script>\n",
              "</div>\n",
              "    </div>\n",
              "  </div>\n"
            ]
          },
          "metadata": {},
          "execution_count": 52
        }
      ],
      "source": [
        "X"
      ]
    },
    {
      "cell_type": "code",
      "execution_count": null,
      "metadata": {
        "id": "dxEuFhaZo6HR"
      },
      "outputs": [],
      "source": [
        "X_train,X_test,y_train,y_test = exe.sep_split(df,target_variable,test_size=0.1,random_state=555)"
      ]
    },
    {
      "cell_type": "code",
      "execution_count": null,
      "metadata": {
        "colab": {
          "base_uri": "https://localhost:8080/"
        },
        "id": "4jyEQIqNpXOr",
        "outputId": "c032849e-1deb-4f2e-bb13-55630040fc10"
      },
      "outputs": [
        {
          "output_type": "stream",
          "name": "stdout",
          "text": [
            "(666, 5) (75, 5)\n",
            "(666,) (75,)\n"
          ]
        }
      ],
      "source": [
        "print(X_train.shape, X_test.shape)\n",
        "print(y_train.shape, y_test.shape)"
      ]
    },
    {
      "cell_type": "code",
      "execution_count": null,
      "metadata": {
        "colab": {
          "base_uri": "https://localhost:8080/"
        },
        "id": "exq2PZK_3t3B",
        "outputId": "f448ef05-061c-4e97-bf2d-24eb69587e04"
      },
      "outputs": [
        {
          "output_type": "execute_result",
          "data": {
            "text/plain": [
              "['year', 'kms_driven']"
            ]
          },
          "metadata": {},
          "execution_count": 55
        }
      ],
      "source": [
        "num_col = [col for col in X_train.columns if X_train[col].dtypes!='O']\n",
        "num_col"
      ]
    },
    {
      "cell_type": "code",
      "execution_count": null,
      "metadata": {
        "colab": {
          "base_uri": "https://localhost:8080/"
        },
        "id": "ubhh2ZwW3yd8",
        "outputId": "e5f6ec7f-7364-4192-d956-d73c889ffb9d"
      },
      "outputs": [
        {
          "output_type": "execute_result",
          "data": {
            "text/plain": [
              "['name', 'company', 'fuel_type']"
            ]
          },
          "metadata": {},
          "execution_count": 56
        }
      ],
      "source": [
        "cat_col = [col for col in X_train.columns if X_train[col].dtypes=='O']\n",
        "cat_col"
      ]
    },
    {
      "cell_type": "code",
      "execution_count": null,
      "metadata": {
        "id": "Jj6HYDfRW0Kq"
      },
      "outputs": [],
      "source": [
        "num_col = ['year','kms_driven']\n",
        "cat_col = ['name', 'company','fuel_type']"
      ]
    },
    {
      "cell_type": "code",
      "execution_count": null,
      "metadata": {
        "id": "pSPI-_VQfxnv"
      },
      "outputs": [],
      "source": [
        "num_feature = exe.column_identify(df,num_col)\n",
        "cat_feature = exe.column_identify(df,cat_col)"
      ]
    },
    {
      "cell_type": "code",
      "execution_count": null,
      "metadata": {
        "colab": {
          "base_uri": "https://localhost:8080/"
        },
        "id": "pl_tDAIQg7di",
        "outputId": "b72fc317-6755-4b22-8986-92a0fe6a51d9"
      },
      "outputs": [
        {
          "output_type": "stream",
          "name": "stdout",
          "text": [
            "{'year': 17, 'kms_driven': 226}\n",
            "{'name': 217, 'company': 12, 'fuel_type': 3}\n"
          ]
        }
      ],
      "source": [
        "print(num_feature)\n",
        "print(cat_feature)"
      ]
    },
    {
      "cell_type": "code",
      "execution_count": null,
      "metadata": {
        "id": "CfQQV5QehqM5"
      },
      "outputs": [],
      "source": [
        "# distinguish each feature into different categories which will perform column transform\n",
        "numeric_features = []\n",
        "categorical_features = ['name','company','fuel_type']\n",
        "passthrough_features = ['year','kms_driven']\n",
        "drop_features = []"
      ]
    },
    {
      "cell_type": "code",
      "execution_count": null,
      "metadata": {
        "colab": {
          "base_uri": "https://localhost:8080/",
          "height": 75
        },
        "id": "sYUl5PQxhfNQ",
        "outputId": "a0c7b4ed-3097-4ddb-b9b6-6468974e2f82"
      },
      "outputs": [
        {
          "output_type": "execute_result",
          "data": {
            "text/plain": [
              "OneHotEncoder()"
            ],
            "text/html": [
              "<style>#sk-container-id-1 {color: black;background-color: white;}#sk-container-id-1 pre{padding: 0;}#sk-container-id-1 div.sk-toggleable {background-color: white;}#sk-container-id-1 label.sk-toggleable__label {cursor: pointer;display: block;width: 100%;margin-bottom: 0;padding: 0.3em;box-sizing: border-box;text-align: center;}#sk-container-id-1 label.sk-toggleable__label-arrow:before {content: \"▸\";float: left;margin-right: 0.25em;color: #696969;}#sk-container-id-1 label.sk-toggleable__label-arrow:hover:before {color: black;}#sk-container-id-1 div.sk-estimator:hover label.sk-toggleable__label-arrow:before {color: black;}#sk-container-id-1 div.sk-toggleable__content {max-height: 0;max-width: 0;overflow: hidden;text-align: left;background-color: #f0f8ff;}#sk-container-id-1 div.sk-toggleable__content pre {margin: 0.2em;color: black;border-radius: 0.25em;background-color: #f0f8ff;}#sk-container-id-1 input.sk-toggleable__control:checked~div.sk-toggleable__content {max-height: 200px;max-width: 100%;overflow: auto;}#sk-container-id-1 input.sk-toggleable__control:checked~label.sk-toggleable__label-arrow:before {content: \"▾\";}#sk-container-id-1 div.sk-estimator input.sk-toggleable__control:checked~label.sk-toggleable__label {background-color: #d4ebff;}#sk-container-id-1 div.sk-label input.sk-toggleable__control:checked~label.sk-toggleable__label {background-color: #d4ebff;}#sk-container-id-1 input.sk-hidden--visually {border: 0;clip: rect(1px 1px 1px 1px);clip: rect(1px, 1px, 1px, 1px);height: 1px;margin: -1px;overflow: hidden;padding: 0;position: absolute;width: 1px;}#sk-container-id-1 div.sk-estimator {font-family: monospace;background-color: #f0f8ff;border: 1px dotted black;border-radius: 0.25em;box-sizing: border-box;margin-bottom: 0.5em;}#sk-container-id-1 div.sk-estimator:hover {background-color: #d4ebff;}#sk-container-id-1 div.sk-parallel-item::after {content: \"\";width: 100%;border-bottom: 1px solid gray;flex-grow: 1;}#sk-container-id-1 div.sk-label:hover label.sk-toggleable__label {background-color: #d4ebff;}#sk-container-id-1 div.sk-serial::before {content: \"\";position: absolute;border-left: 1px solid gray;box-sizing: border-box;top: 0;bottom: 0;left: 50%;z-index: 0;}#sk-container-id-1 div.sk-serial {display: flex;flex-direction: column;align-items: center;background-color: white;padding-right: 0.2em;padding-left: 0.2em;position: relative;}#sk-container-id-1 div.sk-item {position: relative;z-index: 1;}#sk-container-id-1 div.sk-parallel {display: flex;align-items: stretch;justify-content: center;background-color: white;position: relative;}#sk-container-id-1 div.sk-item::before, #sk-container-id-1 div.sk-parallel-item::before {content: \"\";position: absolute;border-left: 1px solid gray;box-sizing: border-box;top: 0;bottom: 0;left: 50%;z-index: -1;}#sk-container-id-1 div.sk-parallel-item {display: flex;flex-direction: column;z-index: 1;position: relative;background-color: white;}#sk-container-id-1 div.sk-parallel-item:first-child::after {align-self: flex-end;width: 50%;}#sk-container-id-1 div.sk-parallel-item:last-child::after {align-self: flex-start;width: 50%;}#sk-container-id-1 div.sk-parallel-item:only-child::after {width: 0;}#sk-container-id-1 div.sk-dashed-wrapped {border: 1px dashed gray;margin: 0 0.4em 0.5em 0.4em;box-sizing: border-box;padding-bottom: 0.4em;background-color: white;}#sk-container-id-1 div.sk-label label {font-family: monospace;font-weight: bold;display: inline-block;line-height: 1.2em;}#sk-container-id-1 div.sk-label-container {text-align: center;}#sk-container-id-1 div.sk-container {/* jupyter's `normalize.less` sets `[hidden] { display: none; }` but bootstrap.min.css set `[hidden] { display: none !important; }` so we also need the `!important` here to be able to override the default hidden behavior on the sphinx rendered scikit-learn.org. See: https://github.com/scikit-learn/scikit-learn/issues/21755 */display: inline-block !important;position: relative;}#sk-container-id-1 div.sk-text-repr-fallback {display: none;}</style><div id=\"sk-container-id-1\" class=\"sk-top-container\"><div class=\"sk-text-repr-fallback\"><pre>OneHotEncoder()</pre><b>In a Jupyter environment, please rerun this cell to show the HTML representation or trust the notebook. <br />On GitHub, the HTML representation is unable to render, please try loading this page with nbviewer.org.</b></div><div class=\"sk-container\" hidden><div class=\"sk-item\"><div class=\"sk-estimator sk-toggleable\"><input class=\"sk-toggleable__control sk-hidden--visually\" id=\"sk-estimator-id-1\" type=\"checkbox\" checked><label for=\"sk-estimator-id-1\" class=\"sk-toggleable__label sk-toggleable__label-arrow\">OneHotEncoder</label><div class=\"sk-toggleable__content\"><pre>OneHotEncoder()</pre></div></div></div></div></div>"
            ]
          },
          "metadata": {},
          "execution_count": 61
        }
      ],
      "source": [
        "ohe=OneHotEncoder()\n",
        "ohe.fit(X[['name','company','fuel_type']])"
      ]
    },
    {
      "cell_type": "code",
      "execution_count": null,
      "metadata": {
        "colab": {
          "base_uri": "https://localhost:8080/"
        },
        "id": "BTnBBW__vXGH",
        "outputId": "c318fab6-c4ce-4491-8701-1f05eff4594b"
      },
      "outputs": [
        {
          "output_type": "execute_result",
          "data": {
            "text/plain": [
              "[array(['Audi A4 1.8', 'Audi A4 2.0', 'Audi A6 2.0', 'Audi A8',\n",
              "        'Audi Q3 2.0', 'Audi Q7', 'Chevrolet Beat',\n",
              "        'Chevrolet Beat Diesel', 'Chevrolet Beat LS', 'Chevrolet Beat LT',\n",
              "        'Chevrolet Beat PS', 'Chevrolet Cruze LTZ', 'Chevrolet Enjoy',\n",
              "        'Chevrolet Enjoy 1.4', 'Chevrolet Sail 1.2', 'Chevrolet Sail UVA',\n",
              "        'Chevrolet Spark', 'Chevrolet Spark 1.0', 'Chevrolet Spark LS',\n",
              "        'Chevrolet Spark LT', 'Chevrolet Tavera LS',\n",
              "        'Chevrolet Tavera Neo', 'Ford EcoSport', 'Ford EcoSport Ambiente',\n",
              "        'Ford EcoSport Titanium', 'Ford EcoSport Trend', 'Ford Fiesta',\n",
              "        'Ford Fiesta SXi', 'Ford Figo', 'Ford Figo Diesel',\n",
              "        'Ford Figo Duratorq', 'Ford Figo Petrol', 'Ford Fusion 1.4',\n",
              "        'Ford Ikon 1.3', 'Ford Ikon 1.6', 'Honda Accord', 'Honda Amaze',\n",
              "        'Honda Amaze 1.2', 'Honda Amaze 1.5', 'Honda Brio', 'Honda Brio V',\n",
              "        'Honda Brio VX', 'Honda City', 'Honda City 1.5', 'Honda City SV',\n",
              "        'Honda City VX', 'Honda City ZX', 'Honda Jazz S', 'Honda Jazz VX',\n",
              "        'Honda Mobilio', 'Honda Mobilio S', 'Honda WR V', 'Hyundai Accent',\n",
              "        'Hyundai Accent Executive', 'Hyundai Accent GLE',\n",
              "        'Hyundai Accent GLX', 'Hyundai Creta', 'Hyundai Creta 1.6',\n",
              "        'Hyundai Elantra 1.8', 'Hyundai Elantra SX', 'Hyundai Elite i20',\n",
              "        'Hyundai Eon', 'Hyundai Eon D', 'Hyundai Eon Era',\n",
              "        'Hyundai Eon Magna', 'Hyundai Eon Sportz', 'Hyundai Fluidic Verna',\n",
              "        'Hyundai Getz', 'Hyundai Getz GLE', 'Hyundai Getz Prime',\n",
              "        'Hyundai Grand i10', 'Hyundai Santro', 'Hyundai Santro AE',\n",
              "        'Hyundai Santro Xing', 'Hyundai Sonata Transform', 'Hyundai Verna',\n",
              "        'Hyundai Verna 1.4', 'Hyundai Verna 1.6', 'Hyundai Verna Fluidic',\n",
              "        'Hyundai Verna Transform', 'Hyundai Verna VGT',\n",
              "        'Hyundai Xcent Base', 'Hyundai Xcent SX', 'Hyundai i10',\n",
              "        'Hyundai i10 Era', 'Hyundai i10 Magna', 'Hyundai i10 Sportz',\n",
              "        'Hyundai i20', 'Hyundai i20 Active', 'Hyundai i20 Asta',\n",
              "        'Hyundai i20 Magna', 'Hyundai i20 Select', 'Hyundai i20 Sportz',\n",
              "        'Mahindra Bolero DI', 'Mahindra Bolero Power',\n",
              "        'Mahindra Bolero SLE', 'Mahindra Jeep CL550', 'Mahindra Jeep MM',\n",
              "        'Mahindra KUV100', 'Mahindra KUV100 K8', 'Mahindra Logan',\n",
              "        'Mahindra Logan Diesel', 'Mahindra Quanto C4',\n",
              "        'Mahindra Quanto C8', 'Mahindra Scorpio', 'Mahindra Scorpio 2.6',\n",
              "        'Mahindra Scorpio LX', 'Mahindra Scorpio S10',\n",
              "        'Mahindra Scorpio S4', 'Mahindra Scorpio SLE',\n",
              "        'Mahindra Scorpio SLX', 'Mahindra Scorpio VLX',\n",
              "        'Mahindra Scorpio Vlx', 'Mahindra Scorpio W', 'Mahindra TUV300 T4',\n",
              "        'Mahindra TUV300 T8', 'Mahindra Thar CRDe', 'Mahindra XUV500',\n",
              "        'Mahindra XUV500 W10', 'Mahindra XUV500 W6', 'Mahindra XUV500 W8',\n",
              "        'Mahindra Xylo D2', 'Mahindra Xylo E4', 'Mahindra Xylo E8',\n",
              "        'Maruti Suzuki A', 'Maruti Suzuki Alto', 'Maruti Suzuki Baleno',\n",
              "        'Maruti Suzuki Celerio', 'Maruti Suzuki Ciaz',\n",
              "        'Maruti Suzuki Dzire', 'Maruti Suzuki Eeco',\n",
              "        'Maruti Suzuki Ertiga', 'Maruti Suzuki Esteem',\n",
              "        'Maruti Suzuki Estilo', 'Maruti Suzuki Maruti',\n",
              "        'Maruti Suzuki Omni', 'Maruti Suzuki Ritz', 'Maruti Suzuki S',\n",
              "        'Maruti Suzuki SX4', 'Maruti Suzuki Stingray',\n",
              "        'Maruti Suzuki Swift', 'Maruti Suzuki Versa',\n",
              "        'Maruti Suzuki Vitara', 'Maruti Suzuki Wagon', 'Maruti Suzuki Zen',\n",
              "        'Renault Duster', 'Renault Duster 110', 'Renault Duster 110PS',\n",
              "        'Renault Duster 85', 'Renault Duster 85PS', 'Renault Duster RxL',\n",
              "        'Renault Kwid', 'Renault Kwid 1.0', 'Renault Kwid RXT',\n",
              "        'Renault Lodgy 85', 'Renault Scala RxL', 'Skoda Fabia',\n",
              "        'Skoda Fabia 1.2L', 'Skoda Fabia Classic', 'Skoda Laura',\n",
              "        'Skoda Octavia Classic', 'Skoda Rapid Elegance',\n",
              "        'Skoda Superb 1.8', 'Skoda Yeti Ambition', 'Tata Aria Pleasure',\n",
              "        'Tata Bolt XM', 'Tata Indica', 'Tata Indica V2', 'Tata Indica eV2',\n",
              "        'Tata Indigo CS', 'Tata Indigo LS', 'Tata Indigo LX',\n",
              "        'Tata Indigo Marina', 'Tata Indigo eCS', 'Tata Manza',\n",
              "        'Tata Manza Aqua', 'Tata Manza Aura', 'Tata Manza ELAN',\n",
              "        'Tata Nano', 'Tata Nano Cx', 'Tata Nano GenX', 'Tata Nano LX',\n",
              "        'Tata Nano Lx', 'Tata Sumo Gold', 'Tata Sumo Grande',\n",
              "        'Tata Sumo Victa', 'Tata Tiago Revotorq', 'Tata Tiago Revotron',\n",
              "        'Tata Tigor Revotron', 'Tata Venture EX', 'Tata Vista Quadrajet',\n",
              "        'Tata Zest Quadrajet', 'Tata Zest XE', 'Tata Zest XM',\n",
              "        'Toyota Corolla', 'Toyota Corolla Altis', 'Toyota Corolla H2',\n",
              "        'Toyota Etios', 'Toyota Etios G', 'Toyota Etios GD',\n",
              "        'Toyota Etios Liva', 'Toyota Fortuner', 'Toyota Fortuner 3.0',\n",
              "        'Toyota Innova 2.0', 'Toyota Innova 2.5', 'Toyota Qualis',\n",
              "        'Volkswagen Jetta Comfortline', 'Volkswagen Jetta Highline',\n",
              "        'Volkswagen Passat Diesel', 'Volkswagen Polo',\n",
              "        'Volkswagen Polo Comfortline', 'Volkswagen Polo Highline',\n",
              "        'Volkswagen Polo Highline1.2L', 'Volkswagen Polo Trendline',\n",
              "        'Volkswagen Vento Comfortline', 'Volkswagen Vento Highline',\n",
              "        'Volkswagen Vento Konekt'], dtype=object),\n",
              " array(['Audi', 'Chevrolet', 'Ford', 'Honda', 'Hyundai', 'Mahindra',\n",
              "        'Maruti', 'Renault', 'Skoda', 'Tata', 'Toyota', 'Volkswagen'],\n",
              "       dtype=object),\n",
              " array(['Diesel', 'LPG', 'Petrol'], dtype=object)]"
            ]
          },
          "metadata": {},
          "execution_count": 62
        }
      ],
      "source": [
        "ohe.categories_"
      ]
    },
    {
      "cell_type": "code",
      "execution_count": null,
      "metadata": {
        "id": "EqXAeDBoukxh"
      },
      "outputs": [],
      "source": [
        "column_transformation=make_column_transformer((OneHotEncoder(categories=ohe.categories_),['name','company','fuel_type']),\n",
        "                           remainder='passthrough')"
      ]
    },
    {
      "cell_type": "code",
      "execution_count": null,
      "metadata": {
        "colab": {
          "base_uri": "https://localhost:8080/",
          "height": 118
        },
        "id": "NTE85C-wjgMR",
        "outputId": "eb3ff36c-9407-4550-a376-e95411231fed"
      },
      "outputs": [
        {
          "output_type": "execute_result",
          "data": {
            "text/plain": [
              "ColumnTransformer(remainder='passthrough',\n",
              "                  transformers=[('onehotencoder',\n",
              "                                 OneHotEncoder(categories=[array(['Audi A4 1.8', 'Audi A4 2.0', 'Audi A6 2.0', 'Audi A8',\n",
              "       'Audi Q3 2.0', 'Audi Q7', 'Chevrolet Beat',\n",
              "       'Chevrolet Beat Diesel', 'Chevrolet Beat LS', 'Chevrolet Beat LT',\n",
              "       'Chevrolet Beat PS', 'Chevrolet Cruze LTZ', 'Chevrolet Enjoy',\n",
              "       'Chevrolet Enjoy 1.4', 'Chevrolet Sail 1.2', 'Chevrolet...\n",
              "       'Volkswagen Polo Highline1.2L', 'Volkswagen Polo Trendline',\n",
              "       'Volkswagen Vento Comfortline', 'Volkswagen Vento Highline',\n",
              "       'Volkswagen Vento Konekt'], dtype=object),\n",
              "                                                           array(['Audi', 'Chevrolet', 'Ford', 'Honda', 'Hyundai', 'Mahindra',\n",
              "       'Maruti', 'Renault', 'Skoda', 'Tata', 'Toyota', 'Volkswagen'],\n",
              "      dtype=object),\n",
              "                                                           array(['Diesel', 'LPG', 'Petrol'], dtype=object)]),\n",
              "                                 ['name', 'company', 'fuel_type'])])"
            ],
            "text/html": [
              "<style>#sk-container-id-2 {color: black;background-color: white;}#sk-container-id-2 pre{padding: 0;}#sk-container-id-2 div.sk-toggleable {background-color: white;}#sk-container-id-2 label.sk-toggleable__label {cursor: pointer;display: block;width: 100%;margin-bottom: 0;padding: 0.3em;box-sizing: border-box;text-align: center;}#sk-container-id-2 label.sk-toggleable__label-arrow:before {content: \"▸\";float: left;margin-right: 0.25em;color: #696969;}#sk-container-id-2 label.sk-toggleable__label-arrow:hover:before {color: black;}#sk-container-id-2 div.sk-estimator:hover label.sk-toggleable__label-arrow:before {color: black;}#sk-container-id-2 div.sk-toggleable__content {max-height: 0;max-width: 0;overflow: hidden;text-align: left;background-color: #f0f8ff;}#sk-container-id-2 div.sk-toggleable__content pre {margin: 0.2em;color: black;border-radius: 0.25em;background-color: #f0f8ff;}#sk-container-id-2 input.sk-toggleable__control:checked~div.sk-toggleable__content {max-height: 200px;max-width: 100%;overflow: auto;}#sk-container-id-2 input.sk-toggleable__control:checked~label.sk-toggleable__label-arrow:before {content: \"▾\";}#sk-container-id-2 div.sk-estimator input.sk-toggleable__control:checked~label.sk-toggleable__label {background-color: #d4ebff;}#sk-container-id-2 div.sk-label input.sk-toggleable__control:checked~label.sk-toggleable__label {background-color: #d4ebff;}#sk-container-id-2 input.sk-hidden--visually {border: 0;clip: rect(1px 1px 1px 1px);clip: rect(1px, 1px, 1px, 1px);height: 1px;margin: -1px;overflow: hidden;padding: 0;position: absolute;width: 1px;}#sk-container-id-2 div.sk-estimator {font-family: monospace;background-color: #f0f8ff;border: 1px dotted black;border-radius: 0.25em;box-sizing: border-box;margin-bottom: 0.5em;}#sk-container-id-2 div.sk-estimator:hover {background-color: #d4ebff;}#sk-container-id-2 div.sk-parallel-item::after {content: \"\";width: 100%;border-bottom: 1px solid gray;flex-grow: 1;}#sk-container-id-2 div.sk-label:hover label.sk-toggleable__label {background-color: #d4ebff;}#sk-container-id-2 div.sk-serial::before {content: \"\";position: absolute;border-left: 1px solid gray;box-sizing: border-box;top: 0;bottom: 0;left: 50%;z-index: 0;}#sk-container-id-2 div.sk-serial {display: flex;flex-direction: column;align-items: center;background-color: white;padding-right: 0.2em;padding-left: 0.2em;position: relative;}#sk-container-id-2 div.sk-item {position: relative;z-index: 1;}#sk-container-id-2 div.sk-parallel {display: flex;align-items: stretch;justify-content: center;background-color: white;position: relative;}#sk-container-id-2 div.sk-item::before, #sk-container-id-2 div.sk-parallel-item::before {content: \"\";position: absolute;border-left: 1px solid gray;box-sizing: border-box;top: 0;bottom: 0;left: 50%;z-index: -1;}#sk-container-id-2 div.sk-parallel-item {display: flex;flex-direction: column;z-index: 1;position: relative;background-color: white;}#sk-container-id-2 div.sk-parallel-item:first-child::after {align-self: flex-end;width: 50%;}#sk-container-id-2 div.sk-parallel-item:last-child::after {align-self: flex-start;width: 50%;}#sk-container-id-2 div.sk-parallel-item:only-child::after {width: 0;}#sk-container-id-2 div.sk-dashed-wrapped {border: 1px dashed gray;margin: 0 0.4em 0.5em 0.4em;box-sizing: border-box;padding-bottom: 0.4em;background-color: white;}#sk-container-id-2 div.sk-label label {font-family: monospace;font-weight: bold;display: inline-block;line-height: 1.2em;}#sk-container-id-2 div.sk-label-container {text-align: center;}#sk-container-id-2 div.sk-container {/* jupyter's `normalize.less` sets `[hidden] { display: none; }` but bootstrap.min.css set `[hidden] { display: none !important; }` so we also need the `!important` here to be able to override the default hidden behavior on the sphinx rendered scikit-learn.org. See: https://github.com/scikit-learn/scikit-learn/issues/21755 */display: inline-block !important;position: relative;}#sk-container-id-2 div.sk-text-repr-fallback {display: none;}</style><div id=\"sk-container-id-2\" class=\"sk-top-container\"><div class=\"sk-text-repr-fallback\"><pre>ColumnTransformer(remainder=&#x27;passthrough&#x27;,\n",
              "                  transformers=[(&#x27;onehotencoder&#x27;,\n",
              "                                 OneHotEncoder(categories=[array([&#x27;Audi A4 1.8&#x27;, &#x27;Audi A4 2.0&#x27;, &#x27;Audi A6 2.0&#x27;, &#x27;Audi A8&#x27;,\n",
              "       &#x27;Audi Q3 2.0&#x27;, &#x27;Audi Q7&#x27;, &#x27;Chevrolet Beat&#x27;,\n",
              "       &#x27;Chevrolet Beat Diesel&#x27;, &#x27;Chevrolet Beat LS&#x27;, &#x27;Chevrolet Beat LT&#x27;,\n",
              "       &#x27;Chevrolet Beat PS&#x27;, &#x27;Chevrolet Cruze LTZ&#x27;, &#x27;Chevrolet Enjoy&#x27;,\n",
              "       &#x27;Chevrolet Enjoy 1.4&#x27;, &#x27;Chevrolet Sail 1.2&#x27;, &#x27;Chevrolet...\n",
              "       &#x27;Volkswagen Polo Highline1.2L&#x27;, &#x27;Volkswagen Polo Trendline&#x27;,\n",
              "       &#x27;Volkswagen Vento Comfortline&#x27;, &#x27;Volkswagen Vento Highline&#x27;,\n",
              "       &#x27;Volkswagen Vento Konekt&#x27;], dtype=object),\n",
              "                                                           array([&#x27;Audi&#x27;, &#x27;Chevrolet&#x27;, &#x27;Ford&#x27;, &#x27;Honda&#x27;, &#x27;Hyundai&#x27;, &#x27;Mahindra&#x27;,\n",
              "       &#x27;Maruti&#x27;, &#x27;Renault&#x27;, &#x27;Skoda&#x27;, &#x27;Tata&#x27;, &#x27;Toyota&#x27;, &#x27;Volkswagen&#x27;],\n",
              "      dtype=object),\n",
              "                                                           array([&#x27;Diesel&#x27;, &#x27;LPG&#x27;, &#x27;Petrol&#x27;], dtype=object)]),\n",
              "                                 [&#x27;name&#x27;, &#x27;company&#x27;, &#x27;fuel_type&#x27;])])</pre><b>In a Jupyter environment, please rerun this cell to show the HTML representation or trust the notebook. <br />On GitHub, the HTML representation is unable to render, please try loading this page with nbviewer.org.</b></div><div class=\"sk-container\" hidden><div class=\"sk-item sk-dashed-wrapped\"><div class=\"sk-label-container\"><div class=\"sk-label sk-toggleable\"><input class=\"sk-toggleable__control sk-hidden--visually\" id=\"sk-estimator-id-2\" type=\"checkbox\" ><label for=\"sk-estimator-id-2\" class=\"sk-toggleable__label sk-toggleable__label-arrow\">ColumnTransformer</label><div class=\"sk-toggleable__content\"><pre>ColumnTransformer(remainder=&#x27;passthrough&#x27;,\n",
              "                  transformers=[(&#x27;onehotencoder&#x27;,\n",
              "                                 OneHotEncoder(categories=[array([&#x27;Audi A4 1.8&#x27;, &#x27;Audi A4 2.0&#x27;, &#x27;Audi A6 2.0&#x27;, &#x27;Audi A8&#x27;,\n",
              "       &#x27;Audi Q3 2.0&#x27;, &#x27;Audi Q7&#x27;, &#x27;Chevrolet Beat&#x27;,\n",
              "       &#x27;Chevrolet Beat Diesel&#x27;, &#x27;Chevrolet Beat LS&#x27;, &#x27;Chevrolet Beat LT&#x27;,\n",
              "       &#x27;Chevrolet Beat PS&#x27;, &#x27;Chevrolet Cruze LTZ&#x27;, &#x27;Chevrolet Enjoy&#x27;,\n",
              "       &#x27;Chevrolet Enjoy 1.4&#x27;, &#x27;Chevrolet Sail 1.2&#x27;, &#x27;Chevrolet...\n",
              "       &#x27;Volkswagen Polo Highline1.2L&#x27;, &#x27;Volkswagen Polo Trendline&#x27;,\n",
              "       &#x27;Volkswagen Vento Comfortline&#x27;, &#x27;Volkswagen Vento Highline&#x27;,\n",
              "       &#x27;Volkswagen Vento Konekt&#x27;], dtype=object),\n",
              "                                                           array([&#x27;Audi&#x27;, &#x27;Chevrolet&#x27;, &#x27;Ford&#x27;, &#x27;Honda&#x27;, &#x27;Hyundai&#x27;, &#x27;Mahindra&#x27;,\n",
              "       &#x27;Maruti&#x27;, &#x27;Renault&#x27;, &#x27;Skoda&#x27;, &#x27;Tata&#x27;, &#x27;Toyota&#x27;, &#x27;Volkswagen&#x27;],\n",
              "      dtype=object),\n",
              "                                                           array([&#x27;Diesel&#x27;, &#x27;LPG&#x27;, &#x27;Petrol&#x27;], dtype=object)]),\n",
              "                                 [&#x27;name&#x27;, &#x27;company&#x27;, &#x27;fuel_type&#x27;])])</pre></div></div></div><div class=\"sk-parallel\"><div class=\"sk-parallel-item\"><div class=\"sk-item\"><div class=\"sk-label-container\"><div class=\"sk-label sk-toggleable\"><input class=\"sk-toggleable__control sk-hidden--visually\" id=\"sk-estimator-id-3\" type=\"checkbox\" ><label for=\"sk-estimator-id-3\" class=\"sk-toggleable__label sk-toggleable__label-arrow\">onehotencoder</label><div class=\"sk-toggleable__content\"><pre>[&#x27;name&#x27;, &#x27;company&#x27;, &#x27;fuel_type&#x27;]</pre></div></div></div><div class=\"sk-serial\"><div class=\"sk-item\"><div class=\"sk-estimator sk-toggleable\"><input class=\"sk-toggleable__control sk-hidden--visually\" id=\"sk-estimator-id-4\" type=\"checkbox\" ><label for=\"sk-estimator-id-4\" class=\"sk-toggleable__label sk-toggleable__label-arrow\">OneHotEncoder</label><div class=\"sk-toggleable__content\"><pre>OneHotEncoder(categories=[array([&#x27;Audi A4 1.8&#x27;, &#x27;Audi A4 2.0&#x27;, &#x27;Audi A6 2.0&#x27;, &#x27;Audi A8&#x27;,\n",
              "       &#x27;Audi Q3 2.0&#x27;, &#x27;Audi Q7&#x27;, &#x27;Chevrolet Beat&#x27;,\n",
              "       &#x27;Chevrolet Beat Diesel&#x27;, &#x27;Chevrolet Beat LS&#x27;, &#x27;Chevrolet Beat LT&#x27;,\n",
              "       &#x27;Chevrolet Beat PS&#x27;, &#x27;Chevrolet Cruze LTZ&#x27;, &#x27;Chevrolet Enjoy&#x27;,\n",
              "       &#x27;Chevrolet Enjoy 1.4&#x27;, &#x27;Chevrolet Sail 1.2&#x27;, &#x27;Chevrolet Sail UVA&#x27;,\n",
              "       &#x27;Chevrolet Spark&#x27;, &#x27;Chevrolet Spark 1.0&#x27;, &#x27;Chevrolet Spark LS&#x27;,\n",
              "       &#x27;Chevrol...\n",
              "       &#x27;Volkswagen Polo Comfortline&#x27;, &#x27;Volkswagen Polo Highline&#x27;,\n",
              "       &#x27;Volkswagen Polo Highline1.2L&#x27;, &#x27;Volkswagen Polo Trendline&#x27;,\n",
              "       &#x27;Volkswagen Vento Comfortline&#x27;, &#x27;Volkswagen Vento Highline&#x27;,\n",
              "       &#x27;Volkswagen Vento Konekt&#x27;], dtype=object),\n",
              "                          array([&#x27;Audi&#x27;, &#x27;Chevrolet&#x27;, &#x27;Ford&#x27;, &#x27;Honda&#x27;, &#x27;Hyundai&#x27;, &#x27;Mahindra&#x27;,\n",
              "       &#x27;Maruti&#x27;, &#x27;Renault&#x27;, &#x27;Skoda&#x27;, &#x27;Tata&#x27;, &#x27;Toyota&#x27;, &#x27;Volkswagen&#x27;],\n",
              "      dtype=object),\n",
              "                          array([&#x27;Diesel&#x27;, &#x27;LPG&#x27;, &#x27;Petrol&#x27;], dtype=object)])</pre></div></div></div></div></div></div><div class=\"sk-parallel-item\"><div class=\"sk-item\"><div class=\"sk-label-container\"><div class=\"sk-label sk-toggleable\"><input class=\"sk-toggleable__control sk-hidden--visually\" id=\"sk-estimator-id-5\" type=\"checkbox\" ><label for=\"sk-estimator-id-5\" class=\"sk-toggleable__label sk-toggleable__label-arrow\">remainder</label><div class=\"sk-toggleable__content\"><pre></pre></div></div></div><div class=\"sk-serial\"><div class=\"sk-item\"><div class=\"sk-estimator sk-toggleable\"><input class=\"sk-toggleable__control sk-hidden--visually\" id=\"sk-estimator-id-6\" type=\"checkbox\" ><label for=\"sk-estimator-id-6\" class=\"sk-toggleable__label sk-toggleable__label-arrow\">passthrough</label><div class=\"sk-toggleable__content\"><pre>passthrough</pre></div></div></div></div></div></div></div></div></div></div>"
            ]
          },
          "metadata": {},
          "execution_count": 64
        }
      ],
      "source": [
        "column_transformation"
      ]
    },
    {
      "cell_type": "code",
      "execution_count": null,
      "metadata": {
        "id": "-5TvmMrPczTG"
      },
      "outputs": [],
      "source": [
        "model=LinearRegression()"
      ]
    },
    {
      "cell_type": "code",
      "execution_count": null,
      "metadata": {
        "id": "3QuuCsVDjbie"
      },
      "outputs": [],
      "source": [
        "pipe=make_pipeline(column_transformation,model)"
      ]
    },
    {
      "cell_type": "code",
      "execution_count": null,
      "metadata": {
        "colab": {
          "base_uri": "https://localhost:8080/",
          "height": 192
        },
        "id": "UuXaBpfWkfF9",
        "outputId": "e9059826-4712-4514-8ed2-17781c495ea7"
      },
      "outputs": [
        {
          "output_type": "execute_result",
          "data": {
            "text/plain": [
              "Pipeline(steps=[('columntransformer',\n",
              "                 ColumnTransformer(remainder='passthrough',\n",
              "                                   transformers=[('onehotencoder',\n",
              "                                                  OneHotEncoder(categories=[array(['Audi A4 1.8', 'Audi A4 2.0', 'Audi A6 2.0', 'Audi A8',\n",
              "       'Audi Q3 2.0', 'Audi Q7', 'Chevrolet Beat',\n",
              "       'Chevrolet Beat Diesel', 'Chevrolet Beat LS', 'Chevrolet Beat LT',\n",
              "       'Chevrolet Beat PS', 'Chevrolet Cruze LTZ', 'Chevrolet Enjoy',\n",
              "       'Chevrolet En...\n",
              "       'Volkswagen Vento Comfortline', 'Volkswagen Vento Highline',\n",
              "       'Volkswagen Vento Konekt'], dtype=object),\n",
              "                                                                            array(['Audi', 'Chevrolet', 'Ford', 'Honda', 'Hyundai', 'Mahindra',\n",
              "       'Maruti', 'Renault', 'Skoda', 'Tata', 'Toyota', 'Volkswagen'],\n",
              "      dtype=object),\n",
              "                                                                            array(['Diesel', 'LPG', 'Petrol'], dtype=object)]),\n",
              "                                                  ['name', 'company',\n",
              "                                                   'fuel_type'])])),\n",
              "                ('linearregression', LinearRegression())])"
            ],
            "text/html": [
              "<style>#sk-container-id-3 {color: black;background-color: white;}#sk-container-id-3 pre{padding: 0;}#sk-container-id-3 div.sk-toggleable {background-color: white;}#sk-container-id-3 label.sk-toggleable__label {cursor: pointer;display: block;width: 100%;margin-bottom: 0;padding: 0.3em;box-sizing: border-box;text-align: center;}#sk-container-id-3 label.sk-toggleable__label-arrow:before {content: \"▸\";float: left;margin-right: 0.25em;color: #696969;}#sk-container-id-3 label.sk-toggleable__label-arrow:hover:before {color: black;}#sk-container-id-3 div.sk-estimator:hover label.sk-toggleable__label-arrow:before {color: black;}#sk-container-id-3 div.sk-toggleable__content {max-height: 0;max-width: 0;overflow: hidden;text-align: left;background-color: #f0f8ff;}#sk-container-id-3 div.sk-toggleable__content pre {margin: 0.2em;color: black;border-radius: 0.25em;background-color: #f0f8ff;}#sk-container-id-3 input.sk-toggleable__control:checked~div.sk-toggleable__content {max-height: 200px;max-width: 100%;overflow: auto;}#sk-container-id-3 input.sk-toggleable__control:checked~label.sk-toggleable__label-arrow:before {content: \"▾\";}#sk-container-id-3 div.sk-estimator input.sk-toggleable__control:checked~label.sk-toggleable__label {background-color: #d4ebff;}#sk-container-id-3 div.sk-label input.sk-toggleable__control:checked~label.sk-toggleable__label {background-color: #d4ebff;}#sk-container-id-3 input.sk-hidden--visually {border: 0;clip: rect(1px 1px 1px 1px);clip: rect(1px, 1px, 1px, 1px);height: 1px;margin: -1px;overflow: hidden;padding: 0;position: absolute;width: 1px;}#sk-container-id-3 div.sk-estimator {font-family: monospace;background-color: #f0f8ff;border: 1px dotted black;border-radius: 0.25em;box-sizing: border-box;margin-bottom: 0.5em;}#sk-container-id-3 div.sk-estimator:hover {background-color: #d4ebff;}#sk-container-id-3 div.sk-parallel-item::after {content: \"\";width: 100%;border-bottom: 1px solid gray;flex-grow: 1;}#sk-container-id-3 div.sk-label:hover label.sk-toggleable__label {background-color: #d4ebff;}#sk-container-id-3 div.sk-serial::before {content: \"\";position: absolute;border-left: 1px solid gray;box-sizing: border-box;top: 0;bottom: 0;left: 50%;z-index: 0;}#sk-container-id-3 div.sk-serial {display: flex;flex-direction: column;align-items: center;background-color: white;padding-right: 0.2em;padding-left: 0.2em;position: relative;}#sk-container-id-3 div.sk-item {position: relative;z-index: 1;}#sk-container-id-3 div.sk-parallel {display: flex;align-items: stretch;justify-content: center;background-color: white;position: relative;}#sk-container-id-3 div.sk-item::before, #sk-container-id-3 div.sk-parallel-item::before {content: \"\";position: absolute;border-left: 1px solid gray;box-sizing: border-box;top: 0;bottom: 0;left: 50%;z-index: -1;}#sk-container-id-3 div.sk-parallel-item {display: flex;flex-direction: column;z-index: 1;position: relative;background-color: white;}#sk-container-id-3 div.sk-parallel-item:first-child::after {align-self: flex-end;width: 50%;}#sk-container-id-3 div.sk-parallel-item:last-child::after {align-self: flex-start;width: 50%;}#sk-container-id-3 div.sk-parallel-item:only-child::after {width: 0;}#sk-container-id-3 div.sk-dashed-wrapped {border: 1px dashed gray;margin: 0 0.4em 0.5em 0.4em;box-sizing: border-box;padding-bottom: 0.4em;background-color: white;}#sk-container-id-3 div.sk-label label {font-family: monospace;font-weight: bold;display: inline-block;line-height: 1.2em;}#sk-container-id-3 div.sk-label-container {text-align: center;}#sk-container-id-3 div.sk-container {/* jupyter's `normalize.less` sets `[hidden] { display: none; }` but bootstrap.min.css set `[hidden] { display: none !important; }` so we also need the `!important` here to be able to override the default hidden behavior on the sphinx rendered scikit-learn.org. See: https://github.com/scikit-learn/scikit-learn/issues/21755 */display: inline-block !important;position: relative;}#sk-container-id-3 div.sk-text-repr-fallback {display: none;}</style><div id=\"sk-container-id-3\" class=\"sk-top-container\"><div class=\"sk-text-repr-fallback\"><pre>Pipeline(steps=[(&#x27;columntransformer&#x27;,\n",
              "                 ColumnTransformer(remainder=&#x27;passthrough&#x27;,\n",
              "                                   transformers=[(&#x27;onehotencoder&#x27;,\n",
              "                                                  OneHotEncoder(categories=[array([&#x27;Audi A4 1.8&#x27;, &#x27;Audi A4 2.0&#x27;, &#x27;Audi A6 2.0&#x27;, &#x27;Audi A8&#x27;,\n",
              "       &#x27;Audi Q3 2.0&#x27;, &#x27;Audi Q7&#x27;, &#x27;Chevrolet Beat&#x27;,\n",
              "       &#x27;Chevrolet Beat Diesel&#x27;, &#x27;Chevrolet Beat LS&#x27;, &#x27;Chevrolet Beat LT&#x27;,\n",
              "       &#x27;Chevrolet Beat PS&#x27;, &#x27;Chevrolet Cruze LTZ&#x27;, &#x27;Chevrolet Enjoy&#x27;,\n",
              "       &#x27;Chevrolet En...\n",
              "       &#x27;Volkswagen Vento Comfortline&#x27;, &#x27;Volkswagen Vento Highline&#x27;,\n",
              "       &#x27;Volkswagen Vento Konekt&#x27;], dtype=object),\n",
              "                                                                            array([&#x27;Audi&#x27;, &#x27;Chevrolet&#x27;, &#x27;Ford&#x27;, &#x27;Honda&#x27;, &#x27;Hyundai&#x27;, &#x27;Mahindra&#x27;,\n",
              "       &#x27;Maruti&#x27;, &#x27;Renault&#x27;, &#x27;Skoda&#x27;, &#x27;Tata&#x27;, &#x27;Toyota&#x27;, &#x27;Volkswagen&#x27;],\n",
              "      dtype=object),\n",
              "                                                                            array([&#x27;Diesel&#x27;, &#x27;LPG&#x27;, &#x27;Petrol&#x27;], dtype=object)]),\n",
              "                                                  [&#x27;name&#x27;, &#x27;company&#x27;,\n",
              "                                                   &#x27;fuel_type&#x27;])])),\n",
              "                (&#x27;linearregression&#x27;, LinearRegression())])</pre><b>In a Jupyter environment, please rerun this cell to show the HTML representation or trust the notebook. <br />On GitHub, the HTML representation is unable to render, please try loading this page with nbviewer.org.</b></div><div class=\"sk-container\" hidden><div class=\"sk-item sk-dashed-wrapped\"><div class=\"sk-label-container\"><div class=\"sk-label sk-toggleable\"><input class=\"sk-toggleable__control sk-hidden--visually\" id=\"sk-estimator-id-7\" type=\"checkbox\" ><label for=\"sk-estimator-id-7\" class=\"sk-toggleable__label sk-toggleable__label-arrow\">Pipeline</label><div class=\"sk-toggleable__content\"><pre>Pipeline(steps=[(&#x27;columntransformer&#x27;,\n",
              "                 ColumnTransformer(remainder=&#x27;passthrough&#x27;,\n",
              "                                   transformers=[(&#x27;onehotencoder&#x27;,\n",
              "                                                  OneHotEncoder(categories=[array([&#x27;Audi A4 1.8&#x27;, &#x27;Audi A4 2.0&#x27;, &#x27;Audi A6 2.0&#x27;, &#x27;Audi A8&#x27;,\n",
              "       &#x27;Audi Q3 2.0&#x27;, &#x27;Audi Q7&#x27;, &#x27;Chevrolet Beat&#x27;,\n",
              "       &#x27;Chevrolet Beat Diesel&#x27;, &#x27;Chevrolet Beat LS&#x27;, &#x27;Chevrolet Beat LT&#x27;,\n",
              "       &#x27;Chevrolet Beat PS&#x27;, &#x27;Chevrolet Cruze LTZ&#x27;, &#x27;Chevrolet Enjoy&#x27;,\n",
              "       &#x27;Chevrolet En...\n",
              "       &#x27;Volkswagen Vento Comfortline&#x27;, &#x27;Volkswagen Vento Highline&#x27;,\n",
              "       &#x27;Volkswagen Vento Konekt&#x27;], dtype=object),\n",
              "                                                                            array([&#x27;Audi&#x27;, &#x27;Chevrolet&#x27;, &#x27;Ford&#x27;, &#x27;Honda&#x27;, &#x27;Hyundai&#x27;, &#x27;Mahindra&#x27;,\n",
              "       &#x27;Maruti&#x27;, &#x27;Renault&#x27;, &#x27;Skoda&#x27;, &#x27;Tata&#x27;, &#x27;Toyota&#x27;, &#x27;Volkswagen&#x27;],\n",
              "      dtype=object),\n",
              "                                                                            array([&#x27;Diesel&#x27;, &#x27;LPG&#x27;, &#x27;Petrol&#x27;], dtype=object)]),\n",
              "                                                  [&#x27;name&#x27;, &#x27;company&#x27;,\n",
              "                                                   &#x27;fuel_type&#x27;])])),\n",
              "                (&#x27;linearregression&#x27;, LinearRegression())])</pre></div></div></div><div class=\"sk-serial\"><div class=\"sk-item sk-dashed-wrapped\"><div class=\"sk-label-container\"><div class=\"sk-label sk-toggleable\"><input class=\"sk-toggleable__control sk-hidden--visually\" id=\"sk-estimator-id-8\" type=\"checkbox\" ><label for=\"sk-estimator-id-8\" class=\"sk-toggleable__label sk-toggleable__label-arrow\">columntransformer: ColumnTransformer</label><div class=\"sk-toggleable__content\"><pre>ColumnTransformer(remainder=&#x27;passthrough&#x27;,\n",
              "                  transformers=[(&#x27;onehotencoder&#x27;,\n",
              "                                 OneHotEncoder(categories=[array([&#x27;Audi A4 1.8&#x27;, &#x27;Audi A4 2.0&#x27;, &#x27;Audi A6 2.0&#x27;, &#x27;Audi A8&#x27;,\n",
              "       &#x27;Audi Q3 2.0&#x27;, &#x27;Audi Q7&#x27;, &#x27;Chevrolet Beat&#x27;,\n",
              "       &#x27;Chevrolet Beat Diesel&#x27;, &#x27;Chevrolet Beat LS&#x27;, &#x27;Chevrolet Beat LT&#x27;,\n",
              "       &#x27;Chevrolet Beat PS&#x27;, &#x27;Chevrolet Cruze LTZ&#x27;, &#x27;Chevrolet Enjoy&#x27;,\n",
              "       &#x27;Chevrolet Enjoy 1.4&#x27;, &#x27;Chevrolet Sail 1.2&#x27;, &#x27;Chevrolet...\n",
              "       &#x27;Volkswagen Polo Highline1.2L&#x27;, &#x27;Volkswagen Polo Trendline&#x27;,\n",
              "       &#x27;Volkswagen Vento Comfortline&#x27;, &#x27;Volkswagen Vento Highline&#x27;,\n",
              "       &#x27;Volkswagen Vento Konekt&#x27;], dtype=object),\n",
              "                                                           array([&#x27;Audi&#x27;, &#x27;Chevrolet&#x27;, &#x27;Ford&#x27;, &#x27;Honda&#x27;, &#x27;Hyundai&#x27;, &#x27;Mahindra&#x27;,\n",
              "       &#x27;Maruti&#x27;, &#x27;Renault&#x27;, &#x27;Skoda&#x27;, &#x27;Tata&#x27;, &#x27;Toyota&#x27;, &#x27;Volkswagen&#x27;],\n",
              "      dtype=object),\n",
              "                                                           array([&#x27;Diesel&#x27;, &#x27;LPG&#x27;, &#x27;Petrol&#x27;], dtype=object)]),\n",
              "                                 [&#x27;name&#x27;, &#x27;company&#x27;, &#x27;fuel_type&#x27;])])</pre></div></div></div><div class=\"sk-parallel\"><div class=\"sk-parallel-item\"><div class=\"sk-item\"><div class=\"sk-label-container\"><div class=\"sk-label sk-toggleable\"><input class=\"sk-toggleable__control sk-hidden--visually\" id=\"sk-estimator-id-9\" type=\"checkbox\" ><label for=\"sk-estimator-id-9\" class=\"sk-toggleable__label sk-toggleable__label-arrow\">onehotencoder</label><div class=\"sk-toggleable__content\"><pre>[&#x27;name&#x27;, &#x27;company&#x27;, &#x27;fuel_type&#x27;]</pre></div></div></div><div class=\"sk-serial\"><div class=\"sk-item\"><div class=\"sk-estimator sk-toggleable\"><input class=\"sk-toggleable__control sk-hidden--visually\" id=\"sk-estimator-id-10\" type=\"checkbox\" ><label for=\"sk-estimator-id-10\" class=\"sk-toggleable__label sk-toggleable__label-arrow\">OneHotEncoder</label><div class=\"sk-toggleable__content\"><pre>OneHotEncoder(categories=[array([&#x27;Audi A4 1.8&#x27;, &#x27;Audi A4 2.0&#x27;, &#x27;Audi A6 2.0&#x27;, &#x27;Audi A8&#x27;,\n",
              "       &#x27;Audi Q3 2.0&#x27;, &#x27;Audi Q7&#x27;, &#x27;Chevrolet Beat&#x27;,\n",
              "       &#x27;Chevrolet Beat Diesel&#x27;, &#x27;Chevrolet Beat LS&#x27;, &#x27;Chevrolet Beat LT&#x27;,\n",
              "       &#x27;Chevrolet Beat PS&#x27;, &#x27;Chevrolet Cruze LTZ&#x27;, &#x27;Chevrolet Enjoy&#x27;,\n",
              "       &#x27;Chevrolet Enjoy 1.4&#x27;, &#x27;Chevrolet Sail 1.2&#x27;, &#x27;Chevrolet Sail UVA&#x27;,\n",
              "       &#x27;Chevrolet Spark&#x27;, &#x27;Chevrolet Spark 1.0&#x27;, &#x27;Chevrolet Spark LS&#x27;,\n",
              "       &#x27;Chevrol...\n",
              "       &#x27;Volkswagen Polo Comfortline&#x27;, &#x27;Volkswagen Polo Highline&#x27;,\n",
              "       &#x27;Volkswagen Polo Highline1.2L&#x27;, &#x27;Volkswagen Polo Trendline&#x27;,\n",
              "       &#x27;Volkswagen Vento Comfortline&#x27;, &#x27;Volkswagen Vento Highline&#x27;,\n",
              "       &#x27;Volkswagen Vento Konekt&#x27;], dtype=object),\n",
              "                          array([&#x27;Audi&#x27;, &#x27;Chevrolet&#x27;, &#x27;Ford&#x27;, &#x27;Honda&#x27;, &#x27;Hyundai&#x27;, &#x27;Mahindra&#x27;,\n",
              "       &#x27;Maruti&#x27;, &#x27;Renault&#x27;, &#x27;Skoda&#x27;, &#x27;Tata&#x27;, &#x27;Toyota&#x27;, &#x27;Volkswagen&#x27;],\n",
              "      dtype=object),\n",
              "                          array([&#x27;Diesel&#x27;, &#x27;LPG&#x27;, &#x27;Petrol&#x27;], dtype=object)])</pre></div></div></div></div></div></div><div class=\"sk-parallel-item\"><div class=\"sk-item\"><div class=\"sk-label-container\"><div class=\"sk-label sk-toggleable\"><input class=\"sk-toggleable__control sk-hidden--visually\" id=\"sk-estimator-id-11\" type=\"checkbox\" ><label for=\"sk-estimator-id-11\" class=\"sk-toggleable__label sk-toggleable__label-arrow\">remainder</label><div class=\"sk-toggleable__content\"><pre>[&#x27;year&#x27;, &#x27;kms_driven&#x27;]</pre></div></div></div><div class=\"sk-serial\"><div class=\"sk-item\"><div class=\"sk-estimator sk-toggleable\"><input class=\"sk-toggleable__control sk-hidden--visually\" id=\"sk-estimator-id-12\" type=\"checkbox\" ><label for=\"sk-estimator-id-12\" class=\"sk-toggleable__label sk-toggleable__label-arrow\">passthrough</label><div class=\"sk-toggleable__content\"><pre>passthrough</pre></div></div></div></div></div></div></div></div><div class=\"sk-item\"><div class=\"sk-estimator sk-toggleable\"><input class=\"sk-toggleable__control sk-hidden--visually\" id=\"sk-estimator-id-13\" type=\"checkbox\" ><label for=\"sk-estimator-id-13\" class=\"sk-toggleable__label sk-toggleable__label-arrow\">LinearRegression</label><div class=\"sk-toggleable__content\"><pre>LinearRegression()</pre></div></div></div></div></div></div></div>"
            ]
          },
          "metadata": {},
          "execution_count": 67
        }
      ],
      "source": [
        "pipe.fit(X_train,y_train)"
      ]
    },
    {
      "cell_type": "code",
      "execution_count": null,
      "metadata": {
        "id": "h3mUsaotWIvi"
      },
      "outputs": [],
      "source": [
        "y_pred=pipe.predict(X_test)"
      ]
    },
    {
      "cell_type": "code",
      "execution_count": null,
      "metadata": {
        "colab": {
          "base_uri": "https://localhost:8080/"
        },
        "id": "t_-cUQG7X3L2",
        "outputId": "6dc40f7a-ff6c-40cc-9990-c73bbe9675e3"
      },
      "outputs": [
        {
          "output_type": "execute_result",
          "data": {
            "text/plain": [
              "0.7668656807080854"
            ]
          },
          "metadata": {},
          "execution_count": 69
        }
      ],
      "source": [
        "r2_score(y_test,y_pred)"
      ]
    },
    {
      "cell_type": "code",
      "source": [
        "# test_size, random_state = exe.sample_comparsion(X, y, column_transformation, model)"
      ],
      "metadata": {
        "id": "y6Rnl9z9Vul0"
      },
      "execution_count": null,
      "outputs": []
    },
    {
      "cell_type": "code",
      "source": [
        "# test_size"
      ],
      "metadata": {
        "id": "gqjxxowoVyff"
      },
      "execution_count": null,
      "outputs": []
    },
    {
      "cell_type": "code",
      "source": [
        "# random_state"
      ],
      "metadata": {
        "id": "O0M_ZL_zVzol"
      },
      "execution_count": null,
      "outputs": []
    },
    {
      "cell_type": "code",
      "execution_count": null,
      "metadata": {
        "id": "0lzzPzvmgcOF",
        "colab": {
          "base_uri": "https://localhost:8080/"
        },
        "outputId": "17219c95-b6aa-4798-cdb6-eaca1b23d0b2"
      },
      "outputs": [
        {
          "output_type": "execute_result",
          "data": {
            "text/plain": [
              "array([424939.54761253])"
            ]
          },
          "metadata": {},
          "execution_count": 73
        }
      ],
      "source": [
        "pipe.predict(pd.DataFrame(columns=X_test.columns,data=np.array(['Maruti Suzuki Swift','Maruti',2019,100,'Petrol']).reshape(1,5)))"
      ]
    },
    {
      "cell_type": "code",
      "execution_count": null,
      "metadata": {
        "id": "T_Le2nV-CrHu",
        "colab": {
          "base_uri": "https://localhost:8080/"
        },
        "outputId": "42b009cd-c93f-4ab3-c284-d7a8fd42e413"
      },
      "outputs": [
        {
          "output_type": "execute_result",
          "data": {
            "text/plain": [
              "0.8477801476657362"
            ]
          },
          "metadata": {},
          "execution_count": 74
        }
      ],
      "source": [
        "X_train,X_test,y_train,y_test=train_test_split(X,y,test_size=0.13,random_state=14)\n",
        "lr=LinearRegression()\n",
        "pipe=make_pipeline(column_transformation,lr)\n",
        "pipe.fit(X_train,y_train)\n",
        "y_pred=pipe.predict(X_test)\n",
        "r2_score(y_test,y_pred)"
      ]
    },
    {
      "cell_type": "code",
      "execution_count": null,
      "metadata": {
        "id": "zYnnpjCOa1gm",
        "colab": {
          "base_uri": "https://localhost:8080/",
          "height": 35
        },
        "outputId": "4fa13736-5da2-4a20-cabb-66f41133c0ea"
      },
      "outputs": [
        {
          "output_type": "execute_result",
          "data": {
            "text/plain": [
              "'/content/drive/MyDrive/3.0 Colab Project/3.0 Github Portfolio Project/Project01-Car Price Predictor/result'"
            ],
            "application/vnd.google.colaboratory.intrinsic+json": {
              "type": "string"
            }
          },
          "metadata": {},
          "execution_count": 75
        }
      ],
      "source": [
        "%pwd"
      ]
    },
    {
      "cell_type": "code",
      "execution_count": null,
      "metadata": {
        "id": "75u9Mw4-a9xh"
      },
      "outputs": [],
      "source": [
        "pickle.dump(pipe,open('LinearRegressionModel.pkl','wb'))"
      ]
    },
    {
      "cell_type": "code",
      "execution_count": null,
      "metadata": {
        "id": "sMVYZadEbQbJ",
        "colab": {
          "base_uri": "https://localhost:8080/"
        },
        "outputId": "3cc65c4c-8ec2-4f75-8feb-8908aeaed642"
      },
      "outputs": [
        {
          "output_type": "execute_result",
          "data": {
            "text/plain": [
              "array([435873.22422507])"
            ]
          },
          "metadata": {},
          "execution_count": 77
        }
      ],
      "source": [
        "pipe.predict(pd.DataFrame(columns=['name','company','year','kms_driven','fuel_type'],data=np.array(['Maruti Suzuki Swift','Maruti',2019,100,'Petrol']).reshape(1,5)))"
      ]
    },
    {
      "cell_type": "code",
      "execution_count": null,
      "metadata": {
        "id": "a7n50oWqbUGH",
        "colab": {
          "base_uri": "https://localhost:8080/"
        },
        "outputId": "4f25bc26-6414-4dfe-cd05-f31403e1d6b3"
      },
      "outputs": [
        {
          "output_type": "execute_result",
          "data": {
            "text/plain": [
              "array(['Audi A4 1.8', 'Audi A4 2.0', 'Audi A6 2.0', 'Audi A8',\n",
              "       'Audi Q3 2.0', 'Audi Q7', 'Chevrolet Beat',\n",
              "       'Chevrolet Beat Diesel', 'Chevrolet Beat LS', 'Chevrolet Beat LT',\n",
              "       'Chevrolet Beat PS', 'Chevrolet Cruze LTZ', 'Chevrolet Enjoy',\n",
              "       'Chevrolet Enjoy 1.4', 'Chevrolet Sail 1.2', 'Chevrolet Sail UVA',\n",
              "       'Chevrolet Spark', 'Chevrolet Spark 1.0', 'Chevrolet Spark LS',\n",
              "       'Chevrolet Spark LT', 'Chevrolet Tavera LS',\n",
              "       'Chevrolet Tavera Neo', 'Ford EcoSport', 'Ford EcoSport Ambiente',\n",
              "       'Ford EcoSport Titanium', 'Ford EcoSport Trend', 'Ford Fiesta',\n",
              "       'Ford Fiesta SXi', 'Ford Figo', 'Ford Figo Diesel',\n",
              "       'Ford Figo Duratorq', 'Ford Figo Petrol', 'Ford Fusion 1.4',\n",
              "       'Ford Ikon 1.3', 'Ford Ikon 1.6', 'Honda Accord', 'Honda Amaze',\n",
              "       'Honda Amaze 1.2', 'Honda Amaze 1.5', 'Honda Brio', 'Honda Brio V',\n",
              "       'Honda Brio VX', 'Honda City', 'Honda City 1.5', 'Honda City SV',\n",
              "       'Honda City VX', 'Honda City ZX', 'Honda Jazz S', 'Honda Jazz VX',\n",
              "       'Honda Mobilio', 'Honda Mobilio S', 'Honda WR V', 'Hyundai Accent',\n",
              "       'Hyundai Accent Executive', 'Hyundai Accent GLE',\n",
              "       'Hyundai Accent GLX', 'Hyundai Creta', 'Hyundai Creta 1.6',\n",
              "       'Hyundai Elantra 1.8', 'Hyundai Elantra SX', 'Hyundai Elite i20',\n",
              "       'Hyundai Eon', 'Hyundai Eon D', 'Hyundai Eon Era',\n",
              "       'Hyundai Eon Magna', 'Hyundai Eon Sportz', 'Hyundai Fluidic Verna',\n",
              "       'Hyundai Getz', 'Hyundai Getz GLE', 'Hyundai Getz Prime',\n",
              "       'Hyundai Grand i10', 'Hyundai Santro', 'Hyundai Santro AE',\n",
              "       'Hyundai Santro Xing', 'Hyundai Sonata Transform', 'Hyundai Verna',\n",
              "       'Hyundai Verna 1.4', 'Hyundai Verna 1.6', 'Hyundai Verna Fluidic',\n",
              "       'Hyundai Verna Transform', 'Hyundai Verna VGT',\n",
              "       'Hyundai Xcent Base', 'Hyundai Xcent SX', 'Hyundai i10',\n",
              "       'Hyundai i10 Era', 'Hyundai i10 Magna', 'Hyundai i10 Sportz',\n",
              "       'Hyundai i20', 'Hyundai i20 Active', 'Hyundai i20 Asta',\n",
              "       'Hyundai i20 Magna', 'Hyundai i20 Select', 'Hyundai i20 Sportz',\n",
              "       'Mahindra Bolero DI', 'Mahindra Bolero Power',\n",
              "       'Mahindra Bolero SLE', 'Mahindra Jeep CL550', 'Mahindra Jeep MM',\n",
              "       'Mahindra KUV100', 'Mahindra KUV100 K8', 'Mahindra Logan',\n",
              "       'Mahindra Logan Diesel', 'Mahindra Quanto C4',\n",
              "       'Mahindra Quanto C8', 'Mahindra Scorpio', 'Mahindra Scorpio 2.6',\n",
              "       'Mahindra Scorpio LX', 'Mahindra Scorpio S10',\n",
              "       'Mahindra Scorpio S4', 'Mahindra Scorpio SLE',\n",
              "       'Mahindra Scorpio SLX', 'Mahindra Scorpio VLX',\n",
              "       'Mahindra Scorpio Vlx', 'Mahindra Scorpio W', 'Mahindra TUV300 T4',\n",
              "       'Mahindra TUV300 T8', 'Mahindra Thar CRDe', 'Mahindra XUV500',\n",
              "       'Mahindra XUV500 W10', 'Mahindra XUV500 W6', 'Mahindra XUV500 W8',\n",
              "       'Mahindra Xylo D2', 'Mahindra Xylo E4', 'Mahindra Xylo E8',\n",
              "       'Maruti Suzuki A', 'Maruti Suzuki Alto', 'Maruti Suzuki Baleno',\n",
              "       'Maruti Suzuki Celerio', 'Maruti Suzuki Ciaz',\n",
              "       'Maruti Suzuki Dzire', 'Maruti Suzuki Eeco',\n",
              "       'Maruti Suzuki Ertiga', 'Maruti Suzuki Esteem',\n",
              "       'Maruti Suzuki Estilo', 'Maruti Suzuki Maruti',\n",
              "       'Maruti Suzuki Omni', 'Maruti Suzuki Ritz', 'Maruti Suzuki S',\n",
              "       'Maruti Suzuki SX4', 'Maruti Suzuki Stingray',\n",
              "       'Maruti Suzuki Swift', 'Maruti Suzuki Versa',\n",
              "       'Maruti Suzuki Vitara', 'Maruti Suzuki Wagon', 'Maruti Suzuki Zen',\n",
              "       'Renault Duster', 'Renault Duster 110', 'Renault Duster 110PS',\n",
              "       'Renault Duster 85', 'Renault Duster 85PS', 'Renault Duster RxL',\n",
              "       'Renault Kwid', 'Renault Kwid 1.0', 'Renault Kwid RXT',\n",
              "       'Renault Lodgy 85', 'Renault Scala RxL', 'Skoda Fabia',\n",
              "       'Skoda Fabia 1.2L', 'Skoda Fabia Classic', 'Skoda Laura',\n",
              "       'Skoda Octavia Classic', 'Skoda Rapid Elegance',\n",
              "       'Skoda Superb 1.8', 'Skoda Yeti Ambition', 'Tata Aria Pleasure',\n",
              "       'Tata Bolt XM', 'Tata Indica', 'Tata Indica V2', 'Tata Indica eV2',\n",
              "       'Tata Indigo CS', 'Tata Indigo LS', 'Tata Indigo LX',\n",
              "       'Tata Indigo Marina', 'Tata Indigo eCS', 'Tata Manza',\n",
              "       'Tata Manza Aqua', 'Tata Manza Aura', 'Tata Manza ELAN',\n",
              "       'Tata Nano', 'Tata Nano Cx', 'Tata Nano GenX', 'Tata Nano LX',\n",
              "       'Tata Nano Lx', 'Tata Sumo Gold', 'Tata Sumo Grande',\n",
              "       'Tata Sumo Victa', 'Tata Tiago Revotorq', 'Tata Tiago Revotron',\n",
              "       'Tata Tigor Revotron', 'Tata Venture EX', 'Tata Vista Quadrajet',\n",
              "       'Tata Zest Quadrajet', 'Tata Zest XE', 'Tata Zest XM',\n",
              "       'Toyota Corolla', 'Toyota Corolla Altis', 'Toyota Corolla H2',\n",
              "       'Toyota Etios', 'Toyota Etios G', 'Toyota Etios GD',\n",
              "       'Toyota Etios Liva', 'Toyota Fortuner', 'Toyota Fortuner 3.0',\n",
              "       'Toyota Innova 2.0', 'Toyota Innova 2.5', 'Toyota Qualis',\n",
              "       'Volkswagen Jetta Comfortline', 'Volkswagen Jetta Highline',\n",
              "       'Volkswagen Passat Diesel', 'Volkswagen Polo',\n",
              "       'Volkswagen Polo Comfortline', 'Volkswagen Polo Highline',\n",
              "       'Volkswagen Polo Highline1.2L', 'Volkswagen Polo Trendline',\n",
              "       'Volkswagen Vento Comfortline', 'Volkswagen Vento Highline',\n",
              "       'Volkswagen Vento Konekt'], dtype=object)"
            ]
          },
          "metadata": {},
          "execution_count": 78
        }
      ],
      "source": [
        "pipe.steps[0][1].transformers[0][1].categories[0]"
      ]
    },
    {
      "cell_type": "code",
      "source": [
        "sklearn.__version__"
      ],
      "metadata": {
        "colab": {
          "base_uri": "https://localhost:8080/",
          "height": 35
        },
        "id": "SlAXIt_N6Am1",
        "outputId": "7a5ce56d-3ceb-42e1-994f-bef2aa79b479"
      },
      "execution_count": null,
      "outputs": [
        {
          "output_type": "execute_result",
          "data": {
            "text/plain": [
              "'1.2.2'"
            ],
            "application/vnd.google.colaboratory.intrinsic+json": {
              "type": "string"
            }
          },
          "metadata": {},
          "execution_count": 79
        }
      ]
    },
    {
      "cell_type": "code",
      "source": [],
      "metadata": {
        "id": "__9GYR9b6BtZ"
      },
      "execution_count": null,
      "outputs": []
    }
  ],
  "metadata": {
    "colab": {
      "provenance": [],
      "mount_file_id": "1UaMkfmKrH0y0idaAezaqag7e_kSDNmCs",
      "authorship_tag": "ABX9TyPCICkraKocMN8wgufWNry4",
      "include_colab_link": true
    },
    "kernelspec": {
      "display_name": "Python 3",
      "name": "python3"
    },
    "language_info": {
      "name": "python"
    }
  },
  "nbformat": 4,
  "nbformat_minor": 0
}